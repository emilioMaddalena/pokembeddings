{
 "cells": [
  {
   "cell_type": "markdown",
   "metadata": {},
   "source": [
    "Pre-process the input data"
   ]
  },
  {
   "cell_type": "code",
   "execution_count": null,
   "metadata": {},
   "outputs": [],
   "source": [
    "import re\n",
    "import pandas as pd\n",
    "from collections import Counter\n",
    "\n",
    "df = pd.read_csv(\"data/pokemon_entries.csv\", encoding=\"utf-16-le\", sep=\"\\t\")\n",
    "\n",
    "# Filter for gen 1\n",
    "df = df.loc[df[\"gen\"] == \"I\"]\n",
    "\n",
    "# Lowercase everything\n",
    "df[\"english_name\"] = df[\"english_name\"].str.lower()\n",
    "df[\"description\"] = df[\"description\"].str.lower()\n",
    "df[\"classification\"] = df[\"classification\"].str.lower()\n",
    "\n",
    "# Append type and classification to description\n",
    "df[\"description\"] = df[\"primary_type\"] + \" \" + df[\"classification\"].replace(\" pokemon\", \"\") + \" \" + df[\"description\"]\n",
    "\n",
    "columns_to_keep = [\n",
    "    \"english_name\",\n",
    "    \"description\",\n",
    "]\n",
    "df = df[columns_to_keep]\n",
    "\n",
    "# Replace all pronouns by the pokemon nouns\n",
    "def transform(row):\n",
    "    pokemon_name = row[\"english_name\"]\n",
    "    return (\n",
    "        row[\"description\"]\n",
    "        .replace(\"’s\", ' is')\n",
    "        .replace(\"'s\", ' is')\n",
    "        .replace(\"it\", f' {pokemon_name}')\n",
    "        .replace(\"its\", pokemon_name)\n",
    "        .replace(\"this pokémon\", pokemon_name)\n",
    "    )\n",
    "df[\"description\"] = df.apply(lambda row: transform(row), axis=1)\n",
    "\n",
    "df"
   ]
  },
  {
   "cell_type": "code",
   "execution_count": 55,
   "metadata": {},
   "outputs": [
    {
     "name": "stdout",
     "output_type": "stream",
     "text": [
      "Number of unique words: 1469\n"
     ]
    }
   ],
   "source": [
    "# Count the number of words\n",
    "def unique_words_counts(text):\n",
    "    # Remove punctuation marks\n",
    "    text = re.sub(r'[^\\w\\s]', '', text)\n",
    "    # Use regular expression to find all words\n",
    "    words = re.findall(r'\\b\\w+\\b', text.lower())\n",
    "    # Count the occurrences of each word\n",
    "    word_counts = Counter(words)\n",
    "    return word_counts\n",
    "\n",
    "# Extract all description strings\n",
    "descriptions = df[\"description\"].values\n",
    "single_string = \" \".join(descriptions)\n",
    "unique_word_count = unique_words_counts(single_string)\n",
    "print(f\"Number of unique words: {len(unique_word_count)}\")"
   ]
  },
  {
   "cell_type": "code",
   "execution_count": 66,
   "metadata": {},
   "outputs": [],
   "source": [
    "save_path = \"data/pokemon_cleansed.csv\"\n",
    "df.to_csv(save_path, index=False)"
   ]
  },
  {
   "cell_type": "code",
   "execution_count": null,
   "metadata": {},
   "outputs": [],
   "source": []
  }
 ],
 "metadata": {
  "kernelspec": {
   "display_name": ".venv",
   "language": "python",
   "name": "python3"
  },
  "language_info": {
   "codemirror_mode": {
    "name": "ipython",
    "version": 3
   },
   "file_extension": ".py",
   "mimetype": "text/x-python",
   "name": "python",
   "nbconvert_exporter": "python",
   "pygments_lexer": "ipython3",
   "version": "3.11.10"
  }
 },
 "nbformat": 4,
 "nbformat_minor": 2
}
