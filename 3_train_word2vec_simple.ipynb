{
 "cells": [
  {
   "cell_type": "code",
   "execution_count": 1,
   "metadata": {},
   "outputs": [],
   "source": [
    "# The goal is to train an embedding with a simple dataset where \n",
    "# the word relationships are very clear."
   ]
  },
  {
   "cell_type": "code",
   "execution_count": 2,
   "metadata": {},
   "outputs": [],
   "source": [
    "import re\n",
    "import string\n",
    "import pandas as pd\n",
    "import tensorflow as tf\n",
    "keras = tf.keras\n",
    "\n",
    "from model import Word2Vec\n",
    "\n",
    "from tensorflow.keras.optimizers import Adam"
   ]
  },
  {
   "cell_type": "code",
   "execution_count": 7,
   "metadata": {},
   "outputs": [
    {
     "data": {
      "text/html": [
       "<div>\n",
       "<style scoped>\n",
       "    .dataframe tbody tr th:only-of-type {\n",
       "        vertical-align: middle;\n",
       "    }\n",
       "\n",
       "    .dataframe tbody tr th {\n",
       "        vertical-align: top;\n",
       "    }\n",
       "\n",
       "    .dataframe thead th {\n",
       "        text-align: right;\n",
       "    }\n",
       "</style>\n",
       "<table border=\"1\" class=\"dataframe\">\n",
       "  <thead>\n",
       "    <tr style=\"text-align: right;\">\n",
       "      <th></th>\n",
       "      <th>description</th>\n",
       "    </tr>\n",
       "  </thead>\n",
       "  <tbody>\n",
       "    <tr>\n",
       "      <th>0</th>\n",
       "      <td>bulbasaur ivysaur venusaur grass poison</td>\n",
       "    </tr>\n",
       "    <tr>\n",
       "      <th>1</th>\n",
       "      <td>charmander charmeleon charizard fire flying</td>\n",
       "    </tr>\n",
       "    <tr>\n",
       "      <th>2</th>\n",
       "      <td>squirtle wartortle blastoise water</td>\n",
       "    </tr>\n",
       "    <tr>\n",
       "      <th>3</th>\n",
       "      <td>caterpie metapod butterfree bug flying</td>\n",
       "    </tr>\n",
       "    <tr>\n",
       "      <th>4</th>\n",
       "      <td>weedle kakuna beedrill bug poison</td>\n",
       "    </tr>\n",
       "    <tr>\n",
       "      <th>5</th>\n",
       "      <td>pidgey pidgeotto pidgeot normal flying</td>\n",
       "    </tr>\n",
       "    <tr>\n",
       "      <th>6</th>\n",
       "      <td>rattata raticate normal</td>\n",
       "    </tr>\n",
       "    <tr>\n",
       "      <th>7</th>\n",
       "      <td>spearow fearow normal flying</td>\n",
       "    </tr>\n",
       "    <tr>\n",
       "      <th>8</th>\n",
       "      <td>ekans arbok poison</td>\n",
       "    </tr>\n",
       "    <tr>\n",
       "      <th>9</th>\n",
       "      <td>pikachu raichu electric</td>\n",
       "    </tr>\n",
       "    <tr>\n",
       "      <th>10</th>\n",
       "      <td>sandshrew sandslash ground</td>\n",
       "    </tr>\n",
       "    <tr>\n",
       "      <th>11</th>\n",
       "      <td>nidoran nidorina nidoqueen poison ground</td>\n",
       "    </tr>\n",
       "    <tr>\n",
       "      <th>12</th>\n",
       "      <td>nidoran nidorino nidoking poison ground</td>\n",
       "    </tr>\n",
       "    <tr>\n",
       "      <th>13</th>\n",
       "      <td>clefairy clefable fairy</td>\n",
       "    </tr>\n",
       "    <tr>\n",
       "      <th>14</th>\n",
       "      <td>vulpix ninetales fire</td>\n",
       "    </tr>\n",
       "    <tr>\n",
       "      <th>15</th>\n",
       "      <td>jigglypuff wigglytuff normal fairy</td>\n",
       "    </tr>\n",
       "    <tr>\n",
       "      <th>16</th>\n",
       "      <td>zubat golbat poison flying</td>\n",
       "    </tr>\n",
       "    <tr>\n",
       "      <th>17</th>\n",
       "      <td>oddish gloom vileplume grass poison</td>\n",
       "    </tr>\n",
       "    <tr>\n",
       "      <th>18</th>\n",
       "      <td>paras parasect bug grass</td>\n",
       "    </tr>\n",
       "    <tr>\n",
       "      <th>19</th>\n",
       "      <td>venonat venomoth bug poison</td>\n",
       "    </tr>\n",
       "    <tr>\n",
       "      <th>20</th>\n",
       "      <td>diglett dugtrio ground</td>\n",
       "    </tr>\n",
       "    <tr>\n",
       "      <th>21</th>\n",
       "      <td>meowth persian normal</td>\n",
       "    </tr>\n",
       "    <tr>\n",
       "      <th>22</th>\n",
       "      <td>psyduck golduck water</td>\n",
       "    </tr>\n",
       "    <tr>\n",
       "      <th>23</th>\n",
       "      <td>mankey primeape fighting</td>\n",
       "    </tr>\n",
       "    <tr>\n",
       "      <th>24</th>\n",
       "      <td>growlithe arcanine fire</td>\n",
       "    </tr>\n",
       "    <tr>\n",
       "      <th>25</th>\n",
       "      <td>poliwag poliwhirl poliwrath water fighting</td>\n",
       "    </tr>\n",
       "    <tr>\n",
       "      <th>26</th>\n",
       "      <td>abra kadabra alakazam psychic</td>\n",
       "    </tr>\n",
       "    <tr>\n",
       "      <th>27</th>\n",
       "      <td>machop machoke machamp fighting</td>\n",
       "    </tr>\n",
       "    <tr>\n",
       "      <th>28</th>\n",
       "      <td>bellsprout weepinbell victreebel grass poison</td>\n",
       "    </tr>\n",
       "    <tr>\n",
       "      <th>29</th>\n",
       "      <td>tentacool tentacruel water poison</td>\n",
       "    </tr>\n",
       "    <tr>\n",
       "      <th>30</th>\n",
       "      <td>geodude graveler golem rock ground</td>\n",
       "    </tr>\n",
       "    <tr>\n",
       "      <th>31</th>\n",
       "      <td>ponyta rapidash fire</td>\n",
       "    </tr>\n",
       "    <tr>\n",
       "      <th>32</th>\n",
       "      <td>slowpoke slowbro water psychic</td>\n",
       "    </tr>\n",
       "    <tr>\n",
       "      <th>33</th>\n",
       "      <td>magnemite magneton electric steel</td>\n",
       "    </tr>\n",
       "    <tr>\n",
       "      <th>34</th>\n",
       "      <td>farfetchd normal flying</td>\n",
       "    </tr>\n",
       "    <tr>\n",
       "      <th>35</th>\n",
       "      <td>doduo dodrio normal flying</td>\n",
       "    </tr>\n",
       "    <tr>\n",
       "      <th>36</th>\n",
       "      <td>seel dewgong water ice</td>\n",
       "    </tr>\n",
       "    <tr>\n",
       "      <th>37</th>\n",
       "      <td>grimer muk poison</td>\n",
       "    </tr>\n",
       "    <tr>\n",
       "      <th>38</th>\n",
       "      <td>shellder cloyster water ice</td>\n",
       "    </tr>\n",
       "    <tr>\n",
       "      <th>39</th>\n",
       "      <td>gastly haunter gengar ghost poison</td>\n",
       "    </tr>\n",
       "    <tr>\n",
       "      <th>40</th>\n",
       "      <td>onix rock ground</td>\n",
       "    </tr>\n",
       "    <tr>\n",
       "      <th>41</th>\n",
       "      <td>drowzee hypno psychic</td>\n",
       "    </tr>\n",
       "    <tr>\n",
       "      <th>42</th>\n",
       "      <td>krabby kingler water</td>\n",
       "    </tr>\n",
       "    <tr>\n",
       "      <th>43</th>\n",
       "      <td>voltorb electrode electric</td>\n",
       "    </tr>\n",
       "    <tr>\n",
       "      <th>44</th>\n",
       "      <td>exeggcute exeggutor grass psychic</td>\n",
       "    </tr>\n",
       "    <tr>\n",
       "      <th>45</th>\n",
       "      <td>cubone marowak ground</td>\n",
       "    </tr>\n",
       "    <tr>\n",
       "      <th>46</th>\n",
       "      <td>hitmonlee fighting</td>\n",
       "    </tr>\n",
       "    <tr>\n",
       "      <th>47</th>\n",
       "      <td>hitmonchan fighting</td>\n",
       "    </tr>\n",
       "    <tr>\n",
       "      <th>48</th>\n",
       "      <td>lickitung normal</td>\n",
       "    </tr>\n",
       "    <tr>\n",
       "      <th>49</th>\n",
       "      <td>koffing weezing poison</td>\n",
       "    </tr>\n",
       "    <tr>\n",
       "      <th>50</th>\n",
       "      <td>rhyhorn rhydon ground rock</td>\n",
       "    </tr>\n",
       "  </tbody>\n",
       "</table>\n",
       "</div>"
      ],
      "text/plain": [
       "                                      description\n",
       "0         bulbasaur ivysaur venusaur grass poison\n",
       "1     charmander charmeleon charizard fire flying\n",
       "2              squirtle wartortle blastoise water\n",
       "3          caterpie metapod butterfree bug flying\n",
       "4               weedle kakuna beedrill bug poison\n",
       "5          pidgey pidgeotto pidgeot normal flying\n",
       "6                         rattata raticate normal\n",
       "7                    spearow fearow normal flying\n",
       "8                              ekans arbok poison\n",
       "9                         pikachu raichu electric\n",
       "10                     sandshrew sandslash ground\n",
       "11       nidoran nidorina nidoqueen poison ground\n",
       "12        nidoran nidorino nidoking poison ground\n",
       "13                        clefairy clefable fairy\n",
       "14                          vulpix ninetales fire\n",
       "15             jigglypuff wigglytuff normal fairy\n",
       "16                     zubat golbat poison flying\n",
       "17            oddish gloom vileplume grass poison\n",
       "18                       paras parasect bug grass\n",
       "19                    venonat venomoth bug poison\n",
       "20                         diglett dugtrio ground\n",
       "21                          meowth persian normal\n",
       "22                          psyduck golduck water\n",
       "23                       mankey primeape fighting\n",
       "24                        growlithe arcanine fire\n",
       "25     poliwag poliwhirl poliwrath water fighting\n",
       "26                  abra kadabra alakazam psychic\n",
       "27                machop machoke machamp fighting\n",
       "28  bellsprout weepinbell victreebel grass poison\n",
       "29              tentacool tentacruel water poison\n",
       "30             geodude graveler golem rock ground\n",
       "31                           ponyta rapidash fire\n",
       "32                 slowpoke slowbro water psychic\n",
       "33              magnemite magneton electric steel\n",
       "34                        farfetchd normal flying\n",
       "35                     doduo dodrio normal flying\n",
       "36                         seel dewgong water ice\n",
       "37                              grimer muk poison\n",
       "38                    shellder cloyster water ice\n",
       "39             gastly haunter gengar ghost poison\n",
       "40                               onix rock ground\n",
       "41                          drowzee hypno psychic\n",
       "42                           krabby kingler water\n",
       "43                     voltorb electrode electric\n",
       "44              exeggcute exeggutor grass psychic\n",
       "45                          cubone marowak ground\n",
       "46                             hitmonlee fighting\n",
       "47                            hitmonchan fighting\n",
       "48                               lickitung normal\n",
       "49                         koffing weezing poison\n",
       "50                     rhyhorn rhydon ground rock"
      ]
     },
     "execution_count": 7,
     "metadata": {},
     "output_type": "execute_result"
    }
   ],
   "source": [
    "# Read json from data/easy_sentences.json\n",
    "df = pd.read_json('data/easy_sentences.json')\n",
    "df.rename(columns={0: 'description'}, inplace=True)\n",
    "df"
   ]
  },
  {
   "cell_type": "code",
   "execution_count": 8,
   "metadata": {},
   "outputs": [
    {
     "name": "stdout",
     "output_type": "stream",
     "text": [
      "[['bulbasaur', 'ivysaur', 'venusaur', 'grass', 'poison'], ['charmander', 'charmeleon', 'charizard', 'fire', 'flying'], ['squirtle', 'wartortle', 'blastoise', 'water'], ['caterpie', 'metapod', 'butterfree', 'bug', 'flying'], ['weedle', 'kakuna', 'beedrill', 'bug', 'poison'], ['pidgey', 'pidgeotto', 'pidgeot', 'normal', 'flying'], ['rattata', 'raticate', 'normal'], ['spearow', 'fearow', 'normal', 'flying'], ['ekans', 'arbok', 'poison'], ['pikachu', 'raichu', 'electric'], ['sandshrew', 'sandslash', 'ground'], ['nidoran', 'nidorina', 'nidoqueen', 'poison', 'ground'], ['nidoran', 'nidorino', 'nidoking', 'poison', 'ground'], ['clefairy', 'clefable', 'fairy'], ['vulpix', 'ninetales', 'fire'], ['jigglypuff', 'wigglytuff', 'normal', 'fairy'], ['zubat', 'golbat', 'poison', 'flying'], ['oddish', 'gloom', 'vileplume', 'grass', 'poison'], ['paras', 'parasect', 'bug', 'grass'], ['venonat', 'venomoth', 'bug', 'poison'], ['diglett', 'dugtrio', 'ground'], ['meowth', 'persian', 'normal'], ['psyduck', 'golduck', 'water'], ['mankey', 'primeape', 'fighting'], ['growlithe', 'arcanine', 'fire'], ['poliwag', 'poliwhirl', 'poliwrath', 'water', 'fighting'], ['abra', 'kadabra', 'alakazam', 'psychic'], ['machop', 'machoke', 'machamp', 'fighting'], ['bellsprout', 'weepinbell', 'victreebel', 'grass', 'poison'], ['tentacool', 'tentacruel', 'water', 'poison'], ['geodude', 'graveler', 'golem', 'rock', 'ground'], ['ponyta', 'rapidash', 'fire'], ['slowpoke', 'slowbro', 'water', 'psychic'], ['magnemite', 'magneton', 'electric', 'steel'], ['farfetchd', 'normal', 'flying'], ['doduo', 'dodrio', 'normal', 'flying'], ['seel', 'dewgong', 'water', 'ice'], ['grimer', 'muk', 'poison'], ['shellder', 'cloyster', 'water', 'ice'], ['gastly', 'haunter', 'gengar', 'ghost', 'poison'], ['onix', 'rock', 'ground'], ['drowzee', 'hypno', 'psychic'], ['krabby', 'kingler', 'water'], ['voltorb', 'electrode', 'electric'], ['exeggcute', 'exeggutor', 'grass', 'psychic'], ['cubone', 'marowak', 'ground'], ['hitmonlee', 'fighting'], ['hitmonchan', 'fighting'], ['lickitung', 'normal'], ['koffing', 'weezing', 'poison'], ['rhyhorn', 'rhydon', 'ground', 'rock']]\n"
     ]
    }
   ],
   "source": [
    "# Put together a training corpus\n",
    "descriptions = list(df[\"description\"].values)\n",
    "\n",
    "# Clean and tokenize text\n",
    "def preprocess_text(text):\n",
    "    text = text.lower()  # lowercase\n",
    "    text = re.sub(f\"[{string.punctuation}]\", \"\", text)  # remove punctuation\n",
    "    words = text.split()  # tokenize into words\n",
    "    return words\n",
    "\n",
    "# Apply to all sentences\n",
    "dataset = [preprocess_text(sentence) for sentence in descriptions]\n",
    "print(dataset)"
   ]
  },
  {
   "cell_type": "code",
   "execution_count": 31,
   "metadata": {},
   "outputs": [
    {
     "name": "stdout",
     "output_type": "stream",
     "text": [
      "Sample word pairs: [('bulbasaur', 'ivysaur'), ('bulbasaur', 'venusaur'), ('bulbasaur', 'grass'), ('bulbasaur', 'poison'), ('ivysaur', 'bulbasaur')]\n",
      "Epoch 1/100\n",
      "10/10 [==============================] - 1s 27ms/step - loss: 0.7038 - accuracy: 0.5457\n",
      "Epoch 2/100\n",
      "10/10 [==============================] - 0s 9ms/step - loss: 0.6678 - accuracy: 0.5834\n",
      "Epoch 3/100\n",
      "10/10 [==============================] - 0s 9ms/step - loss: 0.6405 - accuracy: 0.6329\n",
      "Epoch 4/100\n",
      "10/10 [==============================] - 0s 8ms/step - loss: 0.6157 - accuracy: 0.6706\n",
      "Epoch 5/100\n",
      "10/10 [==============================] - 0s 7ms/step - loss: 0.5954 - accuracy: 0.7033\n",
      "Epoch 6/100\n",
      "10/10 [==============================] - 0s 7ms/step - loss: 0.5778 - accuracy: 0.7485\n",
      "Epoch 7/100\n",
      "10/10 [==============================] - 0s 7ms/step - loss: 0.5640 - accuracy: 0.7678\n",
      "Epoch 8/100\n",
      "10/10 [==============================] - 0s 6ms/step - loss: 0.5526 - accuracy: 0.7821\n",
      "Epoch 9/100\n",
      "10/10 [==============================] - 0s 7ms/step - loss: 0.5432 - accuracy: 0.8030\n",
      "Epoch 10/100\n",
      "10/10 [==============================] - 0s 8ms/step - loss: 0.5358 - accuracy: 0.8256\n",
      "Epoch 11/100\n",
      "10/10 [==============================] - 0s 7ms/step - loss: 0.5293 - accuracy: 0.8416\n",
      "Epoch 12/100\n",
      "10/10 [==============================] - 0s 9ms/step - loss: 0.5241 - accuracy: 0.8500\n",
      "Epoch 13/100\n",
      "10/10 [==============================] - 0s 7ms/step - loss: 0.5199 - accuracy: 0.8550\n",
      "Epoch 14/100\n",
      "10/10 [==============================] - 0s 7ms/step - loss: 0.5159 - accuracy: 0.8592\n",
      "Epoch 15/100\n",
      "10/10 [==============================] - 0s 7ms/step - loss: 0.5128 - accuracy: 0.8684\n",
      "Epoch 16/100\n",
      "10/10 [==============================] - 0s 7ms/step - loss: 0.5097 - accuracy: 0.8726\n",
      "Epoch 17/100\n",
      "10/10 [==============================] - 0s 6ms/step - loss: 0.5073 - accuracy: 0.8751\n",
      "Epoch 18/100\n",
      "10/10 [==============================] - 0s 7ms/step - loss: 0.5051 - accuracy: 0.8843\n",
      "Epoch 19/100\n",
      "10/10 [==============================] - 0s 6ms/step - loss: 0.5029 - accuracy: 0.8902\n",
      "Epoch 20/100\n",
      "10/10 [==============================] - 0s 5ms/step - loss: 0.5014 - accuracy: 0.8860\n",
      "Epoch 21/100\n",
      "10/10 [==============================] - 0s 7ms/step - loss: 0.4996 - accuracy: 0.8902\n",
      "Epoch 22/100\n",
      "10/10 [==============================] - 0s 7ms/step - loss: 0.4983 - accuracy: 0.8885\n",
      "Epoch 23/100\n",
      "10/10 [==============================] - 0s 6ms/step - loss: 0.4971 - accuracy: 0.8860\n",
      "Epoch 24/100\n",
      "10/10 [==============================] - 0s 6ms/step - loss: 0.4959 - accuracy: 0.8852\n",
      "Epoch 25/100\n",
      "10/10 [==============================] - 0s 7ms/step - loss: 0.4950 - accuracy: 0.8902\n",
      "Epoch 26/100\n",
      "10/10 [==============================] - 0s 8ms/step - loss: 0.4941 - accuracy: 0.8894\n",
      "Epoch 27/100\n",
      "10/10 [==============================] - 0s 5ms/step - loss: 0.4934 - accuracy: 0.8885\n",
      "Epoch 28/100\n",
      "10/10 [==============================] - 0s 5ms/step - loss: 0.4927 - accuracy: 0.8910\n",
      "Epoch 29/100\n",
      "10/10 [==============================] - 0s 5ms/step - loss: 0.4920 - accuracy: 0.8927\n",
      "Epoch 30/100\n",
      "10/10 [==============================] - 0s 5ms/step - loss: 0.4915 - accuracy: 0.8935\n",
      "Epoch 31/100\n",
      "10/10 [==============================] - 0s 5ms/step - loss: 0.4906 - accuracy: 0.8935\n",
      "Epoch 32/100\n",
      "10/10 [==============================] - 0s 5ms/step - loss: 0.4902 - accuracy: 0.8952\n",
      "Epoch 33/100\n",
      "10/10 [==============================] - 0s 5ms/step - loss: 0.4898 - accuracy: 0.8961\n",
      "Epoch 34/100\n",
      "10/10 [==============================] - 0s 5ms/step - loss: 0.4892 - accuracy: 0.8952\n",
      "Epoch 35/100\n",
      "10/10 [==============================] - 0s 5ms/step - loss: 0.4890 - accuracy: 0.8919\n",
      "Epoch 36/100\n",
      "10/10 [==============================] - 0s 5ms/step - loss: 0.4887 - accuracy: 0.9011\n",
      "Epoch 37/100\n",
      "10/10 [==============================] - 0s 7ms/step - loss: 0.4883 - accuracy: 0.9044\n",
      "Epoch 38/100\n",
      "10/10 [==============================] - 0s 5ms/step - loss: 0.4878 - accuracy: 0.9053\n",
      "Epoch 39/100\n",
      "10/10 [==============================] - 0s 5ms/step - loss: 0.4878 - accuracy: 0.9036\n",
      "Epoch 40/100\n",
      "10/10 [==============================] - 0s 5ms/step - loss: 0.4873 - accuracy: 0.8994\n",
      "Epoch 41/100\n",
      "10/10 [==============================] - 0s 6ms/step - loss: 0.4873 - accuracy: 0.8977\n",
      "Epoch 42/100\n",
      "10/10 [==============================] - 0s 8ms/step - loss: 0.4868 - accuracy: 0.9003\n",
      "Epoch 43/100\n",
      "10/10 [==============================] - 0s 7ms/step - loss: 0.4867 - accuracy: 0.9028\n",
      "Epoch 44/100\n",
      "10/10 [==============================] - 0s 7ms/step - loss: 0.4863 - accuracy: 0.9053\n",
      "Epoch 45/100\n",
      "10/10 [==============================] - 0s 6ms/step - loss: 0.4859 - accuracy: 0.9061\n",
      "Epoch 46/100\n",
      "10/10 [==============================] - 0s 5ms/step - loss: 0.4859 - accuracy: 0.9061\n",
      "Epoch 47/100\n",
      "10/10 [==============================] - 0s 5ms/step - loss: 0.4857 - accuracy: 0.9028\n",
      "Epoch 48/100\n",
      "10/10 [==============================] - 0s 5ms/step - loss: 0.4854 - accuracy: 0.9095\n",
      "Epoch 49/100\n",
      "10/10 [==============================] - 0s 5ms/step - loss: 0.4853 - accuracy: 0.9103\n",
      "Epoch 50/100\n",
      "10/10 [==============================] - 0s 7ms/step - loss: 0.4850 - accuracy: 0.9103\n",
      "Epoch 51/100\n",
      "10/10 [==============================] - 0s 5ms/step - loss: 0.4849 - accuracy: 0.9128\n",
      "Epoch 52/100\n",
      "10/10 [==============================] - 0s 6ms/step - loss: 0.4847 - accuracy: 0.9095\n",
      "Epoch 53/100\n",
      "10/10 [==============================] - 0s 5ms/step - loss: 0.4844 - accuracy: 0.9111\n",
      "Epoch 54/100\n",
      "10/10 [==============================] - 0s 5ms/step - loss: 0.4844 - accuracy: 0.9061\n",
      "Epoch 55/100\n",
      "10/10 [==============================] - 0s 7ms/step - loss: 0.4841 - accuracy: 0.9053\n",
      "Epoch 56/100\n",
      "10/10 [==============================] - 0s 6ms/step - loss: 0.4840 - accuracy: 0.9011\n",
      "Epoch 57/100\n",
      "10/10 [==============================] - 0s 5ms/step - loss: 0.4837 - accuracy: 0.9019\n",
      "Epoch 58/100\n",
      "10/10 [==============================] - 0s 7ms/step - loss: 0.4836 - accuracy: 0.9053\n",
      "Epoch 59/100\n",
      "10/10 [==============================] - 0s 15ms/step - loss: 0.4835 - accuracy: 0.9095\n",
      "Epoch 60/100\n",
      "10/10 [==============================] - 0s 6ms/step - loss: 0.4834 - accuracy: 0.9095\n",
      "Epoch 61/100\n",
      "10/10 [==============================] - 0s 5ms/step - loss: 0.4832 - accuracy: 0.9095\n",
      "Epoch 62/100\n",
      "10/10 [==============================] - 0s 5ms/step - loss: 0.4833 - accuracy: 0.9111\n",
      "Epoch 63/100\n",
      "10/10 [==============================] - 0s 5ms/step - loss: 0.4829 - accuracy: 0.9103\n",
      "Epoch 64/100\n",
      "10/10 [==============================] - 0s 5ms/step - loss: 0.4830 - accuracy: 0.9162\n",
      "Epoch 65/100\n",
      "10/10 [==============================] - 0s 5ms/step - loss: 0.4827 - accuracy: 0.9179\n",
      "Epoch 66/100\n",
      "10/10 [==============================] - 0s 5ms/step - loss: 0.4828 - accuracy: 0.9162\n",
      "Epoch 67/100\n",
      "10/10 [==============================] - 0s 5ms/step - loss: 0.4825 - accuracy: 0.9153\n",
      "Epoch 68/100\n",
      "10/10 [==============================] - 0s 5ms/step - loss: 0.4824 - accuracy: 0.9120\n",
      "Epoch 69/100\n",
      "10/10 [==============================] - 0s 5ms/step - loss: 0.4824 - accuracy: 0.9111\n",
      "Epoch 70/100\n",
      "10/10 [==============================] - 0s 5ms/step - loss: 0.4822 - accuracy: 0.9111\n",
      "Epoch 71/100\n",
      "10/10 [==============================] - 0s 5ms/step - loss: 0.4821 - accuracy: 0.9128\n",
      "Epoch 72/100\n",
      "10/10 [==============================] - 0s 5ms/step - loss: 0.4820 - accuracy: 0.9111\n",
      "Epoch 73/100\n",
      "10/10 [==============================] - 0s 5ms/step - loss: 0.4820 - accuracy: 0.9128\n",
      "Epoch 74/100\n",
      "10/10 [==============================] - 0s 5ms/step - loss: 0.4820 - accuracy: 0.9137\n",
      "Epoch 75/100\n",
      "10/10 [==============================] - 0s 5ms/step - loss: 0.4819 - accuracy: 0.9145\n",
      "Epoch 76/100\n",
      "10/10 [==============================] - 0s 5ms/step - loss: 0.4818 - accuracy: 0.9103\n",
      "Epoch 77/100\n",
      "10/10 [==============================] - 0s 5ms/step - loss: 0.4818 - accuracy: 0.9137\n",
      "Epoch 78/100\n",
      "10/10 [==============================] - 0s 6ms/step - loss: 0.4817 - accuracy: 0.9145\n",
      "Epoch 79/100\n",
      "10/10 [==============================] - 0s 5ms/step - loss: 0.4815 - accuracy: 0.9170\n",
      "Epoch 80/100\n",
      "10/10 [==============================] - 0s 5ms/step - loss: 0.4814 - accuracy: 0.9162\n",
      "Epoch 81/100\n",
      "10/10 [==============================] - 0s 7ms/step - loss: 0.4817 - accuracy: 0.9153\n",
      "Epoch 82/100\n",
      "10/10 [==============================] - 0s 6ms/step - loss: 0.4815 - accuracy: 0.9170\n",
      "Epoch 83/100\n",
      "10/10 [==============================] - 0s 5ms/step - loss: 0.4812 - accuracy: 0.9153\n",
      "Epoch 84/100\n",
      "10/10 [==============================] - 0s 5ms/step - loss: 0.4813 - accuracy: 0.9145\n",
      "Epoch 85/100\n",
      "10/10 [==============================] - 0s 5ms/step - loss: 0.4813 - accuracy: 0.9153\n",
      "Epoch 86/100\n",
      "10/10 [==============================] - 0s 5ms/step - loss: 0.4813 - accuracy: 0.9153\n",
      "Epoch 87/100\n",
      "10/10 [==============================] - 0s 5ms/step - loss: 0.4813 - accuracy: 0.9179\n",
      "Epoch 88/100\n",
      "10/10 [==============================] - 0s 5ms/step - loss: 0.4811 - accuracy: 0.9195\n",
      "Epoch 89/100\n",
      "10/10 [==============================] - 0s 5ms/step - loss: 0.4811 - accuracy: 0.9195\n",
      "Epoch 90/100\n",
      "10/10 [==============================] - 0s 5ms/step - loss: 0.4811 - accuracy: 0.9195\n",
      "Epoch 91/100\n",
      "10/10 [==============================] - 0s 5ms/step - loss: 0.4810 - accuracy: 0.9153\n",
      "Epoch 92/100\n",
      "10/10 [==============================] - 0s 5ms/step - loss: 0.4810 - accuracy: 0.9153\n",
      "Epoch 93/100\n",
      "10/10 [==============================] - 0s 5ms/step - loss: 0.4810 - accuracy: 0.9137\n",
      "Epoch 94/100\n",
      "10/10 [==============================] - 0s 5ms/step - loss: 0.4808 - accuracy: 0.9111\n",
      "Epoch 95/100\n",
      "10/10 [==============================] - 0s 5ms/step - loss: 0.4808 - accuracy: 0.9103\n",
      "Epoch 96/100\n",
      "10/10 [==============================] - 0s 5ms/step - loss: 0.4808 - accuracy: 0.9120\n",
      "Epoch 97/100\n",
      "10/10 [==============================] - 0s 5ms/step - loss: 0.4808 - accuracy: 0.9145\n",
      "Epoch 98/100\n",
      "10/10 [==============================] - 0s 5ms/step - loss: 0.4806 - accuracy: 0.9103\n",
      "Epoch 99/100\n",
      "10/10 [==============================] - 0s 5ms/step - loss: 0.4808 - accuracy: 0.9128\n",
      "Epoch 100/100\n",
      "10/10 [==============================] - 0s 5ms/step - loss: 0.4807 - accuracy: 0.9120\n"
     ]
    },
    {
     "data": {
      "text/plain": [
       "<keras.src.callbacks.History at 0x35a290350>"
      ]
     },
     "execution_count": 31,
     "metadata": {},
     "output_type": "execute_result"
    }
   ],
   "source": [
    "window_size = 12\n",
    "embedding_dim = 5\n",
    "\n",
    "epochs = 100\n",
    "# Use Adam optimizer with learning rate decay\n",
    "optimizer = tf.keras.optimizers.legacy.Adam(\n",
    "    learning_rate=tf.keras.optimizers.schedules.ExponentialDecay(\n",
    "        initial_learning_rate=1e-3,\n",
    "        decay_steps=1000,\n",
    "        decay_rate=0.96\n",
    "    )\n",
    ")\n",
    "\n",
    "# better with neg examples\n",
    "loss = tf.keras.losses.BinaryCrossentropy(from_logits=True)\n",
    "#loss = tf.keras.losses.CosineSimilarity()\n",
    "\n",
    "word2vec = Word2Vec(dataset, embedding_dim)\n",
    "train_dataset = word2vec.prepare_dataset(window_size)\n",
    "word2vec.compile(optimizer, loss, metrics=['accuracy'])\n",
    "word2vec.fit(train_dataset, epochs=epochs)"
   ]
  },
  {
   "cell_type": "code",
   "execution_count": 32,
   "metadata": {},
   "outputs": [
    {
     "name": "stdout",
     "output_type": "stream",
     "text": [
      "Model: \"word2_vec_5\"\n",
      "_________________________________________________________________\n",
      " Layer (type)                Output Shape              Param #   \n",
      "=================================================================\n",
      " word_embedding (Embedding)  multiple                  635       \n",
      "                                                                 \n",
      " dot_5 (Dot)                 multiple                  0         \n",
      "                                                                 \n",
      "=================================================================\n",
      "Total params: 635 (2.48 KB)\n",
      "Trainable params: 635 (2.48 KB)\n",
      "Non-trainable params: 0 (0.00 Byte)\n",
      "_________________________________________________________________\n"
     ]
    }
   ],
   "source": [
    "word2vec.summary()"
   ]
  },
  {
   "cell_type": "code",
   "execution_count": 33,
   "metadata": {},
   "outputs": [
    {
     "data": {
      "text/plain": [
       "array([ 0.04023632, -0.01369237,  0.05323527, -0.01768201, -0.04289438],\n",
       "      dtype=float32)"
      ]
     },
     "execution_count": 33,
     "metadata": {},
     "output_type": "execute_result"
    }
   ],
   "source": [
    "# Example usage\n",
    "word2vec.get_word_embedding(\"pikachu\")"
   ]
  },
  {
   "cell_type": "code",
   "execution_count": 34,
   "metadata": {},
   "outputs": [
    {
     "data": {
      "text/plain": [
       "0.7020279"
      ]
     },
     "execution_count": 34,
     "metadata": {},
     "output_type": "execute_result"
    }
   ],
   "source": [
    "# Example usage\n",
    "word2vec.compute_similarity(\"bulbasaur\", \"grass\")"
   ]
  },
  {
   "cell_type": "code",
   "execution_count": 35,
   "metadata": {},
   "outputs": [
    {
     "data": {
      "text/plain": [
       "-0.41641998"
      ]
     },
     "execution_count": 35,
     "metadata": {},
     "output_type": "execute_result"
    }
   ],
   "source": [
    "# Example usage\n",
    "word2vec.compute_similarity(\"bulbasaur\", \"fire\")"
   ]
  },
  {
   "cell_type": "code",
   "execution_count": 17,
   "metadata": {},
   "outputs": [
    {
     "name": "stdout",
     "output_type": "stream",
     "text": [
      "['charmander', 'charmeleon', 'charizard', 'vulpix', 'ninetales', 'growlithe', 'arcanine', 'ponyta', 'rapidash', 'magmar', 'flareon', 'moltres', 'squirtle', 'wartortle', 'blastoise', 'psyduck', 'golduck', 'poliwag', 'poliwhirl', 'poliwrath', 'tentacool', 'tentacruel', 'slowpoke', 'slowbro', 'seel', 'dewgong', 'shellder', 'cloyster', 'krabby', 'kingler', 'horsea', 'seadra', 'goldeen', 'seaking', 'staryu', 'starmie', 'magikarp', 'gyarados', 'lapras', 'bulbasaur', 'ivysaur', 'venusaur', 'oddish', 'vileplume', 'paras', 'parasect', 'bellsprout', 'weepinbell', 'victreebel', 'exeggcute', 'exeggutor', 'tangela']\n"
     ]
    }
   ],
   "source": [
    "from evaluation_tests.poke_types import POKEMONS_BY_TYPE\n",
    "\n",
    "all_pokemons = []\n",
    "for pokemons in POKEMONS_BY_TYPE.values():\n",
    "    all_pokemons.extend(pokemons)\n",
    "\n",
    "print(all_pokemons)"
   ]
  },
  {
   "cell_type": "code",
   "execution_count": 20,
   "metadata": {},
   "outputs": [],
   "source": [
    "pokemon_to_type = {}\n",
    "for type_name, pokemon_list in POKEMONS_BY_TYPE.items():\n",
    "    for pokemon in pokemon_list:\n",
    "        pokemon_to_type[pokemon] = type_name\n",
    "\n",
    "poke_types = [pokemon_to_type[poke] for poke in all_pokemons]\n",
    "poke_and_types = {poke: poke_type for poke, poke_type in zip(all_pokemons, poke_types)}"
   ]
  },
  {
   "cell_type": "code",
   "execution_count": 21,
   "metadata": {},
   "outputs": [],
   "source": [
    "pokes_to_remove = []\n",
    "for pokemon in poke_and_types.keys():\n",
    "    if not (pokemon in word2vec.vocabulary):\n",
    "        pokes_to_remove.append(pokemon)         \n",
    "\n",
    "for poke in pokes_to_remove:\n",
    "    poke_and_types.pop(poke)"
   ]
  },
  {
   "cell_type": "code",
   "execution_count": 22,
   "metadata": {},
   "outputs": [
    {
     "data": {
      "text/plain": [
       "52"
      ]
     },
     "execution_count": 22,
     "metadata": {},
     "output_type": "execute_result"
    }
   ],
   "source": [
    "len(all_pokemons)"
   ]
  },
  {
   "cell_type": "code",
   "execution_count": 43,
   "metadata": {},
   "outputs": [
    {
     "data": {
      "application/vnd.plotly.v1+json": {
       "config": {
        "plotlyServerURL": "https://plot.ly"
       },
       "data": [
        {
         "hovertemplate": "<b>%{hovertext}</b><br><br>class=fire<br>x=%{x}<br>y=%{y}<extra></extra>",
         "hovertext": [
          "charmander",
          "charmeleon",
          "charizard",
          "vulpix",
          "ninetales",
          "growlithe",
          "arcanine",
          "ponyta",
          "rapidash"
         ],
         "legendgroup": "fire",
         "marker": {
          "color": "red",
          "opacity": 0.8,
          "size": 8,
          "symbol": "circle"
         },
         "mode": "markers",
         "name": "fire",
         "orientation": "v",
         "showlegend": true,
         "type": "scatter",
         "x": {
          "bdata": "2sgxQDHWK0B1kBhAqGJPQLXwTUDf7jhAEvcaQC/tVEAgAUdA",
          "dtype": "f4"
         },
         "xaxis": "x",
         "y": {
          "bdata": "89r6v7Tg/L84Uva/Uv0Gv/hCur88PQPA6uX9v0aSrL/NFc+/",
          "dtype": "f4"
         },
         "yaxis": "y"
        },
        {
         "hovertemplate": "<b>%{hovertext}</b><br><br>class=water<br>x=%{x}<br>y=%{y}<extra></extra>",
         "hovertext": [
          "squirtle",
          "wartortle",
          "blastoise",
          "psyduck",
          "golduck",
          "poliwag",
          "poliwhirl",
          "poliwrath",
          "tentacool",
          "tentacruel",
          "slowpoke",
          "slowbro",
          "seel",
          "dewgong",
          "shellder",
          "cloyster",
          "krabby",
          "kingler"
         ],
         "legendgroup": "water",
         "marker": {
          "color": "blue",
          "opacity": 0.8,
          "size": 8,
          "symbol": "circle"
         },
         "mode": "markers",
         "name": "water",
         "orientation": "v",
         "showlegend": true,
         "type": "scatter",
         "x": {
          "bdata": "MtB1QG/heECnvV9AlY5LQJlfTEACJXxA8O93QGL3YkCEQolAiMKEQAMcY0BP51pAf1VmQDxJckCwQH5AtIiFQMD4jECUGopA",
          "dtype": "f4"
         },
         "xaxis": "x",
         "y": {
          "bdata": "DTLxvhpgD7/P5f++9nndv5NcBcA8u1K/gTObv7+hPr8Q5Km/Ttelv6kDAb/onJO/sVuav424rb+HxcG/U2tzv8U0br93Lbu/",
          "dtype": "f4"
         },
         "yaxis": "y"
        },
        {
         "hovertemplate": "<b>%{hovertext}</b><br><br>class=grass<br>x=%{x}<br>y=%{y}<extra></extra>",
         "hovertext": [
          "bulbasaur",
          "ivysaur",
          "venusaur",
          "oddish",
          "vileplume",
          "paras",
          "parasect",
          "bellsprout",
          "weepinbell",
          "victreebel",
          "exeggcute",
          "exeggutor"
         ],
         "legendgroup": "grass",
         "marker": {
          "color": "green",
          "opacity": 0.8,
          "size": 8,
          "symbol": "circle"
         },
         "mode": "markers",
         "name": "grass",
         "orientation": "v",
         "showlegend": true,
         "type": "scatter",
         "x": {
          "bdata": "9cjsP/Py9D8FF+I/mtzWPzYo8D8MEAFAWkbhP1AxA0AOwPs/BXf4P+U2CkATo2hA",
          "dtype": "f4"
         },
         "xaxis": "x",
         "y": {
          "bdata": "IbvUvvjFMr5daae+KuwWPkT9DL/gHEW+DXiRvsqxnjzMXRy+cUqhvbke779WrQXA",
          "dtype": "f4"
         },
         "yaxis": "y"
        }
       ],
       "layout": {
        "legend": {
         "title": {
          "text": "class"
         },
         "tracegroupgap": 0
        },
        "template": {
         "data": {
          "bar": [
           {
            "error_x": {
             "color": "#2a3f5f"
            },
            "error_y": {
             "color": "#2a3f5f"
            },
            "marker": {
             "line": {
              "color": "#E5ECF6",
              "width": 0.5
             },
             "pattern": {
              "fillmode": "overlay",
              "size": 10,
              "solidity": 0.2
             }
            },
            "type": "bar"
           }
          ],
          "barpolar": [
           {
            "marker": {
             "line": {
              "color": "#E5ECF6",
              "width": 0.5
             },
             "pattern": {
              "fillmode": "overlay",
              "size": 10,
              "solidity": 0.2
             }
            },
            "type": "barpolar"
           }
          ],
          "carpet": [
           {
            "aaxis": {
             "endlinecolor": "#2a3f5f",
             "gridcolor": "white",
             "linecolor": "white",
             "minorgridcolor": "white",
             "startlinecolor": "#2a3f5f"
            },
            "baxis": {
             "endlinecolor": "#2a3f5f",
             "gridcolor": "white",
             "linecolor": "white",
             "minorgridcolor": "white",
             "startlinecolor": "#2a3f5f"
            },
            "type": "carpet"
           }
          ],
          "choropleth": [
           {
            "colorbar": {
             "outlinewidth": 0,
             "ticks": ""
            },
            "type": "choropleth"
           }
          ],
          "contour": [
           {
            "colorbar": {
             "outlinewidth": 0,
             "ticks": ""
            },
            "colorscale": [
             [
              0,
              "#0d0887"
             ],
             [
              0.1111111111111111,
              "#46039f"
             ],
             [
              0.2222222222222222,
              "#7201a8"
             ],
             [
              0.3333333333333333,
              "#9c179e"
             ],
             [
              0.4444444444444444,
              "#bd3786"
             ],
             [
              0.5555555555555556,
              "#d8576b"
             ],
             [
              0.6666666666666666,
              "#ed7953"
             ],
             [
              0.7777777777777778,
              "#fb9f3a"
             ],
             [
              0.8888888888888888,
              "#fdca26"
             ],
             [
              1,
              "#f0f921"
             ]
            ],
            "type": "contour"
           }
          ],
          "contourcarpet": [
           {
            "colorbar": {
             "outlinewidth": 0,
             "ticks": ""
            },
            "type": "contourcarpet"
           }
          ],
          "heatmap": [
           {
            "colorbar": {
             "outlinewidth": 0,
             "ticks": ""
            },
            "colorscale": [
             [
              0,
              "#0d0887"
             ],
             [
              0.1111111111111111,
              "#46039f"
             ],
             [
              0.2222222222222222,
              "#7201a8"
             ],
             [
              0.3333333333333333,
              "#9c179e"
             ],
             [
              0.4444444444444444,
              "#bd3786"
             ],
             [
              0.5555555555555556,
              "#d8576b"
             ],
             [
              0.6666666666666666,
              "#ed7953"
             ],
             [
              0.7777777777777778,
              "#fb9f3a"
             ],
             [
              0.8888888888888888,
              "#fdca26"
             ],
             [
              1,
              "#f0f921"
             ]
            ],
            "type": "heatmap"
           }
          ],
          "histogram": [
           {
            "marker": {
             "pattern": {
              "fillmode": "overlay",
              "size": 10,
              "solidity": 0.2
             }
            },
            "type": "histogram"
           }
          ],
          "histogram2d": [
           {
            "colorbar": {
             "outlinewidth": 0,
             "ticks": ""
            },
            "colorscale": [
             [
              0,
              "#0d0887"
             ],
             [
              0.1111111111111111,
              "#46039f"
             ],
             [
              0.2222222222222222,
              "#7201a8"
             ],
             [
              0.3333333333333333,
              "#9c179e"
             ],
             [
              0.4444444444444444,
              "#bd3786"
             ],
             [
              0.5555555555555556,
              "#d8576b"
             ],
             [
              0.6666666666666666,
              "#ed7953"
             ],
             [
              0.7777777777777778,
              "#fb9f3a"
             ],
             [
              0.8888888888888888,
              "#fdca26"
             ],
             [
              1,
              "#f0f921"
             ]
            ],
            "type": "histogram2d"
           }
          ],
          "histogram2dcontour": [
           {
            "colorbar": {
             "outlinewidth": 0,
             "ticks": ""
            },
            "colorscale": [
             [
              0,
              "#0d0887"
             ],
             [
              0.1111111111111111,
              "#46039f"
             ],
             [
              0.2222222222222222,
              "#7201a8"
             ],
             [
              0.3333333333333333,
              "#9c179e"
             ],
             [
              0.4444444444444444,
              "#bd3786"
             ],
             [
              0.5555555555555556,
              "#d8576b"
             ],
             [
              0.6666666666666666,
              "#ed7953"
             ],
             [
              0.7777777777777778,
              "#fb9f3a"
             ],
             [
              0.8888888888888888,
              "#fdca26"
             ],
             [
              1,
              "#f0f921"
             ]
            ],
            "type": "histogram2dcontour"
           }
          ],
          "mesh3d": [
           {
            "colorbar": {
             "outlinewidth": 0,
             "ticks": ""
            },
            "type": "mesh3d"
           }
          ],
          "parcoords": [
           {
            "line": {
             "colorbar": {
              "outlinewidth": 0,
              "ticks": ""
             }
            },
            "type": "parcoords"
           }
          ],
          "pie": [
           {
            "automargin": true,
            "type": "pie"
           }
          ],
          "scatter": [
           {
            "fillpattern": {
             "fillmode": "overlay",
             "size": 10,
             "solidity": 0.2
            },
            "type": "scatter"
           }
          ],
          "scatter3d": [
           {
            "line": {
             "colorbar": {
              "outlinewidth": 0,
              "ticks": ""
             }
            },
            "marker": {
             "colorbar": {
              "outlinewidth": 0,
              "ticks": ""
             }
            },
            "type": "scatter3d"
           }
          ],
          "scattercarpet": [
           {
            "marker": {
             "colorbar": {
              "outlinewidth": 0,
              "ticks": ""
             }
            },
            "type": "scattercarpet"
           }
          ],
          "scattergeo": [
           {
            "marker": {
             "colorbar": {
              "outlinewidth": 0,
              "ticks": ""
             }
            },
            "type": "scattergeo"
           }
          ],
          "scattergl": [
           {
            "marker": {
             "colorbar": {
              "outlinewidth": 0,
              "ticks": ""
             }
            },
            "type": "scattergl"
           }
          ],
          "scattermap": [
           {
            "marker": {
             "colorbar": {
              "outlinewidth": 0,
              "ticks": ""
             }
            },
            "type": "scattermap"
           }
          ],
          "scattermapbox": [
           {
            "marker": {
             "colorbar": {
              "outlinewidth": 0,
              "ticks": ""
             }
            },
            "type": "scattermapbox"
           }
          ],
          "scatterpolar": [
           {
            "marker": {
             "colorbar": {
              "outlinewidth": 0,
              "ticks": ""
             }
            },
            "type": "scatterpolar"
           }
          ],
          "scatterpolargl": [
           {
            "marker": {
             "colorbar": {
              "outlinewidth": 0,
              "ticks": ""
             }
            },
            "type": "scatterpolargl"
           }
          ],
          "scatterternary": [
           {
            "marker": {
             "colorbar": {
              "outlinewidth": 0,
              "ticks": ""
             }
            },
            "type": "scatterternary"
           }
          ],
          "surface": [
           {
            "colorbar": {
             "outlinewidth": 0,
             "ticks": ""
            },
            "colorscale": [
             [
              0,
              "#0d0887"
             ],
             [
              0.1111111111111111,
              "#46039f"
             ],
             [
              0.2222222222222222,
              "#7201a8"
             ],
             [
              0.3333333333333333,
              "#9c179e"
             ],
             [
              0.4444444444444444,
              "#bd3786"
             ],
             [
              0.5555555555555556,
              "#d8576b"
             ],
             [
              0.6666666666666666,
              "#ed7953"
             ],
             [
              0.7777777777777778,
              "#fb9f3a"
             ],
             [
              0.8888888888888888,
              "#fdca26"
             ],
             [
              1,
              "#f0f921"
             ]
            ],
            "type": "surface"
           }
          ],
          "table": [
           {
            "cells": {
             "fill": {
              "color": "#EBF0F8"
             },
             "line": {
              "color": "white"
             }
            },
            "header": {
             "fill": {
              "color": "#C8D4E3"
             },
             "line": {
              "color": "white"
             }
            },
            "type": "table"
           }
          ]
         },
         "layout": {
          "annotationdefaults": {
           "arrowcolor": "#2a3f5f",
           "arrowhead": 0,
           "arrowwidth": 1
          },
          "autotypenumbers": "strict",
          "coloraxis": {
           "colorbar": {
            "outlinewidth": 0,
            "ticks": ""
           }
          },
          "colorscale": {
           "diverging": [
            [
             0,
             "#8e0152"
            ],
            [
             0.1,
             "#c51b7d"
            ],
            [
             0.2,
             "#de77ae"
            ],
            [
             0.3,
             "#f1b6da"
            ],
            [
             0.4,
             "#fde0ef"
            ],
            [
             0.5,
             "#f7f7f7"
            ],
            [
             0.6,
             "#e6f5d0"
            ],
            [
             0.7,
             "#b8e186"
            ],
            [
             0.8,
             "#7fbc41"
            ],
            [
             0.9,
             "#4d9221"
            ],
            [
             1,
             "#276419"
            ]
           ],
           "sequential": [
            [
             0,
             "#0d0887"
            ],
            [
             0.1111111111111111,
             "#46039f"
            ],
            [
             0.2222222222222222,
             "#7201a8"
            ],
            [
             0.3333333333333333,
             "#9c179e"
            ],
            [
             0.4444444444444444,
             "#bd3786"
            ],
            [
             0.5555555555555556,
             "#d8576b"
            ],
            [
             0.6666666666666666,
             "#ed7953"
            ],
            [
             0.7777777777777778,
             "#fb9f3a"
            ],
            [
             0.8888888888888888,
             "#fdca26"
            ],
            [
             1,
             "#f0f921"
            ]
           ],
           "sequentialminus": [
            [
             0,
             "#0d0887"
            ],
            [
             0.1111111111111111,
             "#46039f"
            ],
            [
             0.2222222222222222,
             "#7201a8"
            ],
            [
             0.3333333333333333,
             "#9c179e"
            ],
            [
             0.4444444444444444,
             "#bd3786"
            ],
            [
             0.5555555555555556,
             "#d8576b"
            ],
            [
             0.6666666666666666,
             "#ed7953"
            ],
            [
             0.7777777777777778,
             "#fb9f3a"
            ],
            [
             0.8888888888888888,
             "#fdca26"
            ],
            [
             1,
             "#f0f921"
            ]
           ]
          },
          "colorway": [
           "#636efa",
           "#EF553B",
           "#00cc96",
           "#ab63fa",
           "#FFA15A",
           "#19d3f3",
           "#FF6692",
           "#B6E880",
           "#FF97FF",
           "#FECB52"
          ],
          "font": {
           "color": "#2a3f5f"
          },
          "geo": {
           "bgcolor": "white",
           "lakecolor": "white",
           "landcolor": "#E5ECF6",
           "showlakes": true,
           "showland": true,
           "subunitcolor": "white"
          },
          "hoverlabel": {
           "align": "left"
          },
          "hovermode": "closest",
          "mapbox": {
           "style": "light"
          },
          "paper_bgcolor": "white",
          "plot_bgcolor": "#E5ECF6",
          "polar": {
           "angularaxis": {
            "gridcolor": "white",
            "linecolor": "white",
            "ticks": ""
           },
           "bgcolor": "#E5ECF6",
           "radialaxis": {
            "gridcolor": "white",
            "linecolor": "white",
            "ticks": ""
           }
          },
          "scene": {
           "xaxis": {
            "backgroundcolor": "#E5ECF6",
            "gridcolor": "white",
            "gridwidth": 2,
            "linecolor": "white",
            "showbackground": true,
            "ticks": "",
            "zerolinecolor": "white"
           },
           "yaxis": {
            "backgroundcolor": "#E5ECF6",
            "gridcolor": "white",
            "gridwidth": 2,
            "linecolor": "white",
            "showbackground": true,
            "ticks": "",
            "zerolinecolor": "white"
           },
           "zaxis": {
            "backgroundcolor": "#E5ECF6",
            "gridcolor": "white",
            "gridwidth": 2,
            "linecolor": "white",
            "showbackground": true,
            "ticks": "",
            "zerolinecolor": "white"
           }
          },
          "shapedefaults": {
           "line": {
            "color": "#2a3f5f"
           }
          },
          "ternary": {
           "aaxis": {
            "gridcolor": "white",
            "linecolor": "white",
            "ticks": ""
           },
           "baxis": {
            "gridcolor": "white",
            "linecolor": "white",
            "ticks": ""
           },
           "bgcolor": "#E5ECF6",
           "caxis": {
            "gridcolor": "white",
            "linecolor": "white",
            "ticks": ""
           }
          },
          "title": {
           "x": 0.05
          },
          "xaxis": {
           "automargin": true,
           "gridcolor": "white",
           "linecolor": "white",
           "ticks": "",
           "title": {
            "standoff": 15
           },
           "zerolinecolor": "white",
           "zerolinewidth": 2
          },
          "yaxis": {
           "automargin": true,
           "gridcolor": "white",
           "linecolor": "white",
           "ticks": "",
           "title": {
            "standoff": 15
           },
           "zerolinecolor": "white",
           "zerolinewidth": 2
          }
         }
        },
        "title": {
         "text": "projected embeddings"
        },
        "xaxis": {
         "anchor": "y",
         "domain": [
          0,
          1
         ],
         "title": {
          "text": "x"
         }
        },
        "yaxis": {
         "anchor": "x",
         "domain": [
          0,
          1
         ],
         "title": {
          "text": "y"
         }
        }
       }
      }
     },
     "metadata": {},
     "output_type": "display_data"
    }
   ],
   "source": [
    "from model_utils import visualize_embeddings\n",
    "\n",
    "visualize_embeddings(word2vec, dim=2, words=poke_and_types, rnd_seed=123)"
   ]
  },
  {
   "cell_type": "code",
   "execution_count": 13,
   "metadata": {},
   "outputs": [
    {
     "name": "stdout",
     "output_type": "stream",
     "text": [
      "INFO:tensorflow:Assets written to: ./saved_model/assets\n"
     ]
    },
    {
     "name": "stderr",
     "output_type": "stream",
     "text": [
      "INFO:tensorflow:Assets written to: ./saved_model/assets\n"
     ]
    }
   ],
   "source": [
    "\n",
    "# Save the model to a directory\n",
    "model_save_path = \"./saved_model\"\n",
    "word2vec.save(model_save_path)"
   ]
  },
  {
   "cell_type": "code",
   "execution_count": null,
   "metadata": {},
   "outputs": [],
   "source": []
  }
 ],
 "metadata": {
  "kernelspec": {
   "display_name": ".venv",
   "language": "python",
   "name": "python3"
  },
  "language_info": {
   "codemirror_mode": {
    "name": "ipython",
    "version": 3
   },
   "file_extension": ".py",
   "mimetype": "text/x-python",
   "name": "python",
   "nbconvert_exporter": "python",
   "pygments_lexer": "ipython3",
   "version": "3.11.10"
  }
 },
 "nbformat": 4,
 "nbformat_minor": 2
}
