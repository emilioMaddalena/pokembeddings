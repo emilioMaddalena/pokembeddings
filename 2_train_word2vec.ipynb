{
 "cells": [
  {
   "cell_type": "code",
   "execution_count": 1,
   "metadata": {},
   "outputs": [],
   "source": [
    "import re\n",
    "import string\n",
    "import pandas as pd\n",
    "import tensorflow as tf\n",
    "keras = tf.keras\n",
    "\n",
    "from model import Word2Vec\n",
    "\n",
    "from tensorflow.keras.optimizers import Adam"
   ]
  },
  {
   "cell_type": "code",
   "execution_count": 2,
   "metadata": {},
   "outputs": [
    {
     "data": {
      "text/html": [
       "<div>\n",
       "<style scoped>\n",
       "    .dataframe tbody tr th:only-of-type {\n",
       "        vertical-align: middle;\n",
       "    }\n",
       "\n",
       "    .dataframe tbody tr th {\n",
       "        vertical-align: top;\n",
       "    }\n",
       "\n",
       "    .dataframe thead th {\n",
       "        text-align: right;\n",
       "    }\n",
       "</style>\n",
       "<table border=\"1\" class=\"dataframe\">\n",
       "  <thead>\n",
       "    <tr style=\"text-align: right;\">\n",
       "      <th></th>\n",
       "      <th>english_name</th>\n",
       "      <th>description</th>\n",
       "    </tr>\n",
       "  </thead>\n",
       "  <tbody>\n",
       "    <tr>\n",
       "      <th>0</th>\n",
       "      <td>bulbasaur</td>\n",
       "      <td>grass seed pokémon there is a plant seed on  b...</td>\n",
       "    </tr>\n",
       "    <tr>\n",
       "      <th>1</th>\n",
       "      <td>ivysaur</td>\n",
       "      <td>grass seed pokémon when the bulb on  ivysaurs ...</td>\n",
       "    </tr>\n",
       "    <tr>\n",
       "      <th>2</th>\n",
       "      <td>venusaur</td>\n",
       "      <td>grass seed pokémon  venusaurs plant blooms whe...</td>\n",
       "    </tr>\n",
       "    <tr>\n",
       "      <th>3</th>\n",
       "      <td>charmander</td>\n",
       "      <td>fire lizard pokémon  charmander has a preferen...</td>\n",
       "    </tr>\n",
       "    <tr>\n",
       "      <th>4</th>\n",
       "      <td>charmeleon</td>\n",
       "      <td>fire flame pokémon  charmeleon has a barbaric ...</td>\n",
       "    </tr>\n",
       "    <tr>\n",
       "      <th>...</th>\n",
       "      <td>...</td>\n",
       "      <td>...</td>\n",
       "    </tr>\n",
       "    <tr>\n",
       "      <th>146</th>\n",
       "      <td>dratini</td>\n",
       "      <td>dragon dragon pokémon dratini dwells near bodi...</td>\n",
       "    </tr>\n",
       "    <tr>\n",
       "      <th>147</th>\n",
       "      <td>dragonair</td>\n",
       "      <td>dragon dragon pokémon dragonair lives in prist...</td>\n",
       "    </tr>\n",
       "    <tr>\n",
       "      <th>148</th>\n",
       "      <td>dragonite</td>\n",
       "      <td>dragon dragon pokémon  dragonite is a kindhear...</td>\n",
       "    </tr>\n",
       "    <tr>\n",
       "      <th>149</th>\n",
       "      <td>mewtwo</td>\n",
       "      <td>psychic genetic pokémon  mewtwos dna is almost...</td>\n",
       "    </tr>\n",
       "    <tr>\n",
       "      <th>150</th>\n",
       "      <td>mew</td>\n",
       "      <td>psychic new species pokémon when viewed throug...</td>\n",
       "    </tr>\n",
       "  </tbody>\n",
       "</table>\n",
       "<p>151 rows × 2 columns</p>\n",
       "</div>"
      ],
      "text/plain": [
       "    english_name                                        description\n",
       "0      bulbasaur  grass seed pokémon there is a plant seed on  b...\n",
       "1        ivysaur  grass seed pokémon when the bulb on  ivysaurs ...\n",
       "2       venusaur  grass seed pokémon  venusaurs plant blooms whe...\n",
       "3     charmander  fire lizard pokémon  charmander has a preferen...\n",
       "4     charmeleon  fire flame pokémon  charmeleon has a barbaric ...\n",
       "..           ...                                                ...\n",
       "146      dratini  dragon dragon pokémon dratini dwells near bodi...\n",
       "147    dragonair  dragon dragon pokémon dragonair lives in prist...\n",
       "148    dragonite  dragon dragon pokémon  dragonite is a kindhear...\n",
       "149       mewtwo  psychic genetic pokémon  mewtwos dna is almost...\n",
       "150          mew  psychic new species pokémon when viewed throug...\n",
       "\n",
       "[151 rows x 2 columns]"
      ]
     },
     "execution_count": 2,
     "metadata": {},
     "output_type": "execute_result"
    }
   ],
   "source": [
    "df = pd.read_csv(\"data/pokemon_cleansed.csv\")\n",
    "df"
   ]
  },
  {
   "cell_type": "code",
   "execution_count": 3,
   "metadata": {},
   "outputs": [
    {
     "name": "stdout",
     "output_type": "stream",
     "text": [
      "[['grass', 'seed', 'pokémon', 'there', 'is', 'a', 'plant', 'seed', 'on', 'bulbasaurs', 'back', 'right', 'from', 'the', 'day', 'bulbasaur', 'is', 'born', 'the', 'seed', 'slowly', 'grows', 'larger'], ['grass', 'seed', 'pokémon', 'when', 'the', 'bulb', 'on', 'ivysaurs', 'back', 'grows', 'large', 'ivysaur', 'appears', 'to', 'lose', 'the', 'abil', 'ivysaury', 'to', 'stand', 'on', 'ivysaurs', 'hind', 'legs'], ['grass', 'seed', 'pokémon', 'venusaurs', 'plant', 'blooms', 'when', 'venusaur', 'is', 'absorbing', 'solar', 'energy', 'venusaur', 'stays', 'on', 'the', 'move', 'to', 'seek', 'sunlight'], ['fire', 'lizard', 'pokémon', 'charmander', 'has', 'a', 'preference', 'for', 'hot', 'things', 'when', 'charmander', 'rains', 'steam', 'is', 'said', 'to', 'spout', 'from', 'the', 'tip', 'of', 'charmanders', 'tail'], ['fire', 'flame', 'pokémon', 'charmeleon', 'has', 'a', 'barbaric', 'nature', 'in', 'battle', 'charmeleon', 'whips', 'charmeleons', 'fiery', 'tail', 'around', 'and', 'slashes', 'away', 'w', 'charmeleonh', 'sharp', 'claws'], ['fire', 'flame', 'pokémon', 'charizard', 'sp', 'charizards', 'fire', 'that', 'is', 'hot', 'enough', 'to', 'melt', 'boulders', 'charizard', 'may', 'cause', 'forest', 'fires', 'by', 'blowing', 'flames'], ['water', 'tiny', 'turtle', 'pokémon', 'when', 'squirtle', 'retracts', 'squirtles', 'long', 'neck', 'into', 'squirtles', 'shell', 'squirtle', 'squirts', 'out', 'water', 'w', 'squirtleh', 'vigorous', 'force'], ['water', 'turtle', 'pokémon', 'wartortle', 'is', 'recognized', 'as', 'a', 'symbol', 'of', 'longev', 'wartortley', 'if', 'wartortles', 'shell', 'has', 'algae', 'on', 'wartortle', 'that', 'wartortle', 'is', 'very', 'old'], ['water', 'shellfish', 'pokémon', 'blastoise', 'crushes', 'blastoises', 'foe', 'under', 'blastoises', 'heavy', 'body', 'to', 'cause', 'fainting', 'in', 'a', 'pinch', 'blastoise', 'will', 'w', 'blastoisehdraw', 'inside', 'blastoises', 'shell'], ['bug', 'worm', 'pokémon', 'for', 'protection', 'caterpie', 'releases', 'a', 'horrible', 'stench', 'from', 'the', 'antenna', 'on', 'caterpies', 'head', 'to', 'drive', 'away', 'enemies'], ['bug', 'cocoon', 'pokémon', 'metapod', 'is', 'wa', 'metapoding', 'for', 'the', 'moment', 'to', 'evolve', 'at', 'this', 'stage', 'metapod', 'can', 'only', 'harden', 'so', 'metapod', 'remains', 'motionless', 'to', 'avoid', 'attack'], ['bug', 'butterfly', 'pokémon', 'in', 'battle', 'butterfree', 'flaps', 'butterfrees', 'wings', 'at', 'great', 'speed', 'to', 'release', 'highly', 'toxic', 'dust', 'into', 'the', 'air'], ['bug', 'hairy', 'pokémon', 'beware', 'of', 'the', 'sharp', 'stinger', 'on', 'weedles', 'head', 'weedle', 'hides', 'in', 'grass', 'and', 'bushes', 'where', 'weedle', 'eats', 'leaves'], ['bug', 'cocoon', 'pokémon', 'able', 'to', 'move', 'only', 'slightly', 'when', 'endangered', 'kakuna', 'may', 'stick', 'out', 'kakunas', 'stinger', 'and', 'poison', 'kakunas', 'enemy'], ['bug', 'poison', 'bee', 'pokémon', 'beedrill', 'has', 'three', 'poisonous', 'stingers', 'on', 'beedrills', 'forelegs', 'and', 'beedrills', 'tail', 'they', 'are', 'used', 'to', 'jab', 'beedrills', 'enemy', 'repeatedly'], ['normal', 'tiny', 'bird', 'pokémon', 'very', 'docile', 'if', 'attacked', 'pidgey', 'will', 'often', 'kick', 'up', 'sand', 'to', 'protect', 'pidgeyself', 'rather', 'than', 'fight', 'back'], ['normal', 'bird', 'pokémon', 'pidgeotto', 'is', 'full', 'of', 'v', 'pidgeottoal', 'pidgeottoy', 'pidgeotto', 'constantly', 'flies', 'around', 'pidgeottos', 'large', 'terr', 'pidgeottoory', 'in', 'search', 'of', 'prey'], ['normal', 'bird', 'pokémon', 'pidgeot', 'flies', 'at', 'mach', '2', 'speed', 'seeking', 'prey', 'pidgeots', 'large', 'talons', 'are', 'feared', 'as', 'wicked', 'weapons'], ['normal', 'mouse', 'pokémon', 'will', 'chew', 'on', 'anything', 'w', 'rattatah', 'rattatas', 'fangs', 'if', 'you', 'see', 'one', 'you', 'can', 'be', 'certain', 'that', '40', 'more', 'live', 'in', 'the', 'area'], ['normal', 'mouse', 'pokémon', 'raticates', 'hind', 'feet', 'are', 'webbed', 'they', 'act', 'as', 'flippers', 'so', 'raticate', 'can', 'swim', 'in', 'rivers', 'and', 'hunt', 'for', 'prey'], ['normal', 'tiny', 'bird', 'pokémon', 'inept', 'at', 'flying', 'high', 'however', 'spearow', 'can', 'fly', 'around', 'very', 'fast', 'to', 'protect', 'spearows', 'terr', 'spearowory'], ['normal', 'beak', 'pokémon', 'a', 'pokémon', 'that', 'dates', 'back', 'many', 'years', 'if', 'fearow', 'senses', 'danger', 'fearow', 'flies', 'high', 'and', 'away', 'instantly'], ['poison', 'snake', 'pokémon', 'the', 'older', 'ekans', 'gets', 'the', 'longer', 'ekans', 'grows', 'at', 'night', 'ekans', 'wraps', 'ekanss', 'long', 'body', 'around', 'tree', 'branches', 'to', 'rest'], ['poison', 'cobra', 'pokémon', 'the', 'frightening', 'patterns', 'on', 'arboks', 'belly', 'have', 'been', 'studied', 'six', 'variations', 'have', 'been', 'confirmed'], ['electric', 'mouse', 'pokémon', 'pikachu', 'that', 'can', 'generate', 'powerful', 'electric', 'pikachuy', 'have', 'cheek', 'sacs', 'that', 'are', 'extra', 'soft', 'and', 'super', 'stretchy'], ['electric', 'mouse', 'pokémon', 'raichus', 'long', 'tail', 'serves', 'as', 'a', 'ground', 'to', 'protect', 'raichuself', 'from', 'raichus', 'own', 'highvoltage', 'power'], ['ground', 'mouse', 'pokémon', 'sandshrew', 'loves', 'to', 'bathe', 'in', 'the', 'gr', 'sandshrew', 'of', 'dry', 'sandy', 'areas', 'by', 'sand', 'bathing', 'the', 'pokémon', 'rids', 'sandshrewself', 'of', 'dirt', 'and', 'moisture', 'clinging', 'to', 'sandshrews', 'body'], ['ground', 'mouse', 'pokémon', 'the', 'drier', 'the', 'area', 'sandslash', 'lives', 'in', 'the', 'harder', 'and', 'smoother', 'the', 'pokémon', 'is', 'spikes', 'will', 'feel', 'when', 'touched'], ['poison', 'poison', 'pin', 'pokémon', 'females', 'are', 'more', 'sens', 'nidoran♀ive', 'to', 'smells', 'than', 'males', 'while', 'foraging', 'they’ll', 'use', 'their', 'whiskers', 'to', 'check', 'wind', 'direction', 'and', 'stay', 'downwind', 'of', 'predators'], ['poison', 'poison', 'pin', 'pokémon', 'the', 'horn', 'on', 'nidorinas', 'head', 'has', 'atrophied', 'nidorina', 'is', 'thought', 'that', 'this', 'happens', 'so', 'nidorina', 'is', 'children', 'won’t', 'get', 'poked', 'while', 'their', 'mother', 'is', 'feeding', 'them'], ['poison', 'drill', 'pokémon', 'nidoqueen', 'is', 'better', 'at', 'defense', 'than', 'offense', 'w', 'nidoqueenh', 'scales', 'like', 'armor', 'nidoqueen', 'will', 'shield', 'nidoqueens', 'children', 'from', 'any', 'kind', 'of', 'attack'], ['poison', 'poison', 'pin', 'pokémon', 'the', 'horn', 'on', 'a', 'male', 'nidoran', 'is', 'forehead', 'contains', 'a', 'powerful', 'poison', 'this', 'is', 'a', 'very', 'cautious', 'pokémon', 'always', 'straining', 'nidoran♂s', 'large', 'ears'], ['poison', 'poison', 'pin', 'pokémon', 'w', 'nidorinoh', 'a', 'horn', 'that', 'is', 'harder', 'than', 'diamond', 'nidorino', 'goes', 'around', 'shattering', 'boulders', 'as', 'nidorino', 'searches', 'for', 'a', 'moon', 'stone'], ['poison', 'drill', 'pokémon', 'when', 'nidoking', 'goes', 'on', 'a', 'rampage', 'nidoking', 'is', 'impossible', 'to', 'control', 'but', 'in', 'the', 'presence', 'of', 'a', 'nidoqueen', 'nidoking', 'is', 'lived', 'w', 'nidokingh', 'for', 'a', 'long', 'time', 'nidoking', 'calms', 'down'], ['fairy', 'fairy', 'pokémon', 'clefairy', 'is', 'said', 'that', 'happiness', 'will', 'come', 'to', 'those', 'who', 'see', 'a', 'gathering', 'of', 'clefairy', 'dancing', 'under', 'a', 'full', 'moon'], ['fairy', 'fairy', 'pokémon', 'a', 'timid', 'fairy', 'pokémon', 'that', 'is', 'rarely', 'seen', 'clefable', 'will', 'run', 'and', 'hide', 'the', 'moment', 'clefable', 'senses', 'people'], ['fire', 'fox', 'pokémon', 'while', 'young', 'vulpix', 'has', 'six', 'gorgeous', 'tails', 'when', 'vulpix', 'grows', 'several', 'new', 'tails', 'are', 'sprouted'], ['fire', 'fox', 'pokémon', 'ninetales', 'is', 'said', 'to', 'live', '1000', 'years', 'and', 'each', 'of', 'ninetaless', 'tails', 'is', 'loaded', 'w', 'ninetalesh', 'supernatural', 'powers'], ['normal', 'balloon', 'pokémon', 'jigglypuff', 'has', 'topnotch', 'lung', 'capac', 'jigglypuffy', 'even', 'by', 'comparison', 'to', 'other', 'pokémon', 'jigglypuff', 'won’t', 'stop', 'singing', 'jigglypuffs', 'lullabies', 'until', 'jigglypuffs', 'foes', 'fall', 'asleep'], ['normal', 'balloon', 'pokémon', 'the', 'more', 'air', 'wigglytuff', 'takes', 'in', 'the', 'more', 'wigglytuff', 'inflates', 'if', 'opponents', 'catch', 'wigglytuff', 'in', 'a', 'bad', 'mood', 'wigglytuff', 'will', 'inflate', 'wigglytuffself', 'to', 'an', 'enormous', 'size', 'to', 'intimidate', 'them'], ['poison', 'bat', 'pokémon', 'zubat', 'em', 'zubats', 'ultrasonic', 'waves', 'from', 'zubats', 'mouth', 'to', 'check', 'zubats', 'surroundings', 'even', 'in', 'tight', 'caves', 'zubat', 'flies', 'around', 'w', 'zubath', 'skill'], ['poison', 'bat', 'pokémon', 'golbat', 'loves', 'to', 'drink', 'other', 'creatures’', 'blood', 'golbat', 'is', 'said', 'that', 'if', 'golbat', 'finds', 'others', 'of', 'golbats', 'kind', 'going', 'hungry', 'golbat', 'sometimes', 'shares', 'the', 'blood', 'golbat', 'is', 'gathered'], ['grass', 'weed', 'pokémon', 'if', 'exposed', 'to', 'moonlight', 'oddish', 'starts', 'to', 'move', 'oddish', 'roams', 'far', 'and', 'wide', 'at', 'night', 'to', 'scatter', 'oddishs', 'seeds'], ['grass', 'weed', 'pokémon', 'glooms', 'pistils', 'exude', 'an', 'incredibly', 'foul', 'odor', 'the', 'horrid', 'stench', 'can', 'cause', 'fainting', 'at', 'a', 'distance', 'of', '125', 'miles'], ['grass', 'flower', 'pokémon', 'vileplume', 'has', 'the', 'world', 'is', 'largest', 'petals', 'w', 'vileplumeh', 'every', 'step', 'the', 'petals', 'shake', 'out', 'heavy', 'clouds', 'of', 'toxic', 'pollen'], ['bug', 'mushroom', 'pokémon', 'burrows', 'under', 'the', 'ground', 'to', 'gnaw', 'on', 'tree', 'roots', 'the', 'mushrooms', 'on', 'parass', 'back', 'absorb', 'most', 'of', 'the', 'nutr', 'parasion'], ['bug', 'mushroom', 'pokémon', 'the', 'bug', 'host', 'is', 'drained', 'of', 'energy', 'by', 'the', 'mushroom', 'on', 'parasects', 'back', 'the', 'mushroom', 'appears', 'to', 'do', 'all', 'the', 'thinking'], ['bug', 'insect', 'pokémon', 'venonats', 'large', 'eyes', 'act', 'as', 'radar', 'in', 'a', 'bright', 'place', 'you', 'can', 'see', 'that', 'they', 'are', 'clusters', 'of', 'many', 'tiny', 'eyes'], ['bug', 'poison', 'moth', 'pokémon', 'the', 'powdery', 'scales', 'on', 'venomoths', 'wings', 'are', 'hard', 'to', 'remove', 'from', 'skin', 'they', 'also', 'contain', 'poison', 'that', 'leaks', 'out', 'on', 'contact'], ['ground', 'mole', 'pokémon', 'if', 'a', 'diglett', 'digs', 'through', 'a', 'field', 'diglett', 'leaves', 'the', 'soil', 'perfectly', 'tilled', 'and', 'ideal', 'for', 'planting', 'crops'], ['ground', 'mole', 'pokémon', 'a', 'team', 'of', 'diglett', 'triplets', 'dugtrio', 'triggers', 'huge', 'earthquakes', 'by', 'burrowing', '60', 'miles', 'underground'], ['normal', 'scratch', 'cat', 'pokémon', 'meowth', 'loves', 'to', 'collect', 'shiny', 'things', 'if', 'meowth', 'is', 'in', 'a', 'good', 'mood', 'meowth', 'might', 'even', 'let', 'meowths', 'trainer', 'have', 'a', 'look', 'at', 'meowths', 'hoard', 'of', 'treasures'], ['normal', 'classy', 'cat', 'pokémon', 'getting', 'this', 'prideful', 'pokémon', 'to', 'warm', 'up', 'to', 'you', 'takes', 'a', 'lot', 'of', 'effort', 'and', 'persian', 'will', 'claw', 'at', 'you', 'the', 'moment', 'persian', 'gets', 'annoyed'], ['water', 'duck', 'pokémon', 'psyduck', 'is', 'constantly', 'beset', 'by', 'headaches', 'if', 'the', 'pokémon', 'lets', 'psyducks', 'strange', 'power', 'erupt', 'apparently', 'the', 'pain', 'subsides', 'for', 'a', 'while'], ['water', 'duck', 'pokémon', 'golduck', 'lives', 'in', 'gently', 'flowing', 'rivers', 'golduck', 'paddles', 'through', 'the', 'water', 'w', 'golduckh', 'golducks', 'long', 'limbs', 'putting', 'golducks', 'graceful', 'swimming', 'skills', 'on', 'display'], ['fighting', 'pig', 'monkey', 'pokémon', 'an', 'agile', 'pokémon', 'that', 'lives', 'in', 'trees', 'mankey', 'angers', 'easily', 'and', 'will', 'not', 'hes', 'mankeyate', 'to', 'attack', 'anything'], ['fighting', 'pig', 'monkey', 'pokémon', 'primeape', 'stops', 'being', 'angry', 'only', 'when', 'nobody', 'else', 'is', 'around', 'to', 'view', 'this', 'moment', 'is', 'very', 'difficult'], ['fire', 'puppy', 'pokémon', 'growlithe', 'has', 'a', 'brave', 'and', 'trustworthy', 'nature', 'growlithe', 'fearlessly', 'stands', 'up', 'to', 'bigger', 'and', 'stronger', 'foes'], ['fire', 'legendary', 'pokémon', 'the', 'sight', 'of', 'arcanine', 'running', 'over', '6200', 'miles', 'in', 'a', 'single', 'day', 'and', 'night', 'has', 'captivated', 'many', 'people'], ['water', 'tadpole', 'pokémon', 'for', 'poliwag', 'swimming', 'is', 'easier', 'than', 'walking', 'the', 'swirl', 'pattern', 'on', 'poliwags', 'belly', 'is', 'actually', 'part', 'of', 'the', 'pokémon', 'is', 'innards', 'showing', 'through', 'the', 'skin'], ['water', 'tadpole', 'pokémon', 'staring', 'at', 'the', 'swirl', 'on', 'poliwhirls', 'belly', 'causes', 'drowsiness', 'this', 'tra', 'poliwhirl', 'of', 'poliwhirl', 'is', 'has', 'been', 'used', 'in', 'place', 'of', 'lullabies', 'to', 'get', 'children', 'to', 'go', 'to', 'sleep'], ['water', 'tadpole', 'pokémon', 'poliwraths', 'body', 'is', 'solid', 'muscle', 'when', 'swimming', 'through', 'cold', 'seas', 'poliwrath', 'uses', 'poliwraths', 'impressive', 'arms', 'to', 'smash', 'through', 'drift', 'ice', 'and', 'plow', 'forward'], ['psychic', 'psi', 'pokémon', 'abra', 'uses', 'abras', 'psychic', 'powers', 'while', 'abra', 'sleeps', 'the', 'contents', 'of', 'abra', 'is', 'dreams', 'affect', 'the', 'powers', 'that', 'the', 'pokémon', 'wields'], ['psychic', 'psi', 'pokémon', 'using', 'kadabras', 'psychic', 'power', 'kadabra', 'lev', 'kadabraates', 'as', 'kadabra', 'sleeps', 'kadabra', 'uses', 'kadabras', 'springy', 'tail', 'as', 'a', 'pillow'], ['psychic', 'psi', 'pokémon', 'alakazam', 'has', 'an', 'incredibly', 'high', 'level', 'of', 'intelligence', 'some', 'say', 'that', 'alakazam', 'remembers', 'everything', 'that', 'ever', 'happens', 'to', 'alakazam', 'from', 'birth', 'till', 'death'], ['fighting', 'superpower', 'pokémon', 'machops', 'whole', 'body', 'is', 'composed', 'of', 'muscles', 'even', 'though', 'machop', 'is', 'the', 'size', 'of', 'a', 'human', 'child', 'machop', 'can', 'hurl', '100', 'grownups'], ['fighting', 'superpower', 'pokémon', 'machokes', 'muscular', 'body', 'is', 'so', 'powerful', 'machoke', 'must', 'wear', 'a', 'powersave', 'belt', 'to', 'be', 'able', 'to', 'regulate', 'machokes', 'motions'], ['fighting', 'superpower', 'pokémon', 'machamp', 'quickly', 'swings', 'machamps', 'four', 'arms', 'to', 'rock', 'machamps', 'opponents', 'w', 'machamph', 'ceaseless', 'punches', 'and', 'chops', 'from', 'all', 'angles'], ['grass', 'flower', 'pokémon', 'prefers', 'hot', 'and', 'humid', 'places', 'bellsprout', 'ensnares', 'tiny', 'bugs', 'w', 'bellsprouth', 'bellsprouts', 'vines', 'and', 'devours', 'them'], ['grass', 'flycatcher', 'pokémon', 'when', 'hungry', 'weepinbell', 'swallows', 'anything', 'that', 'moves', 'weepinbells', 'hapless', 'prey', 'is', 'dissolved', 'by', 'strong', 'acids'], ['grass', 'flycatcher', 'pokémon', 'lures', 'prey', 'w', 'victreebelh', 'the', 'sweet', 'aroma', 'of', 'honey', 'swallowed', 'whole', 'the', 'prey', 'is', 'dissolved', 'in', 'a', 'day', 'bones', 'and', 'all'], ['water', 'jellyfish', 'pokémon', 'tentacool', 'is', 'not', 'a', 'particularly', 'strong', 'swimmer', 'tentacool', 'drifts', 'across', 'the', 'surface', 'of', 'shallow', 'seas', 'as', 'tentacool', 'searches', 'for', 'prey'], ['water', 'jellyfish', 'pokémon', 'when', 'the', 'red', 'orbs', 'on', 'tentacruel', 'is', 'head', 'glow', 'brightly', 'watch', 'out', 'the', 'pokémon', 'is', 'about', 'to', 'fire', 'off', 'a', 'burst', 'of', 'ultrasonic', 'waves'], ['rock', 'rock', 'pokémon', 'commonly', 'found', 'near', 'mountain', 'trails', 'and', 'the', 'like', 'if', 'you', 'step', 'on', 'one', 'by', 'accident', 'geodude', 'gets', 'angry'], ['rock', 'rock', 'pokémon', 'often', 'seen', 'rolling', 'down', 'mountain', 'trails', 'obstacles', 'are', 'just', 'things', 'to', 'roll', 'straight', 'over', 'not', 'avoid'], ['rock', 'megaton', 'pokémon', 'once', 'golem', 'sheds', 'golems', 'skin', 'golems', 'body', 'turns', 'tender', 'and', 'wh', 'golemish', 'golems', 'hide', 'hardens', 'when', 'golem', 'is', 'exposed', 'to', 'air'], ['fire', 'fire', 'horse', 'pokémon', 'ponyta', 'can’t', 'run', 'properly', 'when', 'ponyta', 'is', 'newly', 'born', 'as', 'ponyta', 'races', 'around', 'w', 'ponytah', 'others', 'of', 'ponytas', 'kind', 'ponytas', 'legs', 'grow', 'stronger'], ['fire', 'fire', 'horse', 'pokémon', 'rapidash', 'can', 'be', 'seen', 'galloping', 'through', 'fields', 'at', 'speeds', 'of', 'up', 'to', '150', 'mph', 'rapidashs', 'fiery', 'mane', 'fluttering', 'in', 'the', 'wind'], ['water', 'dopey', 'pokémon', 'sloww', 'slowpoketed', 'and', 'oblivious', 'slowpoke', 'won’t', 'feel', 'any', 'pain', 'if', 'slowpokes', 'tail', 'gets', 'eaten', 'slowpoke', 'won’t', 'notice', 'when', 'slowpokes', 'tail', 'grows', 'back', 'e', 'slowpokeher'], ['water', 'herm', 'slowbro', 'crab', 'pokémon', 'slowpoke', 'became', 'slowbro', 'when', 'a', 'shellder', 'b', 'slowbro', 'on', 'to', 'slowbros', 'tail', 'sweet', 'flavors', 'seeping', 'from', 'the', 'tail', 'make', 'the', 'shellder', 'feel', 'as', 'if', 'slowbros', 'life', 'is', 'a', 'dream'], ['electric', 'magnet', 'pokémon', 'at', 'times', 'magnem', 'magnemitee', 'runs', 'out', 'of', 'electric', 'magnemitey', 'and', 'ends', 'up', 'on', 'the', 'ground', 'if', 'you', 'give', 'batteries', 'to', 'a', 'grounded', 'magnem', 'magnemitee', 'magnemite’ll', 'start', 'moving', 'again'], ['electric', 'magnet', 'pokémon', 'magneton', 'is', 'three', 'magnem', 'magnetone', 'that', 'have', 'linked', 'together', 'magneton', 'sends', 'out', 'powerful', 'radio', 'waves', 'to', 'study', 'magnetons', 'surroundings'], ['normal', 'wild', 'duck', 'pokémon', 'the', 'stalk', 'farfetchd', 'carries', 'in', 'farfetchds', 'wings', 'serves', 'as', 'a', 'sword', 'to', 'cut', 'down', 'opponents', 'in', 'a', 'dire', 's', 'farfetchduation', 'the', 'stalk', 'can', 'also', 'serve', 'as', 'food'], ['normal', 'twin', 'bird', 'pokémon', 'doduos', 'short', 'wings', 'make', 'flying', 'difficult', 'instead', 'doduo', 'runs', 'at', 'high', 'speed', 'on', 'developed', 'legs'], ['normal', 'triple', 'bird', 'pokémon', 'one', 'of', 'doduo', 'is', 'two', 'heads', 'spl', 'dodrios', 'to', 'form', 'a', 'unique', 'species', 'dodrio', 'runs', 'close', 'to', '40', 'mph', 'in', 'prairies'], ['water', 'sea', 'lion', 'pokémon', 'loves', 'freezingcold', 'cond', 'seelions', 'relishes', 'swimming', 'in', 'a', 'frigid', 'climate', 'of', 'around', '14', 'degrees', 'fahrenhe', 'seel'], ['water', 'sea', 'lion', 'pokémon', 'dewgongs', 'entire', 'body', 'is', 'a', 'snowy', 'wh', 'dewgonge', 'unharmed', 'by', 'even', 'intense', 'cold', 'dewgong', 'swims', 'powerfully', 'in', 'icy', 'waters'], ['poison', 'sludge', 'pokémon', 'made', 'of', 'congealed', 'sludge', 'grimer', 'smells', 'too', 'putrid', 'to', 'touch', 'even', 'weeds', 'won’t', 'grow', 'in', 'grimers', 'path'], ['poison', 'sludge', 'pokémon', 'smells', 'so', 'awful', 'muk', 'can', 'cause', 'fainting', 'through', 'degeneration', 'of', 'muks', 'nose', 'muk', 'lost', 'muks', 'sense', 'of', 'smell'], ['water', 'bivalve', 'pokémon', 'shellder', 'swims', 'facing', 'backward', 'by', 'opening', 'and', 'closing', 'shellders', 'twopiece', 'shell', 'shellder', 'is', 'surprisingly', 'fast'], ['water', 'bivalve', 'pokémon', 'cloysters', 'shell', 'is', 'extremely', 'hard', 'cloyster', 'cannot', 'be', 'shattered', 'even', 'w', 'cloysterh', 'a', 'bomb', 'the', 'shell', 'opens', 'only', 'when', 'cloyster', 'is', 'attacking'], ['ghost', 'gas', 'pokémon', 'born', 'from', 'gases', 'anyone', 'would', 'faint', 'if', 'engulfed', 'by', 'gastlys', 'gaseous', 'body', 'which', 'contains', 'poison'], ['ghost', 'gas', 'pokémon', 'haunters', 'tongue', 'is', 'made', 'of', 'gas', 'if', 'licked', 'haunters', 'victim', 'starts', 'shaking', 'constantly', 'until', 'death', 'eventually', 'comes'], ['ghost', 'shadow', 'pokémon', 'on', 'the', 'night', 'of', 'a', 'full', 'moon', 'if', 'shadows', 'move', 'on', 'their', 'own', 'and', 'laugh', 'gengar', 'must', 'be', 'gengar', 'is', 'doing'], ['rock', 'rock', 'snake', 'pokémon', 'as', 'onix', 'digs', 'through', 'the', 'ground', 'onix', 'absorbs', 'many', 'hard', 'objects', 'this', 'is', 'what', 'makes', 'onixs', 'body', 'so', 'solid'], ['psychic', 'hypnosis', 'pokémon', 'if', 'you', 'sleep', 'by', 'drowzee', 'all', 'the', 'time', 'drowzee', 'will', 'sometimes', 'show', 'you', 'dreams', 'drowzee', 'had', 'eaten', 'in', 'the', 'past'], ['psychic', 'hypnosis', 'pokémon', 'avoid', 'eye', 'contact', 'if', 'you', 'come', 'across', 'one', 'hypno', 'will', 'try', 'to', 'put', 'you', 'to', 'sleep', 'by', 'using', 'hypnos', 'pendulum'], ['water', 'river', 'crab', 'pokémon', 'krabby', 'can', 'be', 'found', 'near', 'the', 'sea', 'the', 'large', 'pincers', 'grow', 'back', 'if', 'they', 'are', 'torn', 'out', 'of', 'their', 'sockets'], ['water', 'pincer', 'pokémon', 'kinglers', 'large', 'and', 'hard', 'pincer', 'has', '10000horsepower', 'strength', 'however', 'being', 'so', 'big', 'kingler', 'is', 'unwieldy', 'to', 'move'], ['electric', 'ball', 'pokémon', 'voltorb', 'is', 'said', 'to', 'camouflage', 'voltorbself', 'as', 'a', 'poké', 'ball', 'voltorb', 'will', 'selfdestruct', 'w', 'voltorbh', 'very', 'l', 'voltorbtle', 'stimulus'], ['electric', 'ball', 'pokémon', 'stores', 'electrical', 'energy', 'inside', 'electrodes', 'body', 'even', 'the', 'slightest', 'shock', 'could', 'trigger', 'a', 'huge', 'explosion'], ['grass', 'egg', 'pokémon', 'though', 'exeggcute', 'may', 'look', 'like', 'exeggcute', 'is', 'just', 'a', 'bunch', 'of', 'eggs', 'exeggcute', 'is', 'a', 'proper', 'pokémon', 'exeggcute', 'communicates', 'w', 'exeggcuteh', 'others', 'of', 'exeggcutes', 'kind', 'via', 'telepathy', 'apparently'], ['grass', 'coconut', 'pokémon', 'each', 'of', 'exeggutor', 'is', 'three', 'heads', 'is', 'thinking', 'different', 'thoughts', 'the', 'three', 'don’t', 'seem', 'to', 'be', 'very', 'interested', 'in', 'one', 'another'], ['ground', 'lonely', 'pokémon', 'when', 'the', 'memory', 'of', 'cubones', 'departed', 'mother', 'brings', 'cubone', 'to', 'tears', 'cubones', 'cries', 'echo', 'mournfully', 'w', 'cubonehin', 'the', 'skull', 'cubone', 'wears', 'on', 'cubones', 'head'], ['ground', 'bone', 'keeper', 'pokémon', 'marowak', 'overcame', 'marowaks', 'sorrow', 'to', 'evolve', 'a', 'sturdy', 'new', 'body', 'marowak', 'faces', 'marowaks', 'opponents', 'bravely', 'using', 'a', 'bone', 'as', 'a', 'weapon'], ['fighting', 'kicking', 'pokémon', 'this', 'amazing', 'pokémon', 'has', 'an', 'awesome', 'sense', 'of', 'balance', 'hitmonlee', 'can', 'kick', 'in', 'succession', 'from', 'any', 'pos', 'hitmonleeion'], ['fighting', 'punching', 'pokémon', 'hitmonchans', 'punches', 'slice', 'the', 'air', 'they', 'are', 'launched', 'at', 'such', 'high', 'speed', 'even', 'a', 'slight', 'graze', 'could', 'cause', 'a', 'burn'], ['normal', 'licking', 'pokémon', 'if', 'lickitung', 'is', 'sticky', 'saliva', 'gets', 'on', 'you', 'and', 'you', 'don’t', 'clean', 'lickitung', 'off', 'an', 'intense', 'lickitungch', 'will', 'set', 'in', 'the', 'lickitungch', 'won’t', 'go', 'away', 'e', 'lickitungher'], ['poison', 'poison', 'gas', 'pokémon', 'koffings', 'body', 'is', 'full', 'of', 'poisonous', 'gas', 'koffing', 'floats', 'into', 'garbage', 'dumps', 'seeking', 'out', 'the', 'fumes', 'of', 'raw', 'rotting', 'trash'], ['poison', 'poison', 'gas', 'pokémon', 'weezing', 'mixes', 'gases', 'between', 'weezings', 'two', 'bodies', 'weezing', 'is', 'said', 'that', 'these', 'pokémon', 'were', 'seen', 'all', 'over', 'the', 'galar', 'region', 'back', 'in', 'the', 'day'], ['ground', 'spikes', 'pokémon', 'strong', 'but', 'not', 'too', 'bright', 'rhyhorn', 'can', 'shatter', 'even', 'a', 'skyscraper', 'w', 'rhyhornh', 'rhyhorns', 'charging', 'tackles'], ['ground', 'drill', 'pokémon', 'rhydon', 'begins', 'walking', 'on', 'rhydons', 'hind', 'legs', 'after', 'evolution', 'rhydon', 'can', 'punch', 'holes', 'through', 'boulders', 'w', 'rhydonh', 'rhydons', 'horn'], ['normal', 'egg', 'pokémon', 'the', 'egg', 'chansey', 'carries', 'is', 'not', 'only', 'delicious', 'but', 'also', 'packed', 'w', 'chanseyh', 'nutr', 'chanseyion', 'chansey', 'is', 'used', 'as', 'a', 'highclass', 'cooking', 'ingredient'], ['grass', 'vine', 'pokémon', 'hidden', 'beneath', 'a', 'tangle', 'of', 'vines', 'that', 'grows', 'nonstop', 'even', 'if', 'the', 'vines', 'are', 'torn', 'off', 'tangela', 'is', 'true', 'appearance', 'remains', 'a', 'mystery'], ['normal', 'parent', 'pokémon', 'although', 'kangaskhan', 'is', 'carrying', 'kangaskhans', 'baby', 'in', 'a', 'pouch', 'on', 'kangaskhans', 'belly', 'kangaskhan', 'is', 'swift', 'on', 'kangaskhans', 'feet', 'kangaskhan', 'intimidates', 'kangaskhans', 'opponents', 'w', 'kangaskhanh', 'quick', 'jabs'], ['water', 'dragon', 'pokémon', 'horsea', 'makes', 'horseas', 'home', 'in', 'oceans', 'w', 'horseah', 'gentle', 'currents', 'if', 'horsea', 'is', 'under', 'attack', 'horsea', 'sp', 'horseas', 'out', 'p', 'horseachblack', 'ink', 'and', 'escapes'], ['water', 'dragon', 'pokémon', 'seadra', 'is', 'the', 'males', 'that', 'raise', 'the', 'offspring', 'while', 'seadra', 'are', 'raising', 'young', 'the', 'spines', 'on', 'their', 'backs', 'secrete', 'thicker', 'and', 'stronger', 'poison'], ['water', 'goldfish', 'pokémon', 'goldeens', 'dorsal', 'pectoral', 'and', 'tail', 'fins', 'wave', 'elegantly', 'in', 'water', 'that', 'is', 'why', 'goldeen', 'is', 'known', 'as', 'the', 'water', 'dancer'], ['water', 'goldfish', 'pokémon', 'in', 'autumn', 'seakings', 'body', 'becomes', 'more', 'fatty', 'in', 'preparing', 'to', 'propose', 'to', 'a', 'mate', 'seaking', 'takes', 'on', 'beautiful', 'colors'], ['water', 'starshape', 'pokémon', 'if', 'you', 'vis', 'staryu', 'a', 'beach', 'at', 'the', 'end', 'of', 'summer', 'you’ll', 'be', 'able', 'to', 'see', 'groups', 'of', 'staryu', 'lighting', 'up', 'in', 'a', 'steady', 'rhythm'], ['water', 'mysterious', 'pokémon', 'starmie', 'has', 'an', 'organ', 'known', 'as', 'starmies', 'core', 'the', 'organ', 'glows', 'in', 'seven', 'colors', 'when', 'starmie', 'is', 'unleashing', 'starmies', 'potent', 'psychic', 'powers'], ['psychic', 'barrier', 'pokémon', 'the', 'broadness', 'of', 'mr', 'mimes', 'hands', 'may', 'be', 'no', 'coincidence—many', 'scientists', 'believe', 'mr', 'mimes', 'palms', 'became', 'enlarged', 'specifically', 'for', 'pantomiming'], ['bug', 'mantis', 'pokémon', 'as', 'scyther', 'fights', 'more', 'and', 'more', 'battles', 'scythers', 'scythes', 'become', 'sharper', 'and', 'sharper', 'w', 'scytherh', 'a', 'single', 'slice', 'scyther', 'can', 'fell', 'a', 'massive', 'tree'], ['ice', 'humanshape', 'pokémon', 'in', 'certain', 'parts', 'of', 'galar', 'jynx', 'was', 'once', 'feared', 'and', 'worshiped', 'as', 'the', 'queen', 'of', 'ice'], ['electric', 'electric', 'pokémon', 'many', 'power', 'plants', 'keep', 'groundtype', 'pokémon', 'around', 'as', 'a', 'defense', 'against', 'electabuzz', 'that', 'come', 'seeking', 'electric', 'electabuzzy'], ['fire', 'sp', 'magmarfire', 'pokémon', 'magmar', 'dispatches', 'magmars', 'prey', 'w', 'magmarh', 'fire', 'but', 'magmar', 'regrets', 'this', 'hab', 'magmar', 'once', 'magmar', 'realizes', 'that', 'magmar', 'has', 'burned', 'magmars', 'intended', 'prey', 'to', 'a', 'charred', 'crisp'], ['bug', 'stagbeetle', 'pokémon', 'these', 'pokémon', 'judge', 'one', 'another', 'based', 'on', 'pincers', 'thicker', 'more', 'impressive', 'pincers', 'make', 'for', 'more', 'popular', 'pinsiry', 'w', 'pinsirh', 'the', 'oppos', 'pinsire', 'gender'], ['normal', 'wild', 'bull', 'pokémon', 'when', 'tauros', 'begins', 'whipping', 'taurosself', 'w', 'taurosh', 'tauross', 'tails', 'tauros', 'is', 'a', 'warning', 'that', 'the', 'pokémon', 'is', 'about', 'to', 'charge', 'w', 'taurosh', 'astounding', 'speed'], ['water', 'fish', 'pokémon', 'magikarp', 'is', 'virtually', 'worthless', 'in', 'terms', 'of', 'both', 'power', 'and', 'speed', 'magikarp', 'is', 'the', 'most', 'weak', 'and', 'pathetic', 'pokémon', 'in', 'the', 'world'], ['water', 'atrocious', 'pokémon', 'gyarados', 'has', 'an', 'extremely', 'aggressive', 'nature', 'the', 'hyper', 'beam', 'gyarados', 'shoots', 'from', 'gyaradoss', 'mouth', 'totally', 'incinerates', 'all', 'targets'], ['water', 'transport', 'pokémon', 'a', 'smart', 'and', 'kindhearted', 'pokémon', 'lapras', 'glides', 'across', 'the', 'surface', 'of', 'the', 'sea', 'while', 'laprass', 'beautiful', 'song', 'echoes', 'around', 'lapras'], ['normal', 'transform', 'pokémon', 'ditto', 'can', 'reconst', 'dittoute', 'dittos', 'entire', 'cellular', 'structure', 'to', 'change', 'into', 'what', 'ditto', 'sees', 'but', 'ditto', 'returns', 'to', 'normal', 'when', 'ditto', 'relaxes'], ['normal', 'evolution', 'pokémon', 'eevee', 'has', 'the', 'abil', 'eeveey', 'to', 'alter', 'the', 'compos', 'eeveeion', 'of', 'eevees', 'body', 'to', 'su', 'eevee', 'eevees', 'surrounding', 'environment'], ['water', 'bubble', 'jet', 'pokémon', 'when', 'vaporeon', 'is', 'fins', 'begin', 'to', 'vibrate', 'vaporeon', 'is', 'a', 'sign', 'that', 'rain', 'will', 'come', 'w', 'vaporeonhin', 'a', 'few', 'hours'], ['electric', 'lightning', 'pokémon', 'if', 'jolteon', 'is', 'angered', 'or', 'startled', 'the', 'fur', 'all', 'over', 'jolteons', 'body', 'bristles', 'like', 'sharp', 'needles', 'that', 'pierce', 'foes'], ['fire', 'flame', 'pokémon', 'once', 'flareon', 'has', 'stored', 'up', 'enough', 'heat', 'flareon', 'is', 'body', 'temperature', 'can', 'reach', 'up', 'to', '1700', 'degrees', 'fahrenhe', 'flareon'], ['normal', 'virtual', 'pokémon', 'stateoftheart', 'technology', 'was', 'used', 'to', 'create', 'porygon', 'porygon', 'was', 'the', 'first', 'artificial', 'pokémon', 'to', 'be', 'created', 'via', 'computer', 'programming'], ['rock', 'spiral', 'pokémon', 'because', 'some', 'omanyte', 'manage', 'to', 'escape', 'after', 'being', 'restored', 'or', 'are', 'released', 'into', 'the', 'wild', 'by', 'people', 'this', 'species', 'is', 'becoming', 'a', 'problem'], ['rock', 'spiral', 'pokémon', 'weighed', 'down', 'by', 'a', 'large', 'and', 'heavy', 'shell', 'omastar', 'couldn’t', 'move', 'very', 'fast', 'some', 'say', 'omastar', 'went', 'extinct', 'because', 'omastar', 'was', 'unable', 'to', 'catch', 'food'], ['rock', 'shellfish', 'pokémon', 'this', 'species', 'is', 'almost', 'entirely', 'extinct', 'kabuto', 'molt', 'every', 'three', 'days', 'making', 'their', 'shells', 'harder', 'and', 'harder'], ['rock', 'shellfish', 'pokémon', 'kabutops', 'slices', 'kabutopss', 'prey', 'apart', 'and', 'sucks', 'out', 'the', 'fluids', 'the', 'discarded', 'body', 'parts', 'become', 'food', 'for', 'other', 'pokémon'], ['rock', 'fossil', 'pokémon', 'this', 'is', 'a', 'ferocious', 'pokémon', 'from', 'ancient', 'times', 'apparently', 'even', 'modern', 'technology', 'is', 'incapable', 'of', 'producing', 'a', 'perfectly', 'restored', 'specimen'], ['normal', 'sleeping', 'pokémon', 'snorlax', 'is', 'not', 'satisfied', 'unless', 'snorlax', 'eats', 'over', '880', 'pounds', 'of', 'food', 'every', 'day', 'when', 'snorlax', 'is', 'done', 'eating', 'snorlax', 'goes', 'promptly', 'to', 'sleep'], ['ice', 'freeze', 'pokémon', 'articuno', 'is', 'said', 'that', 'articuno', 'is', 'beautiful', 'blue', 'wings', 'are', 'made', 'of', 'ice', 'articuno', 'flies', 'over', 'snowy', 'mountains', 'articunos', 'long', 'tail', 'fluttering', 'along', 'behind', 'articuno'], ['electric', 'electric', 'pokémon', 'zapdos', 'has', 'complete', 'control', 'over', 'electric', 'zapdosy', 'there', 'are', 'tales', 'of', 'zapdos', 'nesting', 'in', 'the', 'dark', 'depths', 'of', 'p', 'zapdoschblack', 'thunderclouds'], ['fire', 'flame', 'pokémon', 'moltres', 'is', 'one', 'of', 'the', 'legendary', 'bird', 'pokémon', 'when', 'moltres', 'flaps', 'moltress', 'flaming', 'wings', 'they', 'glimmer', 'w', 'moltresh', 'a', 'dazzling', 'red', 'glow'], ['dragon', 'dragon', 'pokémon', 'dratini', 'dwells', 'near', 'bodies', 'of', 'rapidly', 'flowing', 'water', 'such', 'as', 'the', 'plunge', 'pools', 'of', 'waterfalls', 'as', 'dratini', 'grows', 'dratini', 'will', 'shed', 'dratinis', 'skin', 'many', 'times'], ['dragon', 'dragon', 'pokémon', 'dragonair', 'lives', 'in', 'pristine', 'oceans', 'and', 'lakes', 'dragonair', 'can', 'control', 'the', 'weather', 'and', 'dragonair', 'uses', 'this', 'power', 'to', 'fly', 'into', 'the', 'sky', 'riding', 'on', 'the', 'wind'], ['dragon', 'dragon', 'pokémon', 'dragonite', 'is', 'a', 'kindhearted', 'pokémon', 'if', 'dragonite', 'spots', 'a', 'drowning', 'person', 'or', 'pokémon', 'dragon', 'dragonitee', 'simply', 'must', 'help', 'them'], ['psychic', 'genetic', 'pokémon', 'mewtwos', 'dna', 'is', 'almost', 'the', 'same', 'as', 'mew', 'is', 'however', 'mewtwos', 'size', 'and', 'dispos', 'mewtwoion', 'are', 'vastly', 'different'], ['psychic', 'new', 'species', 'pokémon', 'when', 'viewed', 'through', 'a', 'microscope', 'mew', 'is', 'short', 'fine', 'delicate', 'hair', 'can', 'be', 'seen']]\n"
     ]
    }
   ],
   "source": [
    "# Put together a training corpus\n",
    "descriptions = list(df[\"description\"].values)\n",
    "\n",
    "# Clean and tokenize text\n",
    "def preprocess_text(text):\n",
    "    text = text.lower()  # lowercase\n",
    "    text = re.sub(f\"[{string.punctuation}]\", \"\", text)  # remove punctuation\n",
    "    words = text.split()  # tokenize into words\n",
    "    return words\n",
    "\n",
    "# Apply to all sentences\n",
    "dataset = [preprocess_text(sentence) for sentence in descriptions]\n",
    "print(dataset)"
   ]
  },
  {
   "cell_type": "code",
   "execution_count": null,
   "metadata": {},
   "outputs": [
    {
     "name": "stdout",
     "output_type": "stream",
     "text": [
      "Sample word pairs: [('grass', 'seed'), ('grass', 'pokémon'), ('grass', 'there'), ('grass', 'is'), ('grass', 'a')]\n"
     ]
    },
    {
     "name": "stderr",
     "output_type": "stream",
     "text": [
      "2025-03-11 07:39:51.452853: I metal_plugin/src/device/metal_device.cc:1154] Metal device set to: Apple M2\n",
      "2025-03-11 07:39:51.452871: I metal_plugin/src/device/metal_device.cc:296] systemMemory: 16.00 GB\n",
      "2025-03-11 07:39:51.452876: I metal_plugin/src/device/metal_device.cc:313] maxCacheSize: 5.33 GB\n",
      "2025-03-11 07:39:51.453029: I tensorflow/core/common_runtime/pluggable_device/pluggable_device_factory.cc:306] Could not identify NUMA node of platform GPU ID 0, defaulting to 0. Your kernel may not have been built with NUMA support.\n",
      "2025-03-11 07:39:51.453044: I tensorflow/core/common_runtime/pluggable_device/pluggable_device_factory.cc:272] Created TensorFlow device (/job:localhost/replica:0/task:0/device:GPU:0 with 0 MB memory) -> physical PluggableDevice (device: 0, name: METAL, pci bus id: <undefined>)\n"
     ]
    },
    {
     "name": "stdout",
     "output_type": "stream",
     "text": [
      "Epoch 1/2\n"
     ]
    },
    {
     "name": "stderr",
     "output_type": "stream",
     "text": [
      "2025-03-11 07:39:52.239321: I tensorflow/core/grappler/optimizers/custom_graph_optimizer_registry.cc:117] Plugin optimizer for device_type GPU is enabled.\n"
     ]
    },
    {
     "name": "stdout",
     "output_type": "stream",
     "text": [
      "488/488 [==============================] - 5s 10ms/step - loss: 0.5565 - accuracy: 0.6233\n",
      "Epoch 2/2\n",
      "488/488 [==============================] - 4s 7ms/step - loss: 0.4524 - accuracy: 0.8321\n"
     ]
    },
    {
     "data": {
      "text/plain": [
       "<keras.src.callbacks.History at 0x1763b7f50>"
      ]
     },
     "execution_count": 4,
     "metadata": {},
     "output_type": "execute_result"
    }
   ],
   "source": [
    "window_size = 10\n",
    "embedding_dim = 3\n",
    "\n",
    "epochs = 2\n",
    "# Use Adam optimizer with learning rate decay\n",
    "optimizer = tf.keras.optimizers.legacy.Adam(\n",
    "    learning_rate=tf.keras.optimizers.schedules.ExponentialDecay(\n",
    "        initial_learning_rate=1e-3,\n",
    "        decay_steps=1000,\n",
    "        decay_rate=0.96\n",
    "    )\n",
    ")\n",
    "\n",
    "# better with neg examples\n",
    "loss = tf.keras.losses.BinaryCrossentropy(from_logits=True)\n",
    "#loss = tf.keras.losses.CosineSimilarity()\n",
    "\n",
    "word2vec = Word2Vec(dataset, embedding_dim)\n",
    "train_dataset = word2vec.prepare_dataset(window_size)\n",
    "word2vec.compile(optimizer, loss, metrics=['accuracy'])\n",
    "word2vec.fit(train_dataset, epochs=epochs)"
   ]
  },
  {
   "cell_type": "code",
   "execution_count": 6,
   "metadata": {},
   "outputs": [
    {
     "name": "stdout",
     "output_type": "stream",
     "text": [
      "Model: \"word2_vec\"\n",
      "_________________________________________________________________\n",
      " Layer (type)                Output Shape              Param #   \n",
      "=================================================================\n",
      " word_embedding (Embedding)  multiple                  4413      \n",
      "                                                                 \n",
      " dot (Dot)                   multiple                  0         \n",
      "                                                                 \n",
      "=================================================================\n",
      "Total params: 4413 (17.24 KB)\n",
      "Trainable params: 4413 (17.24 KB)\n",
      "Non-trainable params: 0 (0.00 Byte)\n",
      "_________________________________________________________________\n"
     ]
    }
   ],
   "source": [
    "word2vec.summary()"
   ]
  },
  {
   "cell_type": "code",
   "execution_count": 7,
   "metadata": {},
   "outputs": [
    {
     "data": {
      "text/plain": [
       "array([-0.01124234,  0.07461978,  0.03582945], dtype=float32)"
      ]
     },
     "execution_count": 7,
     "metadata": {},
     "output_type": "execute_result"
    }
   ],
   "source": [
    "# Example usage\n",
    "word2vec.get_word_embedding(\"pikachu\")"
   ]
  },
  {
   "cell_type": "code",
   "execution_count": 8,
   "metadata": {},
   "outputs": [
    {
     "data": {
      "text/plain": [
       "0.88780105"
      ]
     },
     "execution_count": 8,
     "metadata": {},
     "output_type": "execute_result"
    }
   ],
   "source": [
    "# Example usage\n",
    "word2vec.compute_similarity(\"bulbasaur\", \"seed\")"
   ]
  },
  {
   "cell_type": "code",
   "execution_count": 9,
   "metadata": {},
   "outputs": [
    {
     "data": {
      "text/plain": [
       "0.8291021"
      ]
     },
     "execution_count": 9,
     "metadata": {},
     "output_type": "execute_result"
    }
   ],
   "source": [
    "# Example usage\n",
    "word2vec.compute_similarity(\"bulbasaur\", \"fire\")"
   ]
  },
  {
   "cell_type": "code",
   "execution_count": 21,
   "metadata": {},
   "outputs": [
    {
     "name": "stdout",
     "output_type": "stream",
     "text": [
      "['charmander', 'charmeleon', 'charizard', 'vulpix', 'ninetales', 'growlithe', 'arcanine', 'ponyta', 'rapidash', 'magmar', 'flareon', 'moltres', 'squirtle', 'wartortle', 'blastoise', 'psyduck', 'golduck', 'poliwag', 'poliwhirl', 'poliwrath', 'tentacool', 'tentacruel', 'slowpoke', 'slowbro', 'seel', 'dewgong', 'shellder', 'cloyster', 'krabby', 'kingler', 'horsea', 'seadra', 'goldeen', 'seaking', 'staryu', 'starmie', 'magikarp', 'gyarados', 'lapras', 'bulbasaur', 'ivysaur', 'venusaur', 'oddish', 'vileplume', 'paras', 'parasect', 'bellsprout', 'weepinbell', 'victreebel', 'exeggcute', 'exeggutor', 'tangela']\n"
     ]
    }
   ],
   "source": [
    "from evaluation_tests.poke_types import POKEMONS_BY_TYPE\n",
    "\n",
    "all_pokemons = []\n",
    "for pokemons in POKEMONS_BY_TYPE.values():\n",
    "    all_pokemons.extend(pokemons)\n",
    "\n",
    "print(all_pokemons)"
   ]
  },
  {
   "cell_type": "code",
   "execution_count": 22,
   "metadata": {},
   "outputs": [],
   "source": [
    "pokemon_to_type = {}\n",
    "for type_name, pokemon_list in POKEMONS_BY_TYPE.items():\n",
    "    for pokemon in pokemon_list:\n",
    "        pokemon_to_type[pokemon] = type_name\n",
    "\n",
    "poke_types = [pokemon_to_type[poke] for poke in all_pokemons]\n",
    "poke_and_types = {poke: poke_type for poke, poke_type in zip(all_pokemons, poke_types)}"
   ]
  },
  {
   "cell_type": "code",
   "execution_count": 25,
   "metadata": {},
   "outputs": [],
   "source": [
    "pokes_to_remove = []\n",
    "for pokemon in poke_and_types.keys():\n",
    "    if not (pokemon in word2vec.vocabulary):\n",
    "        pokes_to_remove.append(pokemon)         \n",
    "\n",
    "for poke in pokes_to_remove:\n",
    "    poke_and_types.pop(poke)"
   ]
  },
  {
   "cell_type": "code",
   "execution_count": 26,
   "metadata": {},
   "outputs": [
    {
     "data": {
      "text/plain": [
       "52"
      ]
     },
     "execution_count": 26,
     "metadata": {},
     "output_type": "execute_result"
    }
   ],
   "source": [
    "len(all_pokemons)"
   ]
  },
  {
   "cell_type": "code",
   "execution_count": 34,
   "metadata": {},
   "outputs": [
    {
     "data": {
      "application/vnd.plotly.v1+json": {
       "config": {
        "plotlyServerURL": "https://plot.ly"
       },
       "data": [
        {
         "hovertemplate": "<b>%{hovertext}</b><br><br>class=fire<br>x=%{x}<br>y=%{y}<extra></extra>",
         "hovertext": [
          "charmander",
          "charmeleon",
          "charizard",
          "vulpix",
          "ninetales",
          "growlithe",
          "arcanine",
          "ponyta",
          "rapidash",
          "magmar",
          "flareon",
          "moltres"
         ],
         "legendgroup": "fire",
         "marker": {
          "color": "red",
          "opacity": 0.8,
          "size": 8,
          "symbol": "circle"
         },
         "mode": "markers",
         "name": "fire",
         "orientation": "v",
         "showlegend": true,
         "type": "scatter",
         "x": {
          "bdata": "CuXYPuMDCMAeiNK/cl65P+v5mT8oLa4/We3yvom4ub/X//Q/+Viiv6C52T49cqE+",
          "dtype": "f4"
         },
         "xaxis": "x",
         "y": {
          "bdata": "vXMrQLuSgkCzzJhAiRJJQOs8jkAPmdY/cPbhP2DvYkBZJDdAfVtyQFj2S0C7ihJA",
          "dtype": "f4"
         },
         "yaxis": "y"
        },
        {
         "hovertemplate": "<b>%{hovertext}</b><br><br>class=water<br>x=%{x}<br>y=%{y}<extra></extra>",
         "hovertext": [
          "squirtle",
          "wartortle",
          "blastoise",
          "psyduck",
          "golduck",
          "poliwag",
          "poliwhirl",
          "poliwrath",
          "tentacool",
          "tentacruel",
          "slowpoke",
          "slowbro",
          "seel",
          "dewgong",
          "shellder",
          "cloyster",
          "krabby",
          "kingler",
          "horsea",
          "seadra",
          "goldeen",
          "seaking",
          "staryu",
          "starmie",
          "magikarp",
          "gyarados",
          "lapras"
         ],
         "legendgroup": "water",
         "marker": {
          "color": "blue",
          "opacity": 0.8,
          "size": 8,
          "symbol": "circle"
         },
         "mode": "markers",
         "name": "water",
         "orientation": "v",
         "showlegend": true,
         "type": "scatter",
         "x": {
          "bdata": "ouTpv+YsBsDaGG2/CWAiQNBY/D+WYBfAREzevkgADkDkBP6+0a5Dv21bQr/UoY+9wPgAQEp3CUD+Y8C/IEh+vghQHT7uzg3A0m6Av8clkr3BOTk//V4kPx7xUb2HSa6/aAEfv83XBsAm86U/",
          "dtype": "f4"
         },
         "xaxis": "x",
         "y": {
          "bdata": "IVTGP2Aka0BaMcs/UbRJQEJ02j9s3YFAhjJiQJKED0AFkjVADQEWQB95KkB1p21ALAZYQEoaYECan3xA2rWLQEf0JkAXE2lAPTyJQFyLYEDWjk9AfWJOQOGIJUAU9oVAMDI7QEk+b0DbvD1A",
          "dtype": "f4"
         },
         "yaxis": "y"
        },
        {
         "hovertemplate": "<b>%{hovertext}</b><br><br>class=grass<br>x=%{x}<br>y=%{y}<extra></extra>",
         "hovertext": [
          "bulbasaur",
          "ivysaur",
          "venusaur",
          "oddish",
          "vileplume",
          "bellsprout",
          "weepinbell",
          "exeggcute",
          "exeggutor",
          "tangela"
         ],
         "legendgroup": "grass",
         "marker": {
          "color": "green",
          "opacity": 0.8,
          "size": 8,
          "symbol": "circle"
         },
         "mode": "markers",
         "name": "grass",
         "orientation": "v",
         "showlegend": true,
         "type": "scatter",
         "x": {
          "bdata": "11beP6ZSqj5yjco/t6AeQEUFQMAwWuy/9ccAwOfFBL89lU+/QjHWvw==",
          "dtype": "f4"
         },
         "xaxis": "x",
         "y": {
          "bdata": "EFc0QP7RWECSYUJAtxNVQPynakAg1tQ/0an9P+r2eUCzvgJAb90OQA==",
          "dtype": "f4"
         },
         "yaxis": "y"
        }
       ],
       "layout": {
        "legend": {
         "title": {
          "text": "class"
         },
         "tracegroupgap": 0
        },
        "template": {
         "data": {
          "bar": [
           {
            "error_x": {
             "color": "#2a3f5f"
            },
            "error_y": {
             "color": "#2a3f5f"
            },
            "marker": {
             "line": {
              "color": "#E5ECF6",
              "width": 0.5
             },
             "pattern": {
              "fillmode": "overlay",
              "size": 10,
              "solidity": 0.2
             }
            },
            "type": "bar"
           }
          ],
          "barpolar": [
           {
            "marker": {
             "line": {
              "color": "#E5ECF6",
              "width": 0.5
             },
             "pattern": {
              "fillmode": "overlay",
              "size": 10,
              "solidity": 0.2
             }
            },
            "type": "barpolar"
           }
          ],
          "carpet": [
           {
            "aaxis": {
             "endlinecolor": "#2a3f5f",
             "gridcolor": "white",
             "linecolor": "white",
             "minorgridcolor": "white",
             "startlinecolor": "#2a3f5f"
            },
            "baxis": {
             "endlinecolor": "#2a3f5f",
             "gridcolor": "white",
             "linecolor": "white",
             "minorgridcolor": "white",
             "startlinecolor": "#2a3f5f"
            },
            "type": "carpet"
           }
          ],
          "choropleth": [
           {
            "colorbar": {
             "outlinewidth": 0,
             "ticks": ""
            },
            "type": "choropleth"
           }
          ],
          "contour": [
           {
            "colorbar": {
             "outlinewidth": 0,
             "ticks": ""
            },
            "colorscale": [
             [
              0,
              "#0d0887"
             ],
             [
              0.1111111111111111,
              "#46039f"
             ],
             [
              0.2222222222222222,
              "#7201a8"
             ],
             [
              0.3333333333333333,
              "#9c179e"
             ],
             [
              0.4444444444444444,
              "#bd3786"
             ],
             [
              0.5555555555555556,
              "#d8576b"
             ],
             [
              0.6666666666666666,
              "#ed7953"
             ],
             [
              0.7777777777777778,
              "#fb9f3a"
             ],
             [
              0.8888888888888888,
              "#fdca26"
             ],
             [
              1,
              "#f0f921"
             ]
            ],
            "type": "contour"
           }
          ],
          "contourcarpet": [
           {
            "colorbar": {
             "outlinewidth": 0,
             "ticks": ""
            },
            "type": "contourcarpet"
           }
          ],
          "heatmap": [
           {
            "colorbar": {
             "outlinewidth": 0,
             "ticks": ""
            },
            "colorscale": [
             [
              0,
              "#0d0887"
             ],
             [
              0.1111111111111111,
              "#46039f"
             ],
             [
              0.2222222222222222,
              "#7201a8"
             ],
             [
              0.3333333333333333,
              "#9c179e"
             ],
             [
              0.4444444444444444,
              "#bd3786"
             ],
             [
              0.5555555555555556,
              "#d8576b"
             ],
             [
              0.6666666666666666,
              "#ed7953"
             ],
             [
              0.7777777777777778,
              "#fb9f3a"
             ],
             [
              0.8888888888888888,
              "#fdca26"
             ],
             [
              1,
              "#f0f921"
             ]
            ],
            "type": "heatmap"
           }
          ],
          "histogram": [
           {
            "marker": {
             "pattern": {
              "fillmode": "overlay",
              "size": 10,
              "solidity": 0.2
             }
            },
            "type": "histogram"
           }
          ],
          "histogram2d": [
           {
            "colorbar": {
             "outlinewidth": 0,
             "ticks": ""
            },
            "colorscale": [
             [
              0,
              "#0d0887"
             ],
             [
              0.1111111111111111,
              "#46039f"
             ],
             [
              0.2222222222222222,
              "#7201a8"
             ],
             [
              0.3333333333333333,
              "#9c179e"
             ],
             [
              0.4444444444444444,
              "#bd3786"
             ],
             [
              0.5555555555555556,
              "#d8576b"
             ],
             [
              0.6666666666666666,
              "#ed7953"
             ],
             [
              0.7777777777777778,
              "#fb9f3a"
             ],
             [
              0.8888888888888888,
              "#fdca26"
             ],
             [
              1,
              "#f0f921"
             ]
            ],
            "type": "histogram2d"
           }
          ],
          "histogram2dcontour": [
           {
            "colorbar": {
             "outlinewidth": 0,
             "ticks": ""
            },
            "colorscale": [
             [
              0,
              "#0d0887"
             ],
             [
              0.1111111111111111,
              "#46039f"
             ],
             [
              0.2222222222222222,
              "#7201a8"
             ],
             [
              0.3333333333333333,
              "#9c179e"
             ],
             [
              0.4444444444444444,
              "#bd3786"
             ],
             [
              0.5555555555555556,
              "#d8576b"
             ],
             [
              0.6666666666666666,
              "#ed7953"
             ],
             [
              0.7777777777777778,
              "#fb9f3a"
             ],
             [
              0.8888888888888888,
              "#fdca26"
             ],
             [
              1,
              "#f0f921"
             ]
            ],
            "type": "histogram2dcontour"
           }
          ],
          "mesh3d": [
           {
            "colorbar": {
             "outlinewidth": 0,
             "ticks": ""
            },
            "type": "mesh3d"
           }
          ],
          "parcoords": [
           {
            "line": {
             "colorbar": {
              "outlinewidth": 0,
              "ticks": ""
             }
            },
            "type": "parcoords"
           }
          ],
          "pie": [
           {
            "automargin": true,
            "type": "pie"
           }
          ],
          "scatter": [
           {
            "fillpattern": {
             "fillmode": "overlay",
             "size": 10,
             "solidity": 0.2
            },
            "type": "scatter"
           }
          ],
          "scatter3d": [
           {
            "line": {
             "colorbar": {
              "outlinewidth": 0,
              "ticks": ""
             }
            },
            "marker": {
             "colorbar": {
              "outlinewidth": 0,
              "ticks": ""
             }
            },
            "type": "scatter3d"
           }
          ],
          "scattercarpet": [
           {
            "marker": {
             "colorbar": {
              "outlinewidth": 0,
              "ticks": ""
             }
            },
            "type": "scattercarpet"
           }
          ],
          "scattergeo": [
           {
            "marker": {
             "colorbar": {
              "outlinewidth": 0,
              "ticks": ""
             }
            },
            "type": "scattergeo"
           }
          ],
          "scattergl": [
           {
            "marker": {
             "colorbar": {
              "outlinewidth": 0,
              "ticks": ""
             }
            },
            "type": "scattergl"
           }
          ],
          "scattermap": [
           {
            "marker": {
             "colorbar": {
              "outlinewidth": 0,
              "ticks": ""
             }
            },
            "type": "scattermap"
           }
          ],
          "scattermapbox": [
           {
            "marker": {
             "colorbar": {
              "outlinewidth": 0,
              "ticks": ""
             }
            },
            "type": "scattermapbox"
           }
          ],
          "scatterpolar": [
           {
            "marker": {
             "colorbar": {
              "outlinewidth": 0,
              "ticks": ""
             }
            },
            "type": "scatterpolar"
           }
          ],
          "scatterpolargl": [
           {
            "marker": {
             "colorbar": {
              "outlinewidth": 0,
              "ticks": ""
             }
            },
            "type": "scatterpolargl"
           }
          ],
          "scatterternary": [
           {
            "marker": {
             "colorbar": {
              "outlinewidth": 0,
              "ticks": ""
             }
            },
            "type": "scatterternary"
           }
          ],
          "surface": [
           {
            "colorbar": {
             "outlinewidth": 0,
             "ticks": ""
            },
            "colorscale": [
             [
              0,
              "#0d0887"
             ],
             [
              0.1111111111111111,
              "#46039f"
             ],
             [
              0.2222222222222222,
              "#7201a8"
             ],
             [
              0.3333333333333333,
              "#9c179e"
             ],
             [
              0.4444444444444444,
              "#bd3786"
             ],
             [
              0.5555555555555556,
              "#d8576b"
             ],
             [
              0.6666666666666666,
              "#ed7953"
             ],
             [
              0.7777777777777778,
              "#fb9f3a"
             ],
             [
              0.8888888888888888,
              "#fdca26"
             ],
             [
              1,
              "#f0f921"
             ]
            ],
            "type": "surface"
           }
          ],
          "table": [
           {
            "cells": {
             "fill": {
              "color": "#EBF0F8"
             },
             "line": {
              "color": "white"
             }
            },
            "header": {
             "fill": {
              "color": "#C8D4E3"
             },
             "line": {
              "color": "white"
             }
            },
            "type": "table"
           }
          ]
         },
         "layout": {
          "annotationdefaults": {
           "arrowcolor": "#2a3f5f",
           "arrowhead": 0,
           "arrowwidth": 1
          },
          "autotypenumbers": "strict",
          "coloraxis": {
           "colorbar": {
            "outlinewidth": 0,
            "ticks": ""
           }
          },
          "colorscale": {
           "diverging": [
            [
             0,
             "#8e0152"
            ],
            [
             0.1,
             "#c51b7d"
            ],
            [
             0.2,
             "#de77ae"
            ],
            [
             0.3,
             "#f1b6da"
            ],
            [
             0.4,
             "#fde0ef"
            ],
            [
             0.5,
             "#f7f7f7"
            ],
            [
             0.6,
             "#e6f5d0"
            ],
            [
             0.7,
             "#b8e186"
            ],
            [
             0.8,
             "#7fbc41"
            ],
            [
             0.9,
             "#4d9221"
            ],
            [
             1,
             "#276419"
            ]
           ],
           "sequential": [
            [
             0,
             "#0d0887"
            ],
            [
             0.1111111111111111,
             "#46039f"
            ],
            [
             0.2222222222222222,
             "#7201a8"
            ],
            [
             0.3333333333333333,
             "#9c179e"
            ],
            [
             0.4444444444444444,
             "#bd3786"
            ],
            [
             0.5555555555555556,
             "#d8576b"
            ],
            [
             0.6666666666666666,
             "#ed7953"
            ],
            [
             0.7777777777777778,
             "#fb9f3a"
            ],
            [
             0.8888888888888888,
             "#fdca26"
            ],
            [
             1,
             "#f0f921"
            ]
           ],
           "sequentialminus": [
            [
             0,
             "#0d0887"
            ],
            [
             0.1111111111111111,
             "#46039f"
            ],
            [
             0.2222222222222222,
             "#7201a8"
            ],
            [
             0.3333333333333333,
             "#9c179e"
            ],
            [
             0.4444444444444444,
             "#bd3786"
            ],
            [
             0.5555555555555556,
             "#d8576b"
            ],
            [
             0.6666666666666666,
             "#ed7953"
            ],
            [
             0.7777777777777778,
             "#fb9f3a"
            ],
            [
             0.8888888888888888,
             "#fdca26"
            ],
            [
             1,
             "#f0f921"
            ]
           ]
          },
          "colorway": [
           "#636efa",
           "#EF553B",
           "#00cc96",
           "#ab63fa",
           "#FFA15A",
           "#19d3f3",
           "#FF6692",
           "#B6E880",
           "#FF97FF",
           "#FECB52"
          ],
          "font": {
           "color": "#2a3f5f"
          },
          "geo": {
           "bgcolor": "white",
           "lakecolor": "white",
           "landcolor": "#E5ECF6",
           "showlakes": true,
           "showland": true,
           "subunitcolor": "white"
          },
          "hoverlabel": {
           "align": "left"
          },
          "hovermode": "closest",
          "mapbox": {
           "style": "light"
          },
          "paper_bgcolor": "white",
          "plot_bgcolor": "#E5ECF6",
          "polar": {
           "angularaxis": {
            "gridcolor": "white",
            "linecolor": "white",
            "ticks": ""
           },
           "bgcolor": "#E5ECF6",
           "radialaxis": {
            "gridcolor": "white",
            "linecolor": "white",
            "ticks": ""
           }
          },
          "scene": {
           "xaxis": {
            "backgroundcolor": "#E5ECF6",
            "gridcolor": "white",
            "gridwidth": 2,
            "linecolor": "white",
            "showbackground": true,
            "ticks": "",
            "zerolinecolor": "white"
           },
           "yaxis": {
            "backgroundcolor": "#E5ECF6",
            "gridcolor": "white",
            "gridwidth": 2,
            "linecolor": "white",
            "showbackground": true,
            "ticks": "",
            "zerolinecolor": "white"
           },
           "zaxis": {
            "backgroundcolor": "#E5ECF6",
            "gridcolor": "white",
            "gridwidth": 2,
            "linecolor": "white",
            "showbackground": true,
            "ticks": "",
            "zerolinecolor": "white"
           }
          },
          "shapedefaults": {
           "line": {
            "color": "#2a3f5f"
           }
          },
          "ternary": {
           "aaxis": {
            "gridcolor": "white",
            "linecolor": "white",
            "ticks": ""
           },
           "baxis": {
            "gridcolor": "white",
            "linecolor": "white",
            "ticks": ""
           },
           "bgcolor": "#E5ECF6",
           "caxis": {
            "gridcolor": "white",
            "linecolor": "white",
            "ticks": ""
           }
          },
          "title": {
           "x": 0.05
          },
          "xaxis": {
           "automargin": true,
           "gridcolor": "white",
           "linecolor": "white",
           "ticks": "",
           "title": {
            "standoff": 15
           },
           "zerolinecolor": "white",
           "zerolinewidth": 2
          },
          "yaxis": {
           "automargin": true,
           "gridcolor": "white",
           "linecolor": "white",
           "ticks": "",
           "title": {
            "standoff": 15
           },
           "zerolinecolor": "white",
           "zerolinewidth": 2
          }
         }
        },
        "title": {
         "text": "projected embeddings"
        },
        "xaxis": {
         "anchor": "y",
         "domain": [
          0,
          1
         ],
         "title": {
          "text": "x"
         }
        },
        "yaxis": {
         "anchor": "x",
         "domain": [
          0,
          1
         ],
         "title": {
          "text": "y"
         }
        }
       }
      }
     },
     "metadata": {},
     "output_type": "display_data"
    }
   ],
   "source": [
    "from model_utils import visualize_embeddings\n",
    "\n",
    "visualize_embeddings(word2vec, dim=2, words=poke_and_types, rnd_seed=5)"
   ]
  },
  {
   "cell_type": "code",
   "execution_count": 13,
   "metadata": {},
   "outputs": [
    {
     "name": "stdout",
     "output_type": "stream",
     "text": [
      "INFO:tensorflow:Assets written to: ./saved_model/assets\n"
     ]
    },
    {
     "name": "stderr",
     "output_type": "stream",
     "text": [
      "INFO:tensorflow:Assets written to: ./saved_model/assets\n"
     ]
    }
   ],
   "source": [
    "\n",
    "# Save the model to a directory\n",
    "model_save_path = \"./saved_model\"\n",
    "word2vec.save(model_save_path)"
   ]
  },
  {
   "cell_type": "code",
   "execution_count": 24,
   "metadata": {},
   "outputs": [],
   "source": [
    "model = tf.keras.models.load_model(model_save_path)"
   ]
  },
  {
   "cell_type": "code",
   "execution_count": 25,
   "metadata": {},
   "outputs": [
    {
     "data": {
      "text/plain": [
       "<keras.src.saving.legacy.saved_model.load.Word2Vec at 0x351f1f5d0>"
      ]
     },
     "execution_count": 25,
     "metadata": {},
     "output_type": "execute_result"
    }
   ],
   "source": [
    "model"
   ]
  },
  {
   "cell_type": "code",
   "execution_count": null,
   "metadata": {},
   "outputs": [],
   "source": []
  }
 ],
 "metadata": {
  "kernelspec": {
   "display_name": ".venv",
   "language": "python",
   "name": "python3"
  },
  "language_info": {
   "codemirror_mode": {
    "name": "ipython",
    "version": 3
   },
   "file_extension": ".py",
   "mimetype": "text/x-python",
   "name": "python",
   "nbconvert_exporter": "python",
   "pygments_lexer": "ipython3",
   "version": "3.11.10"
  }
 },
 "nbformat": 4,
 "nbformat_minor": 2
}
