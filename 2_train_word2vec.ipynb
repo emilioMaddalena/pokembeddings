{
 "cells": [
  {
   "cell_type": "code",
   "execution_count": null,
   "metadata": {},
   "outputs": [],
   "source": [
    "import re\n",
    "import string\n",
    "import pandas as pd\n",
    "import tensorflow as tf\n",
    "\n",
    "from model import Word2Vec\n",
    "\n",
    "from tensorflow.keras.optimizers import Adam"
   ]
  },
  {
   "cell_type": "code",
   "execution_count": null,
   "metadata": {},
   "outputs": [],
   "source": [
    "df = pd.read_csv(\"data/pokemon_cleansed.csv\")\n",
    "df"
   ]
  },
  {
   "cell_type": "code",
   "execution_count": null,
   "metadata": {},
   "outputs": [],
   "source": [
    "# Put together a training corpus\n",
    "descriptions = list(df[\"description\"].values)\n",
    "\n",
    "# Clean and tokenize text\n",
    "def preprocess_text(text):\n",
    "    text = text.lower()  # lowercase\n",
    "    text = re.sub(f\"[{string.punctuation}]\", \"\", text)  # remove punctuation\n",
    "    words = text.split()  # tokenize into words\n",
    "    return words\n",
    "\n",
    "# Apply to all sentences\n",
    "dataset = [preprocess_text(sentence) for sentence in descriptions]\n",
    "print(dataset)"
   ]
  },
  {
   "cell_type": "code",
   "execution_count": null,
   "metadata": {},
   "outputs": [],
   "source": [
    "window_size = 10\n",
    "embedding_dim = 10\n",
    "\n",
    "epochs = 10\n",
    "optimizer = Adam(learning_rate=0.01)\n",
    "loss = tf.keras.losses.BinaryCrossentropy(from_logits=True)\n",
    "\n",
    "word2vec = Word2Vec(dataset, embedding_dim)\n",
    "train_dataset = word2vec.prepare_dataset(window_size)\n",
    "word2vec.compile(optimizer, loss)\n",
    "word2vec.fit(train_dataset, epochs=epochs)"
   ]
  },
  {
   "cell_type": "code",
   "execution_count": null,
   "metadata": {},
   "outputs": [],
   "source": [
    "word2vec.summary()"
   ]
  },
  {
   "cell_type": "code",
   "execution_count": null,
   "metadata": {},
   "outputs": [],
   "source": [
    "# Example usage\n",
    "word2vec.get_word_embedding(\"pikachu\")"
   ]
  },
  {
   "cell_type": "code",
   "execution_count": null,
   "metadata": {},
   "outputs": [],
   "source": [
    "# Example usage\n",
    "word2vec.compute_similarity(\"bulbasaur\", \"seed\")"
   ]
  },
  {
   "cell_type": "code",
   "execution_count": null,
   "metadata": {},
   "outputs": [],
   "source": [
    "# Example usage\n",
    "word2vec.compute_similarity(\"bulbasaur\", \"fire\")"
   ]
  },
  {
   "cell_type": "code",
   "execution_count": null,
   "metadata": {},
   "outputs": [],
   "source": [
    "from tests.poke_types import POKEMONS_BY_TYPE\n",
    "\n",
    "all_pokemons = []\n",
    "for pokemons in POKEMONS_BY_TYPE.values():\n",
    "    all_pokemons.extend(pokemons)\n",
    "\n",
    "print(all_pokemons)"
   ]
  },
  {
   "cell_type": "code",
   "execution_count": null,
   "metadata": {},
   "outputs": [],
   "source": [
    "for pokemon in all_pokemons:\n",
    "    if not (pokemon in word2vec.vocabulary):\n",
    "        all_pokemons.pop(all_pokemons.index(pokemon))"
   ]
  },
  {
   "cell_type": "code",
   "execution_count": null,
   "metadata": {},
   "outputs": [],
   "source": [
    "word2vec.visualize_embeddings(dim=2, rnd_seed=123, words=all_pokemons)"
   ]
  },
  {
   "cell_type": "code",
   "execution_count": null,
   "metadata": {},
   "outputs": [],
   "source": [
    "word2vec.visualize_embeddings(dim=3, rnd_seed=123, words=all_pokemons)"
   ]
  }
 ],
 "metadata": {
  "kernelspec": {
   "display_name": ".venv",
   "language": "python",
   "name": "python3"
  },
  "language_info": {
   "codemirror_mode": {
    "name": "ipython",
    "version": 3
   },
   "file_extension": ".py",
   "mimetype": "text/x-python",
   "name": "python",
   "nbconvert_exporter": "python",
   "pygments_lexer": "ipython3",
   "version": "3.11.10"
  }
 },
 "nbformat": 4,
 "nbformat_minor": 2
}
