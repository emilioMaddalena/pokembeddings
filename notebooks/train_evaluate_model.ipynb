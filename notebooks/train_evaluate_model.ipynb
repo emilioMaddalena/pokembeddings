{
 "cells": [
  {
   "cell_type": "markdown",
   "metadata": {},
   "source": [
    "Training an embedding with a simple dataset where the word relationships are very clear."
   ]
  },
  {
   "cell_type": "code",
   "execution_count": 1,
   "metadata": {},
   "outputs": [],
   "source": [
    "# Needed to import from the data directories\n",
    "import sys\n",
    "import tensorflow as tf\n",
    "import json\n",
    "\n",
    "from pathlib import Path\n",
    "\n",
    "parent_dir = Path().resolve().parent\n",
    "sys.path.append(str(parent_dir))"
   ]
  },
  {
   "cell_type": "code",
   "execution_count": 2,
   "metadata": {},
   "outputs": [],
   "source": [
    "from modules.utils import import_dataset, merge_datasets, _pre_process_sentence, visualize_embeddings\n",
    "from modules.model import Word2Vec\n",
    "\n",
    "with open(\"../data/eval_data_poke_and_types.json\", \"r\") as f:\n",
    "    POKEMONS_BY_TYPE = json.load(f)"
   ]
  },
  {
   "cell_type": "code",
   "execution_count": 3,
   "metadata": {},
   "outputs": [],
   "source": [
    "easy = import_dataset('../data/train_data_evolutions_and_types.json')\n",
    "hard = import_dataset('../data/train_data_pokedex_entries.json')\n",
    "\n",
    "#dataset = merge_datasets(easy, hard[:1])\n",
    "dataset = easy"
   ]
  },
  {
   "cell_type": "code",
   "execution_count": 22,
   "metadata": {},
   "outputs": [
    {
     "name": "stdout",
     "output_type": "stream",
     "text": [
      "Sample word pairs: [('bulbasaur', 'ivysaur'), ('bulbasaur', 'venusaur'), ('bulbasaur', 'grass'), ('bulbasaur', 'poison'), ('ivysaur', 'bulbasaur')]\n",
      "Epoch 1/100\n",
      "5/5 [==============================] - 1s 52ms/step - loss: 0.7075 - accuracy: 0.4857\n",
      "Epoch 2/100\n",
      "5/5 [==============================] - 0s 26ms/step - loss: 0.6319 - accuracy: 0.6929\n",
      "Epoch 3/100\n",
      "5/5 [==============================] - 0s 16ms/step - loss: 0.5747 - accuracy: 0.8286\n",
      "Epoch 4/100\n",
      "5/5 [==============================] - 0s 16ms/step - loss: 0.5256 - accuracy: 0.9161\n",
      "Epoch 5/100\n",
      "5/5 [==============================] - 0s 22ms/step - loss: 0.4826 - accuracy: 0.9661\n",
      "Epoch 6/100\n",
      "5/5 [==============================] - 0s 18ms/step - loss: 0.4446 - accuracy: 0.9821\n",
      "Epoch 7/100\n",
      "5/5 [==============================] - 0s 10ms/step - loss: 0.4106 - accuracy: 0.9929\n",
      "Epoch 8/100\n",
      "5/5 [==============================] - 0s 10ms/step - loss: 0.3799 - accuracy: 0.9964\n",
      "Epoch 9/100\n",
      "5/5 [==============================] - 0s 10ms/step - loss: 0.3522 - accuracy: 0.9982\n",
      "Epoch 10/100\n",
      "5/5 [==============================] - 0s 10ms/step - loss: 0.3266 - accuracy: 1.0000\n",
      "Epoch 11/100\n",
      "5/5 [==============================] - 0s 15ms/step - loss: 0.3033 - accuracy: 1.0000\n",
      "Epoch 12/100\n",
      "5/5 [==============================] - 0s 14ms/step - loss: 0.2815 - accuracy: 1.0000\n",
      "Epoch 13/100\n",
      "5/5 [==============================] - 0s 12ms/step - loss: 0.2611 - accuracy: 1.0000\n",
      "Epoch 14/100\n",
      "5/5 [==============================] - 0s 12ms/step - loss: 0.2419 - accuracy: 1.0000\n",
      "Epoch 15/100\n",
      "5/5 [==============================] - 0s 7ms/step - loss: 0.2238 - accuracy: 1.0000\n",
      "Epoch 16/100\n",
      "5/5 [==============================] - 0s 8ms/step - loss: 0.2071 - accuracy: 1.0000\n",
      "Epoch 17/100\n",
      "5/5 [==============================] - 0s 9ms/step - loss: 0.1910 - accuracy: 1.0000\n",
      "Epoch 18/100\n",
      "5/5 [==============================] - 0s 10ms/step - loss: 0.1762 - accuracy: 1.0000\n",
      "Epoch 19/100\n",
      "5/5 [==============================] - 0s 9ms/step - loss: 0.1622 - accuracy: 1.0000\n",
      "Epoch 20/100\n",
      "5/5 [==============================] - 0s 9ms/step - loss: 0.1493 - accuracy: 1.0000\n",
      "Epoch 21/100\n",
      "5/5 [==============================] - 0s 14ms/step - loss: 0.1374 - accuracy: 1.0000\n",
      "Epoch 22/100\n",
      "5/5 [==============================] - 0s 7ms/step - loss: 0.1263 - accuracy: 1.0000\n",
      "Epoch 23/100\n",
      "5/5 [==============================] - 0s 7ms/step - loss: 0.1161 - accuracy: 1.0000\n",
      "Epoch 24/100\n",
      "5/5 [==============================] - 0s 6ms/step - loss: 0.1068 - accuracy: 1.0000\n",
      "Epoch 25/100\n",
      "5/5 [==============================] - 0s 12ms/step - loss: 0.0983 - accuracy: 1.0000\n",
      "Epoch 26/100\n",
      "5/5 [==============================] - 0s 6ms/step - loss: 0.0905 - accuracy: 1.0000\n",
      "Epoch 27/100\n",
      "5/5 [==============================] - 0s 7ms/step - loss: 0.0834 - accuracy: 1.0000\n",
      "Epoch 28/100\n",
      "5/5 [==============================] - 0s 7ms/step - loss: 0.0769 - accuracy: 1.0000\n",
      "Epoch 29/100\n",
      "5/5 [==============================] - 0s 7ms/step - loss: 0.0711 - accuracy: 1.0000\n",
      "Epoch 30/100\n",
      "5/5 [==============================] - 0s 10ms/step - loss: 0.0658 - accuracy: 1.0000\n",
      "Epoch 31/100\n",
      "5/5 [==============================] - 0s 10ms/step - loss: 0.0609 - accuracy: 1.0000\n",
      "Epoch 32/100\n",
      "5/5 [==============================] - 0s 6ms/step - loss: 0.0565 - accuracy: 1.0000\n",
      "Epoch 33/100\n",
      "5/5 [==============================] - 0s 6ms/step - loss: 0.0526 - accuracy: 1.0000\n",
      "Epoch 34/100\n",
      "5/5 [==============================] - 0s 7ms/step - loss: 0.0490 - accuracy: 1.0000\n",
      "Epoch 35/100\n",
      "5/5 [==============================] - 0s 8ms/step - loss: 0.0458 - accuracy: 1.0000\n",
      "Epoch 36/100\n",
      "5/5 [==============================] - 0s 13ms/step - loss: 0.0429 - accuracy: 1.0000\n",
      "Epoch 37/100\n",
      "5/5 [==============================] - 0s 11ms/step - loss: 0.0402 - accuracy: 1.0000\n",
      "Epoch 38/100\n",
      "5/5 [==============================] - 0s 13ms/step - loss: 0.0377 - accuracy: 1.0000\n",
      "Epoch 39/100\n",
      "5/5 [==============================] - 0s 7ms/step - loss: 0.0355 - accuracy: 1.0000\n",
      "Epoch 40/100\n",
      "5/5 [==============================] - 0s 9ms/step - loss: 0.0335 - accuracy: 1.0000\n",
      "Epoch 41/100\n",
      "5/5 [==============================] - 0s 7ms/step - loss: 0.0316 - accuracy: 1.0000\n",
      "Epoch 42/100\n",
      "5/5 [==============================] - 0s 7ms/step - loss: 0.0299 - accuracy: 1.0000\n",
      "Epoch 43/100\n",
      "5/5 [==============================] - 0s 10ms/step - loss: 0.0283 - accuracy: 1.0000\n",
      "Epoch 44/100\n",
      "5/5 [==============================] - 0s 6ms/step - loss: 0.0269 - accuracy: 1.0000\n",
      "Epoch 45/100\n",
      "5/5 [==============================] - 0s 10ms/step - loss: 0.0255 - accuracy: 1.0000\n",
      "Epoch 46/100\n",
      "5/5 [==============================] - 0s 11ms/step - loss: 0.0243 - accuracy: 1.0000\n",
      "Epoch 47/100\n",
      "5/5 [==============================] - 0s 8ms/step - loss: 0.0231 - accuracy: 1.0000\n",
      "Epoch 48/100\n",
      "5/5 [==============================] - 0s 11ms/step - loss: 0.0221 - accuracy: 1.0000\n",
      "Epoch 49/100\n",
      "5/5 [==============================] - 0s 8ms/step - loss: 0.0211 - accuracy: 1.0000\n",
      "Epoch 50/100\n",
      "5/5 [==============================] - 0s 8ms/step - loss: 0.0202 - accuracy: 1.0000\n",
      "Epoch 51/100\n",
      "5/5 [==============================] - 0s 8ms/step - loss: 0.0193 - accuracy: 1.0000\n",
      "Epoch 52/100\n",
      "5/5 [==============================] - 0s 7ms/step - loss: 0.0185 - accuracy: 1.0000\n",
      "Epoch 53/100\n",
      "5/5 [==============================] - 0s 8ms/step - loss: 0.0178 - accuracy: 1.0000\n",
      "Epoch 54/100\n",
      "5/5 [==============================] - 0s 7ms/step - loss: 0.0171 - accuracy: 1.0000\n",
      "Epoch 55/100\n",
      "5/5 [==============================] - 0s 8ms/step - loss: 0.0164 - accuracy: 1.0000\n",
      "Epoch 56/100\n",
      "5/5 [==============================] - 0s 8ms/step - loss: 0.0158 - accuracy: 1.0000\n",
      "Epoch 57/100\n",
      "5/5 [==============================] - 0s 9ms/step - loss: 0.0153 - accuracy: 1.0000\n",
      "Epoch 58/100\n",
      "5/5 [==============================] - 0s 8ms/step - loss: 0.0147 - accuracy: 1.0000\n",
      "Epoch 59/100\n",
      "5/5 [==============================] - 0s 8ms/step - loss: 0.0142 - accuracy: 1.0000\n",
      "Epoch 60/100\n",
      "5/5 [==============================] - 0s 7ms/step - loss: 0.0137 - accuracy: 1.0000\n",
      "Epoch 61/100\n",
      "5/5 [==============================] - 0s 6ms/step - loss: 0.0133 - accuracy: 1.0000\n",
      "Epoch 62/100\n",
      "5/5 [==============================] - 0s 10ms/step - loss: 0.0128 - accuracy: 1.0000\n",
      "Epoch 63/100\n",
      "5/5 [==============================] - 0s 7ms/step - loss: 0.0124 - accuracy: 1.0000\n",
      "Epoch 64/100\n",
      "5/5 [==============================] - 0s 7ms/step - loss: 0.0120 - accuracy: 1.0000\n",
      "Epoch 65/100\n",
      "5/5 [==============================] - 0s 7ms/step - loss: 0.0116 - accuracy: 1.0000\n",
      "Epoch 66/100\n",
      "5/5 [==============================] - 0s 6ms/step - loss: 0.0113 - accuracy: 1.0000\n",
      "Epoch 67/100\n",
      "5/5 [==============================] - 0s 7ms/step - loss: 0.0109 - accuracy: 1.0000\n",
      "Epoch 68/100\n",
      "5/5 [==============================] - 0s 6ms/step - loss: 0.0106 - accuracy: 1.0000\n",
      "Epoch 69/100\n",
      "5/5 [==============================] - 0s 6ms/step - loss: 0.0103 - accuracy: 1.0000\n",
      "Epoch 70/100\n",
      "5/5 [==============================] - 0s 6ms/step - loss: 0.0100 - accuracy: 1.0000\n",
      "Epoch 71/100\n",
      "5/5 [==============================] - 0s 6ms/step - loss: 0.0097 - accuracy: 1.0000\n",
      "Epoch 72/100\n",
      "5/5 [==============================] - 0s 6ms/step - loss: 0.0094 - accuracy: 1.0000\n",
      "Epoch 73/100\n",
      "5/5 [==============================] - 0s 6ms/step - loss: 0.0092 - accuracy: 1.0000\n",
      "Epoch 74/100\n",
      "5/5 [==============================] - 0s 6ms/step - loss: 0.0089 - accuracy: 1.0000\n",
      "Epoch 75/100\n",
      "5/5 [==============================] - 0s 6ms/step - loss: 0.0086 - accuracy: 1.0000\n",
      "Epoch 76/100\n",
      "5/5 [==============================] - 0s 7ms/step - loss: 0.0084 - accuracy: 1.0000\n",
      "Epoch 77/100\n",
      "5/5 [==============================] - 0s 9ms/step - loss: 0.0082 - accuracy: 1.0000\n",
      "Epoch 78/100\n",
      "5/5 [==============================] - 0s 6ms/step - loss: 0.0080 - accuracy: 1.0000\n",
      "Epoch 79/100\n",
      "5/5 [==============================] - 0s 8ms/step - loss: 0.0078 - accuracy: 1.0000\n",
      "Epoch 80/100\n",
      "5/5 [==============================] - 0s 7ms/step - loss: 0.0076 - accuracy: 1.0000\n",
      "Epoch 81/100\n",
      "5/5 [==============================] - 0s 8ms/step - loss: 0.0074 - accuracy: 1.0000\n",
      "Epoch 82/100\n",
      "5/5 [==============================] - 0s 6ms/step - loss: 0.0072 - accuracy: 1.0000\n",
      "Epoch 83/100\n",
      "5/5 [==============================] - 0s 6ms/step - loss: 0.0070 - accuracy: 1.0000\n",
      "Epoch 84/100\n",
      "5/5 [==============================] - 0s 7ms/step - loss: 0.0069 - accuracy: 1.0000\n",
      "Epoch 85/100\n",
      "5/5 [==============================] - 0s 10ms/step - loss: 0.0067 - accuracy: 1.0000\n",
      "Epoch 86/100\n",
      "5/5 [==============================] - 0s 6ms/step - loss: 0.0065 - accuracy: 1.0000\n",
      "Epoch 87/100\n",
      "5/5 [==============================] - 0s 6ms/step - loss: 0.0064 - accuracy: 1.0000\n",
      "Epoch 88/100\n",
      "5/5 [==============================] - 0s 6ms/step - loss: 0.0062 - accuracy: 1.0000\n",
      "Epoch 89/100\n",
      "5/5 [==============================] - 0s 6ms/step - loss: 0.0061 - accuracy: 1.0000\n",
      "Epoch 90/100\n",
      "5/5 [==============================] - 0s 6ms/step - loss: 0.0059 - accuracy: 1.0000\n",
      "Epoch 91/100\n",
      "5/5 [==============================] - 0s 7ms/step - loss: 0.0058 - accuracy: 1.0000\n",
      "Epoch 92/100\n",
      "5/5 [==============================] - 0s 6ms/step - loss: 0.0057 - accuracy: 1.0000\n",
      "Epoch 93/100\n",
      "5/5 [==============================] - 0s 18ms/step - loss: 0.0055 - accuracy: 1.0000\n",
      "Epoch 94/100\n",
      "5/5 [==============================] - 0s 6ms/step - loss: 0.0054 - accuracy: 1.0000\n",
      "Epoch 95/100\n",
      "5/5 [==============================] - 0s 6ms/step - loss: 0.0053 - accuracy: 1.0000\n",
      "Epoch 96/100\n",
      "5/5 [==============================] - 0s 7ms/step - loss: 0.0052 - accuracy: 1.0000\n",
      "Epoch 97/100\n",
      "5/5 [==============================] - 0s 6ms/step - loss: 0.0050 - accuracy: 1.0000\n",
      "Epoch 98/100\n",
      "5/5 [==============================] - 0s 6ms/step - loss: 0.0049 - accuracy: 1.0000\n",
      "Epoch 99/100\n",
      "5/5 [==============================] - 0s 8ms/step - loss: 0.0048 - accuracy: 1.0000\n",
      "Epoch 100/100\n",
      "5/5 [==============================] - 0s 6ms/step - loss: 0.0047 - accuracy: 1.0000\n",
      "Model: \"word2_vec_3\"\n",
      "_________________________________________________________________\n",
      " Layer (type)                Output Shape              Param #   \n",
      "=================================================================\n",
      " word_embedding (Embedding)  multiple                  6400      \n",
      "                                                                 \n",
      " embedding_3 (Embedding)     multiple                  6400      \n",
      "                                                                 \n",
      " dot_3 (Dot)                 multiple                  0         \n",
      "                                                                 \n",
      "=================================================================\n",
      "Total params: 12800 (50.00 KB)\n",
      "Trainable params: 12800 (50.00 KB)\n",
      "Non-trainable params: 0 (0.00 Byte)\n",
      "_________________________________________________________________\n"
     ]
    }
   ],
   "source": [
    "window_size = 10\n",
    "embedding_dim = 50\n",
    "\n",
    "epochs = 100\n",
    "# Use Adam optimizer with learning rate decay\n",
    "optimizer = tf.keras.optimizers.legacy.Adam(\n",
    "    learning_rate=tf.keras.optimizers.schedules.ExponentialDecay(\n",
    "        initial_learning_rate=1e-3,\n",
    "        decay_steps=1000,\n",
    "        decay_rate=0.95\n",
    "    )\n",
    ")\n",
    "\n",
    "# better with neg examples\n",
    "loss = tf.keras.losses.BinaryCrossentropy(from_logits=False)\n",
    "\n",
    "word2vec = Word2Vec(dataset, embedding_dim)\n",
    "train_dataset = word2vec.prepare_dataset(window_size=window_size, num_negative_samples=0)\n",
    "word2vec.compile(optimizer, loss, metrics=['accuracy'])\n",
    "word2vec.fit(train_dataset, epochs=epochs, verbose=1)\n",
    "\n",
    "word2vec.summary()"
   ]
  },
  {
   "cell_type": "code",
   "execution_count": 23,
   "metadata": {},
   "outputs": [
    {
     "data": {
      "text/plain": [
       "(128, 50)"
      ]
     },
     "execution_count": 23,
     "metadata": {},
     "output_type": "execute_result"
    }
   ],
   "source": [
    "# get the embeddings matrix via the layer\n",
    "word2vec.get_layer(\"word_embedding\").get_weights()[0].shape\n"
   ]
  },
  {
   "cell_type": "code",
   "execution_count": 24,
   "metadata": {},
   "outputs": [],
   "source": [
    "# Load and organize evaluation data\n",
    "\n",
    "all_pokemons = []\n",
    "for pokemons in POKEMONS_BY_TYPE.values():\n",
    "    all_pokemons.extend(pokemons)\n",
    "\n",
    "pokemon_to_type = {}\n",
    "for type_name, pokemon_list in POKEMONS_BY_TYPE.items():\n",
    "    for pokemon in pokemon_list:\n",
    "        pokemon_to_type[pokemon] = type_name\n",
    "\n",
    "poke_types = [pokemon_to_type[poke] for poke in all_pokemons]\n",
    "poke_and_types = {poke: poke_type for poke, poke_type in zip(all_pokemons, poke_types)}\n",
    "\n",
    "# Remove those that aren't in the vocabulary\n",
    "pokes_to_remove = []\n",
    "for pokemon in poke_and_types.keys():\n",
    "    if not (pokemon in word2vec.vocabulary):\n",
    "        pokes_to_remove.append(pokemon)         \n",
    "\n",
    "for poke in pokes_to_remove:\n",
    "    poke_and_types.pop(poke)"
   ]
  },
  {
   "cell_type": "code",
   "execution_count": 25,
   "metadata": {},
   "outputs": [
    {
     "data": {
      "application/vnd.plotly.v1+json": {
       "config": {
        "plotlyServerURL": "https://plot.ly"
       },
       "data": [
        {
         "hovertemplate": "<b>%{hovertext}</b><br><br>class=fire<br>x=%{x}<br>y=%{y}<extra></extra>",
         "hovertext": [
          "charmander",
          "charmeleon",
          "charizard",
          "vulpix",
          "ninetales",
          "growlithe",
          "arcanine",
          "ponyta",
          "rapidash"
         ],
         "legendgroup": "fire",
         "marker": {
          "color": "red",
          "opacity": 0.8,
          "size": 8,
          "symbol": "circle"
         },
         "mode": "markers",
         "name": "fire",
         "orientation": "v",
         "showlegend": true,
         "type": "scatter",
         "x": {
          "bdata": "dbM9QbViPUHXbD1BZX89QX/UPUHNxj9Bd7Q/QTCyPEEsiz1B",
          "dtype": "f4"
         },
         "xaxis": "x",
         "y": {
          "bdata": "zRaQQF7hj0Ap745ANp+eQPXTnUA425dAu/aZQA2ankCNyJ1A",
          "dtype": "f4"
         },
         "yaxis": "y"
        },
        {
         "hovertemplate": "<b>%{hovertext}</b><br><br>class=water<br>x=%{x}<br>y=%{y}<extra></extra>",
         "hovertext": [
          "squirtle",
          "wartortle",
          "blastoise",
          "psyduck",
          "golduck",
          "poliwag",
          "poliwhirl",
          "poliwrath",
          "tentacool",
          "tentacruel",
          "slowpoke",
          "slowbro",
          "seel",
          "dewgong",
          "shellder",
          "cloyster",
          "krabby",
          "kingler"
         ],
         "legendgroup": "water",
         "marker": {
          "color": "blue",
          "opacity": 0.8,
          "size": 8,
          "symbol": "circle"
         },
         "mode": "markers",
         "name": "water",
         "orientation": "v",
         "showlegend": true,
         "type": "scatter",
         "x": {
          "bdata": "n2hQQfjWVUEarFVBc0JWQS3JT0H7TVpBCJRYQaxRWkGumFFBnt1RQfZATEFgv0tBVgNQQf8tUEHaIVBB/FBVQemgVUF/+FVB",
          "dtype": "f4"
         },
         "xaxis": "x",
         "y": {
          "bdata": "xJePvxIpJL9JLhq/Pkgyv8pkgr93jY2/S8qlv7xRib/9X/w+3bnoPu1v1L7eRNS+unZ7vxV0ir/ljY6/YGYcvy7AI7+7SCe/",
          "dtype": "f4"
         },
         "yaxis": "y"
        },
        {
         "hovertemplate": "<b>%{hovertext}</b><br><br>class=grass<br>x=%{x}<br>y=%{y}<extra></extra>",
         "hovertext": [
          "bulbasaur",
          "ivysaur",
          "venusaur",
          "oddish",
          "vileplume",
          "paras",
          "parasect",
          "bellsprout",
          "weepinbell",
          "victreebel",
          "exeggcute",
          "exeggutor"
         ],
         "legendgroup": "grass",
         "marker": {
          "color": "green",
          "opacity": 0.8,
          "size": 8,
          "symbol": "circle"
         },
         "mode": "markers",
         "name": "grass",
         "orientation": "v",
         "showlegend": true,
         "type": "scatter",
         "x": {
          "bdata": "mbJNQatsTkGx7FBBFnZPQacFTUF0zUtBpD5LQQrxTUHk9k1BAtNPQXiESUFQBUlB",
          "dtype": "f4"
         },
         "xaxis": "x",
         "y": {
          "bdata": "0aumP4CHpj/pI7A/ReSnPyAqpj95CsA/U+e+P0atpj+7t6g/nNipP1nCBz8pAxI/",
          "dtype": "f4"
         },
         "yaxis": "y"
        },
        {
         "hovertemplate": "<b>%{hovertext}</b><br><br>class=electric<br>x=%{x}<br>y=%{y}<extra></extra>",
         "hovertext": [
          "pikachu",
          "raichu",
          "magnemite",
          "magneton",
          "voltorb",
          "electrode",
          "electabuzz"
         ],
         "legendgroup": "electric",
         "marker": {
          "color": "yellow",
          "opacity": 0.8,
          "size": 8,
          "symbol": "circle"
         },
         "mode": "markers",
         "name": "electric",
         "orientation": "v",
         "showlegend": true,
         "type": "scatter",
         "x": {
          "bdata": "6N4UQRbhFEFp3hRBCN0UQbDbFEH02RRB/eAUQQ==",
          "dtype": "f4"
         },
         "xaxis": "x",
         "y": {
          "bdata": "PKC3P8S5tz+JdLc/f8K3PwKCtz8qy7c/a323Pw==",
          "dtype": "f4"
         },
         "yaxis": "y"
        },
        {
         "hovertemplate": "<b>%{hovertext}</b><br><br>class=psychic<br>x=%{x}<br>y=%{y}<extra></extra>",
         "hovertext": [
          "abra",
          "kadabra",
          "alakazam",
          "drowzee",
          "hypno"
         ],
         "legendgroup": "psychic",
         "marker": {
          "color": "purple",
          "opacity": 0.8,
          "size": 8,
          "symbol": "circle"
         },
         "mode": "markers",
         "name": "psychic",
         "orientation": "v",
         "showlegend": true,
         "type": "scatter",
         "x": {
          "bdata": "zLxCQSAXQ0GJuUNBfplDQR+9Q0E=",
          "dtype": "f4"
         },
         "xaxis": "x",
         "y": {
          "bdata": "x3qavkQamb6Mrn++WXmLvi3ri74=",
          "dtype": "f4"
         },
         "yaxis": "y"
        },
        {
         "hovertemplate": "<b>%{hovertext}</b><br><br>class=normal<br>x=%{x}<br>y=%{y}<extra></extra>",
         "hovertext": [
          "pidgey",
          "pidgeotto",
          "pidgeot",
          "rattata",
          "raticate",
          "jigglypuff",
          "wigglytuff",
          "meowth",
          "persian"
         ],
         "legendgroup": "normal",
         "marker": {
          "color": "gray",
          "opacity": 0.8,
          "size": 8,
          "symbol": "circle"
         },
         "mode": "markers",
         "name": "normal",
         "orientation": "v",
         "showlegend": true,
         "type": "scatter",
         "x": {
          "bdata": "lv05Qe8sOEFO0DdBF5I0QVzYM0Fh5jRBjDc0QUqsNUH5QzJB",
          "dtype": "f4"
         },
         "xaxis": "x",
         "y": {
          "bdata": "xzWFQP3JhUCrI4ZAIWKOQHmOjkCC/opAKt+MQOI+jECGfZJA",
          "dtype": "f4"
         },
         "yaxis": "y"
        }
       ],
       "layout": {
        "legend": {
         "title": {
          "text": "class"
         },
         "tracegroupgap": 0
        },
        "template": {
         "data": {
          "bar": [
           {
            "error_x": {
             "color": "#2a3f5f"
            },
            "error_y": {
             "color": "#2a3f5f"
            },
            "marker": {
             "line": {
              "color": "#E5ECF6",
              "width": 0.5
             },
             "pattern": {
              "fillmode": "overlay",
              "size": 10,
              "solidity": 0.2
             }
            },
            "type": "bar"
           }
          ],
          "barpolar": [
           {
            "marker": {
             "line": {
              "color": "#E5ECF6",
              "width": 0.5
             },
             "pattern": {
              "fillmode": "overlay",
              "size": 10,
              "solidity": 0.2
             }
            },
            "type": "barpolar"
           }
          ],
          "carpet": [
           {
            "aaxis": {
             "endlinecolor": "#2a3f5f",
             "gridcolor": "white",
             "linecolor": "white",
             "minorgridcolor": "white",
             "startlinecolor": "#2a3f5f"
            },
            "baxis": {
             "endlinecolor": "#2a3f5f",
             "gridcolor": "white",
             "linecolor": "white",
             "minorgridcolor": "white",
             "startlinecolor": "#2a3f5f"
            },
            "type": "carpet"
           }
          ],
          "choropleth": [
           {
            "colorbar": {
             "outlinewidth": 0,
             "ticks": ""
            },
            "type": "choropleth"
           }
          ],
          "contour": [
           {
            "colorbar": {
             "outlinewidth": 0,
             "ticks": ""
            },
            "colorscale": [
             [
              0,
              "#0d0887"
             ],
             [
              0.1111111111111111,
              "#46039f"
             ],
             [
              0.2222222222222222,
              "#7201a8"
             ],
             [
              0.3333333333333333,
              "#9c179e"
             ],
             [
              0.4444444444444444,
              "#bd3786"
             ],
             [
              0.5555555555555556,
              "#d8576b"
             ],
             [
              0.6666666666666666,
              "#ed7953"
             ],
             [
              0.7777777777777778,
              "#fb9f3a"
             ],
             [
              0.8888888888888888,
              "#fdca26"
             ],
             [
              1,
              "#f0f921"
             ]
            ],
            "type": "contour"
           }
          ],
          "contourcarpet": [
           {
            "colorbar": {
             "outlinewidth": 0,
             "ticks": ""
            },
            "type": "contourcarpet"
           }
          ],
          "heatmap": [
           {
            "colorbar": {
             "outlinewidth": 0,
             "ticks": ""
            },
            "colorscale": [
             [
              0,
              "#0d0887"
             ],
             [
              0.1111111111111111,
              "#46039f"
             ],
             [
              0.2222222222222222,
              "#7201a8"
             ],
             [
              0.3333333333333333,
              "#9c179e"
             ],
             [
              0.4444444444444444,
              "#bd3786"
             ],
             [
              0.5555555555555556,
              "#d8576b"
             ],
             [
              0.6666666666666666,
              "#ed7953"
             ],
             [
              0.7777777777777778,
              "#fb9f3a"
             ],
             [
              0.8888888888888888,
              "#fdca26"
             ],
             [
              1,
              "#f0f921"
             ]
            ],
            "type": "heatmap"
           }
          ],
          "histogram": [
           {
            "marker": {
             "pattern": {
              "fillmode": "overlay",
              "size": 10,
              "solidity": 0.2
             }
            },
            "type": "histogram"
           }
          ],
          "histogram2d": [
           {
            "colorbar": {
             "outlinewidth": 0,
             "ticks": ""
            },
            "colorscale": [
             [
              0,
              "#0d0887"
             ],
             [
              0.1111111111111111,
              "#46039f"
             ],
             [
              0.2222222222222222,
              "#7201a8"
             ],
             [
              0.3333333333333333,
              "#9c179e"
             ],
             [
              0.4444444444444444,
              "#bd3786"
             ],
             [
              0.5555555555555556,
              "#d8576b"
             ],
             [
              0.6666666666666666,
              "#ed7953"
             ],
             [
              0.7777777777777778,
              "#fb9f3a"
             ],
             [
              0.8888888888888888,
              "#fdca26"
             ],
             [
              1,
              "#f0f921"
             ]
            ],
            "type": "histogram2d"
           }
          ],
          "histogram2dcontour": [
           {
            "colorbar": {
             "outlinewidth": 0,
             "ticks": ""
            },
            "colorscale": [
             [
              0,
              "#0d0887"
             ],
             [
              0.1111111111111111,
              "#46039f"
             ],
             [
              0.2222222222222222,
              "#7201a8"
             ],
             [
              0.3333333333333333,
              "#9c179e"
             ],
             [
              0.4444444444444444,
              "#bd3786"
             ],
             [
              0.5555555555555556,
              "#d8576b"
             ],
             [
              0.6666666666666666,
              "#ed7953"
             ],
             [
              0.7777777777777778,
              "#fb9f3a"
             ],
             [
              0.8888888888888888,
              "#fdca26"
             ],
             [
              1,
              "#f0f921"
             ]
            ],
            "type": "histogram2dcontour"
           }
          ],
          "mesh3d": [
           {
            "colorbar": {
             "outlinewidth": 0,
             "ticks": ""
            },
            "type": "mesh3d"
           }
          ],
          "parcoords": [
           {
            "line": {
             "colorbar": {
              "outlinewidth": 0,
              "ticks": ""
             }
            },
            "type": "parcoords"
           }
          ],
          "pie": [
           {
            "automargin": true,
            "type": "pie"
           }
          ],
          "scatter": [
           {
            "fillpattern": {
             "fillmode": "overlay",
             "size": 10,
             "solidity": 0.2
            },
            "type": "scatter"
           }
          ],
          "scatter3d": [
           {
            "line": {
             "colorbar": {
              "outlinewidth": 0,
              "ticks": ""
             }
            },
            "marker": {
             "colorbar": {
              "outlinewidth": 0,
              "ticks": ""
             }
            },
            "type": "scatter3d"
           }
          ],
          "scattercarpet": [
           {
            "marker": {
             "colorbar": {
              "outlinewidth": 0,
              "ticks": ""
             }
            },
            "type": "scattercarpet"
           }
          ],
          "scattergeo": [
           {
            "marker": {
             "colorbar": {
              "outlinewidth": 0,
              "ticks": ""
             }
            },
            "type": "scattergeo"
           }
          ],
          "scattergl": [
           {
            "marker": {
             "colorbar": {
              "outlinewidth": 0,
              "ticks": ""
             }
            },
            "type": "scattergl"
           }
          ],
          "scattermap": [
           {
            "marker": {
             "colorbar": {
              "outlinewidth": 0,
              "ticks": ""
             }
            },
            "type": "scattermap"
           }
          ],
          "scattermapbox": [
           {
            "marker": {
             "colorbar": {
              "outlinewidth": 0,
              "ticks": ""
             }
            },
            "type": "scattermapbox"
           }
          ],
          "scatterpolar": [
           {
            "marker": {
             "colorbar": {
              "outlinewidth": 0,
              "ticks": ""
             }
            },
            "type": "scatterpolar"
           }
          ],
          "scatterpolargl": [
           {
            "marker": {
             "colorbar": {
              "outlinewidth": 0,
              "ticks": ""
             }
            },
            "type": "scatterpolargl"
           }
          ],
          "scatterternary": [
           {
            "marker": {
             "colorbar": {
              "outlinewidth": 0,
              "ticks": ""
             }
            },
            "type": "scatterternary"
           }
          ],
          "surface": [
           {
            "colorbar": {
             "outlinewidth": 0,
             "ticks": ""
            },
            "colorscale": [
             [
              0,
              "#0d0887"
             ],
             [
              0.1111111111111111,
              "#46039f"
             ],
             [
              0.2222222222222222,
              "#7201a8"
             ],
             [
              0.3333333333333333,
              "#9c179e"
             ],
             [
              0.4444444444444444,
              "#bd3786"
             ],
             [
              0.5555555555555556,
              "#d8576b"
             ],
             [
              0.6666666666666666,
              "#ed7953"
             ],
             [
              0.7777777777777778,
              "#fb9f3a"
             ],
             [
              0.8888888888888888,
              "#fdca26"
             ],
             [
              1,
              "#f0f921"
             ]
            ],
            "type": "surface"
           }
          ],
          "table": [
           {
            "cells": {
             "fill": {
              "color": "#EBF0F8"
             },
             "line": {
              "color": "white"
             }
            },
            "header": {
             "fill": {
              "color": "#C8D4E3"
             },
             "line": {
              "color": "white"
             }
            },
            "type": "table"
           }
          ]
         },
         "layout": {
          "annotationdefaults": {
           "arrowcolor": "#2a3f5f",
           "arrowhead": 0,
           "arrowwidth": 1
          },
          "autotypenumbers": "strict",
          "coloraxis": {
           "colorbar": {
            "outlinewidth": 0,
            "ticks": ""
           }
          },
          "colorscale": {
           "diverging": [
            [
             0,
             "#8e0152"
            ],
            [
             0.1,
             "#c51b7d"
            ],
            [
             0.2,
             "#de77ae"
            ],
            [
             0.3,
             "#f1b6da"
            ],
            [
             0.4,
             "#fde0ef"
            ],
            [
             0.5,
             "#f7f7f7"
            ],
            [
             0.6,
             "#e6f5d0"
            ],
            [
             0.7,
             "#b8e186"
            ],
            [
             0.8,
             "#7fbc41"
            ],
            [
             0.9,
             "#4d9221"
            ],
            [
             1,
             "#276419"
            ]
           ],
           "sequential": [
            [
             0,
             "#0d0887"
            ],
            [
             0.1111111111111111,
             "#46039f"
            ],
            [
             0.2222222222222222,
             "#7201a8"
            ],
            [
             0.3333333333333333,
             "#9c179e"
            ],
            [
             0.4444444444444444,
             "#bd3786"
            ],
            [
             0.5555555555555556,
             "#d8576b"
            ],
            [
             0.6666666666666666,
             "#ed7953"
            ],
            [
             0.7777777777777778,
             "#fb9f3a"
            ],
            [
             0.8888888888888888,
             "#fdca26"
            ],
            [
             1,
             "#f0f921"
            ]
           ],
           "sequentialminus": [
            [
             0,
             "#0d0887"
            ],
            [
             0.1111111111111111,
             "#46039f"
            ],
            [
             0.2222222222222222,
             "#7201a8"
            ],
            [
             0.3333333333333333,
             "#9c179e"
            ],
            [
             0.4444444444444444,
             "#bd3786"
            ],
            [
             0.5555555555555556,
             "#d8576b"
            ],
            [
             0.6666666666666666,
             "#ed7953"
            ],
            [
             0.7777777777777778,
             "#fb9f3a"
            ],
            [
             0.8888888888888888,
             "#fdca26"
            ],
            [
             1,
             "#f0f921"
            ]
           ]
          },
          "colorway": [
           "#636efa",
           "#EF553B",
           "#00cc96",
           "#ab63fa",
           "#FFA15A",
           "#19d3f3",
           "#FF6692",
           "#B6E880",
           "#FF97FF",
           "#FECB52"
          ],
          "font": {
           "color": "#2a3f5f"
          },
          "geo": {
           "bgcolor": "white",
           "lakecolor": "white",
           "landcolor": "#E5ECF6",
           "showlakes": true,
           "showland": true,
           "subunitcolor": "white"
          },
          "hoverlabel": {
           "align": "left"
          },
          "hovermode": "closest",
          "mapbox": {
           "style": "light"
          },
          "paper_bgcolor": "white",
          "plot_bgcolor": "#E5ECF6",
          "polar": {
           "angularaxis": {
            "gridcolor": "white",
            "linecolor": "white",
            "ticks": ""
           },
           "bgcolor": "#E5ECF6",
           "radialaxis": {
            "gridcolor": "white",
            "linecolor": "white",
            "ticks": ""
           }
          },
          "scene": {
           "xaxis": {
            "backgroundcolor": "#E5ECF6",
            "gridcolor": "white",
            "gridwidth": 2,
            "linecolor": "white",
            "showbackground": true,
            "ticks": "",
            "zerolinecolor": "white"
           },
           "yaxis": {
            "backgroundcolor": "#E5ECF6",
            "gridcolor": "white",
            "gridwidth": 2,
            "linecolor": "white",
            "showbackground": true,
            "ticks": "",
            "zerolinecolor": "white"
           },
           "zaxis": {
            "backgroundcolor": "#E5ECF6",
            "gridcolor": "white",
            "gridwidth": 2,
            "linecolor": "white",
            "showbackground": true,
            "ticks": "",
            "zerolinecolor": "white"
           }
          },
          "shapedefaults": {
           "line": {
            "color": "#2a3f5f"
           }
          },
          "ternary": {
           "aaxis": {
            "gridcolor": "white",
            "linecolor": "white",
            "ticks": ""
           },
           "baxis": {
            "gridcolor": "white",
            "linecolor": "white",
            "ticks": ""
           },
           "bgcolor": "#E5ECF6",
           "caxis": {
            "gridcolor": "white",
            "linecolor": "white",
            "ticks": ""
           }
          },
          "title": {
           "x": 0.05
          },
          "xaxis": {
           "automargin": true,
           "gridcolor": "white",
           "linecolor": "white",
           "ticks": "",
           "title": {
            "standoff": 15
           },
           "zerolinecolor": "white",
           "zerolinewidth": 2
          },
          "yaxis": {
           "automargin": true,
           "gridcolor": "white",
           "linecolor": "white",
           "ticks": "",
           "title": {
            "standoff": 15
           },
           "zerolinecolor": "white",
           "zerolinewidth": 2
          }
         }
        },
        "title": {
         "text": "Word2Vec Pokembeddings"
        },
        "xaxis": {
         "anchor": "y",
         "domain": [
          0,
          1
         ],
         "title": {
          "text": "x"
         }
        },
        "yaxis": {
         "anchor": "x",
         "domain": [
          0,
          1
         ],
         "title": {
          "text": "y"
         }
        }
       }
      }
     },
     "metadata": {},
     "output_type": "display_data"
    }
   ],
   "source": [
    "visualize_embeddings(word2vec, dim=2, words=poke_and_types, title='Word2Vec Pokembeddings',) "
   ]
  },
  {
   "cell_type": "code",
   "execution_count": 29,
   "metadata": {},
   "outputs": [
    {
     "name": "stdout",
     "output_type": "stream",
     "text": [
      "Pass: 98.0% (294 of 300)\n",
      " Fail: 2.0% (6 of 300)\n"
     ]
    }
   ],
   "source": [
    "from modules.test_types import test_script\n",
    "results = test_script(word2vec)"
   ]
  },
  {
   "cell_type": "code",
   "execution_count": 30,
   "metadata": {},
   "outputs": [
    {
     "data": {
      "text/plain": [
       "6"
      ]
     },
     "execution_count": 30,
     "metadata": {},
     "output_type": "execute_result"
    }
   ],
   "source": [
    "results.fail_counter"
   ]
  },
  {
   "cell_type": "code",
   "execution_count": 19,
   "metadata": {},
   "outputs": [
    {
     "name": "stdout",
     "output_type": "stream",
     "text": [
      "INFO:tensorflow:Assets written to: ./saved_model/assets\n"
     ]
    },
    {
     "name": "stderr",
     "output_type": "stream",
     "text": [
      "INFO:tensorflow:Assets written to: ./saved_model/assets\n"
     ]
    }
   ],
   "source": [
    "# Save the model to a directory\n",
    "model_save_path = \"./saved_model\"\n",
    "word2vec.save(model_save_path)"
   ]
  },
  {
   "cell_type": "code",
   "execution_count": null,
   "metadata": {},
   "outputs": [],
   "source": []
  }
 ],
 "metadata": {
  "kernelspec": {
   "display_name": ".venv",
   "language": "python",
   "name": "python3"
  },
  "language_info": {
   "codemirror_mode": {
    "name": "ipython",
    "version": 3
   },
   "file_extension": ".py",
   "mimetype": "text/x-python",
   "name": "python",
   "nbconvert_exporter": "python",
   "pygments_lexer": "ipython3",
   "version": "3.11.10"
  }
 },
 "nbformat": 4,
 "nbformat_minor": 2
}
