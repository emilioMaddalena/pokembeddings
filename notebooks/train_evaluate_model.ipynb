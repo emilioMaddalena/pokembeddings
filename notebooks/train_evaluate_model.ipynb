{
 "cells": [
  {
   "cell_type": "markdown",
   "metadata": {},
   "source": [
    "Training an embedding with a simple dataset where the word relationships are very clear."
   ]
  },
  {
   "cell_type": "code",
   "execution_count": null,
   "metadata": {},
   "outputs": [],
   "source": [
    "# Needed to import from the data directories\n",
    "import sys\n",
    "import tensorflow as tf\n",
    "\n",
    "from pathlib import Path\n",
    "\n",
    "parent_dir = Path().resolve().parent\n",
    "sys.path.append(str(parent_dir))"
   ]
  },
  {
   "cell_type": "code",
   "execution_count": null,
   "metadata": {},
   "outputs": [],
   "source": [
    "from utils import import_dataset, merge_datasets, _pre_process_sentence, visualize_embeddings\n",
    "from model import Word2Vec\n",
    "from evaluation_data.poke_types import POKEMONS_BY_TYPE"
   ]
  },
  {
   "cell_type": "code",
   "execution_count": 5,
   "metadata": {},
   "outputs": [],
   "source": [
    "easy = import_dataset('../train_data/evolutions_and_types.json')\n",
    "hard = import_dataset('../train_data/pokedex_entries.json')\n",
    "\n",
    "#dataset = merge_datasets(easy, hard[:1])\n",
    "dataset = easy"
   ]
  },
  {
   "cell_type": "code",
   "execution_count": 6,
   "metadata": {},
   "outputs": [
    {
     "name": "stdout",
     "output_type": "stream",
     "text": [
      "Sample word pairs: [('bulbasaur', 'ivysaur'), ('bulbasaur', 'venusaur'), ('bulbasaur', 'grass'), ('bulbasaur', 'poison'), ('ivysaur', 'bulbasaur')]\n",
      "Epoch 1/100\n"
     ]
    },
    {
     "name": "stderr",
     "output_type": "stream",
     "text": [
      "2025-03-17 07:17:48.971932: I metal_plugin/src/device/metal_device.cc:1154] Metal device set to: Apple M2\n",
      "2025-03-17 07:17:48.972125: I metal_plugin/src/device/metal_device.cc:296] systemMemory: 16.00 GB\n",
      "2025-03-17 07:17:48.972133: I metal_plugin/src/device/metal_device.cc:313] maxCacheSize: 5.33 GB\n",
      "2025-03-17 07:17:48.972262: I tensorflow/core/common_runtime/pluggable_device/pluggable_device_factory.cc:306] Could not identify NUMA node of platform GPU ID 0, defaulting to 0. Your kernel may not have been built with NUMA support.\n",
      "2025-03-17 07:17:48.972528: I tensorflow/core/common_runtime/pluggable_device/pluggable_device_factory.cc:272] Created TensorFlow device (/job:localhost/replica:0/task:0/device:GPU:0 with 0 MB memory) -> physical PluggableDevice (device: 0, name: METAL, pci bus id: <undefined>)\n",
      "2025-03-17 07:17:49.281179: I tensorflow/core/grappler/optimizers/custom_graph_optimizer_registry.cc:117] Plugin optimizer for device_type GPU is enabled.\n"
     ]
    },
    {
     "name": "stdout",
     "output_type": "stream",
     "text": [
      "5/5 [==============================] - 1s 46ms/step - loss: 0.6889 - accuracy: 0.0000e+00\n",
      "Epoch 2/100\n",
      "5/5 [==============================] - 0s 18ms/step - loss: 0.6433 - accuracy: 0.0000e+00\n",
      "Epoch 3/100\n",
      "5/5 [==============================] - 0s 17ms/step - loss: 0.6030 - accuracy: 0.0000e+00\n",
      "Epoch 4/100\n",
      "5/5 [==============================] - 0s 17ms/step - loss: 0.5659 - accuracy: 0.0089\n",
      "Epoch 5/100\n",
      "5/5 [==============================] - 0s 14ms/step - loss: 0.5320 - accuracy: 0.1036\n",
      "Epoch 6/100\n",
      "5/5 [==============================] - 0s 14ms/step - loss: 0.5022 - accuracy: 0.2857\n",
      "Epoch 7/100\n",
      "5/5 [==============================] - 0s 13ms/step - loss: 0.4764 - accuracy: 0.5000\n",
      "Epoch 8/100\n",
      "5/5 [==============================] - 0s 14ms/step - loss: 0.4544 - accuracy: 0.6554\n",
      "Epoch 9/100\n",
      "5/5 [==============================] - 0s 9ms/step - loss: 0.4359 - accuracy: 0.8000\n",
      "Epoch 10/100\n",
      "5/5 [==============================] - 0s 9ms/step - loss: 0.4204 - accuracy: 0.9018\n",
      "Epoch 11/100\n",
      "5/5 [==============================] - 0s 9ms/step - loss: 0.4074 - accuracy: 0.9339\n",
      "Epoch 12/100\n",
      "5/5 [==============================] - 0s 6ms/step - loss: 0.3963 - accuracy: 0.9589\n",
      "Epoch 13/100\n",
      "5/5 [==============================] - 0s 6ms/step - loss: 0.3868 - accuracy: 0.9714\n",
      "Epoch 14/100\n",
      "5/5 [==============================] - 0s 6ms/step - loss: 0.3787 - accuracy: 0.9714\n",
      "Epoch 15/100\n",
      "5/5 [==============================] - 0s 6ms/step - loss: 0.3718 - accuracy: 0.9821\n",
      "Epoch 16/100\n",
      "5/5 [==============================] - 0s 10ms/step - loss: 0.3657 - accuracy: 0.9893\n",
      "Epoch 17/100\n",
      "5/5 [==============================] - 0s 6ms/step - loss: 0.3605 - accuracy: 0.9893\n",
      "Epoch 18/100\n",
      "5/5 [==============================] - 0s 7ms/step - loss: 0.3559 - accuracy: 0.9911\n",
      "Epoch 19/100\n",
      "5/5 [==============================] - 0s 9ms/step - loss: 0.3519 - accuracy: 0.9929\n",
      "Epoch 20/100\n",
      "5/5 [==============================] - 0s 7ms/step - loss: 0.3483 - accuracy: 0.9929\n",
      "Epoch 21/100\n",
      "5/5 [==============================] - 0s 13ms/step - loss: 0.3452 - accuracy: 0.9929\n",
      "Epoch 22/100\n",
      "5/5 [==============================] - 0s 7ms/step - loss: 0.3424 - accuracy: 0.9946\n",
      "Epoch 23/100\n",
      "5/5 [==============================] - 0s 9ms/step - loss: 0.3400 - accuracy: 0.9964\n",
      "Epoch 24/100\n",
      "5/5 [==============================] - 0s 9ms/step - loss: 0.3378 - accuracy: 0.9964\n",
      "Epoch 25/100\n",
      "5/5 [==============================] - 0s 9ms/step - loss: 0.3359 - accuracy: 0.9964\n",
      "Epoch 26/100\n",
      "5/5 [==============================] - 0s 6ms/step - loss: 0.3341 - accuracy: 0.9964\n",
      "Epoch 27/100\n",
      "5/5 [==============================] - 0s 9ms/step - loss: 0.3326 - accuracy: 0.9964\n",
      "Epoch 28/100\n",
      "5/5 [==============================] - 0s 6ms/step - loss: 0.3312 - accuracy: 0.9964\n",
      "Epoch 29/100\n",
      "5/5 [==============================] - 0s 6ms/step - loss: 0.3299 - accuracy: 0.9964\n",
      "Epoch 30/100\n",
      "5/5 [==============================] - 0s 6ms/step - loss: 0.3288 - accuracy: 0.9964\n",
      "Epoch 31/100\n",
      "5/5 [==============================] - 0s 6ms/step - loss: 0.3278 - accuracy: 0.9964\n",
      "Epoch 32/100\n",
      "5/5 [==============================] - 0s 6ms/step - loss: 0.3269 - accuracy: 0.9964\n",
      "Epoch 33/100\n",
      "5/5 [==============================] - 0s 6ms/step - loss: 0.3260 - accuracy: 0.9964\n",
      "Epoch 34/100\n",
      "5/5 [==============================] - 0s 9ms/step - loss: 0.3253 - accuracy: 1.0000\n",
      "Epoch 35/100\n",
      "5/5 [==============================] - 0s 6ms/step - loss: 0.3246 - accuracy: 1.0000\n",
      "Epoch 36/100\n",
      "5/5 [==============================] - 0s 6ms/step - loss: 0.3239 - accuracy: 1.0000\n",
      "Epoch 37/100\n",
      "5/5 [==============================] - 0s 10ms/step - loss: 0.3234 - accuracy: 1.0000\n",
      "Epoch 38/100\n",
      "5/5 [==============================] - 0s 6ms/step - loss: 0.3228 - accuracy: 1.0000\n",
      "Epoch 39/100\n",
      "5/5 [==============================] - 0s 6ms/step - loss: 0.3223 - accuracy: 1.0000\n",
      "Epoch 40/100\n",
      "5/5 [==============================] - 0s 6ms/step - loss: 0.3219 - accuracy: 1.0000\n",
      "Epoch 41/100\n",
      "5/5 [==============================] - 0s 6ms/step - loss: 0.3215 - accuracy: 1.0000\n",
      "Epoch 42/100\n",
      "5/5 [==============================] - 0s 6ms/step - loss: 0.3211 - accuracy: 1.0000\n",
      "Epoch 43/100\n",
      "5/5 [==============================] - 0s 6ms/step - loss: 0.3207 - accuracy: 1.0000\n",
      "Epoch 44/100\n",
      "5/5 [==============================] - 0s 6ms/step - loss: 0.3204 - accuracy: 1.0000\n",
      "Epoch 45/100\n",
      "5/5 [==============================] - 0s 6ms/step - loss: 0.3201 - accuracy: 1.0000\n",
      "Epoch 46/100\n",
      "5/5 [==============================] - 0s 6ms/step - loss: 0.3198 - accuracy: 1.0000\n",
      "Epoch 47/100\n",
      "5/5 [==============================] - 0s 6ms/step - loss: 0.3195 - accuracy: 1.0000\n",
      "Epoch 48/100\n",
      "5/5 [==============================] - 0s 6ms/step - loss: 0.3193 - accuracy: 1.0000\n",
      "Epoch 49/100\n",
      "5/5 [==============================] - 0s 6ms/step - loss: 0.3190 - accuracy: 1.0000\n",
      "Epoch 50/100\n",
      "5/5 [==============================] - 0s 6ms/step - loss: 0.3188 - accuracy: 1.0000\n",
      "Epoch 51/100\n",
      "5/5 [==============================] - 0s 6ms/step - loss: 0.3186 - accuracy: 1.0000\n",
      "Epoch 52/100\n",
      "5/5 [==============================] - 0s 6ms/step - loss: 0.3184 - accuracy: 1.0000\n",
      "Epoch 53/100\n",
      "5/5 [==============================] - 0s 6ms/step - loss: 0.3182 - accuracy: 1.0000\n",
      "Epoch 54/100\n",
      "5/5 [==============================] - 0s 9ms/step - loss: 0.3180 - accuracy: 1.0000\n",
      "Epoch 55/100\n",
      "5/5 [==============================] - 0s 6ms/step - loss: 0.3178 - accuracy: 1.0000\n",
      "Epoch 56/100\n",
      "5/5 [==============================] - 0s 8ms/step - loss: 0.3177 - accuracy: 1.0000\n",
      "Epoch 57/100\n",
      "5/5 [==============================] - 0s 6ms/step - loss: 0.3175 - accuracy: 1.0000\n",
      "Epoch 58/100\n",
      "5/5 [==============================] - 0s 6ms/step - loss: 0.3174 - accuracy: 1.0000\n",
      "Epoch 59/100\n",
      "5/5 [==============================] - 0s 6ms/step - loss: 0.3172 - accuracy: 1.0000\n",
      "Epoch 60/100\n",
      "5/5 [==============================] - 0s 6ms/step - loss: 0.3171 - accuracy: 1.0000\n",
      "Epoch 61/100\n",
      "5/5 [==============================] - 0s 6ms/step - loss: 0.3170 - accuracy: 1.0000\n",
      "Epoch 62/100\n",
      "5/5 [==============================] - 0s 6ms/step - loss: 0.3168 - accuracy: 1.0000\n",
      "Epoch 63/100\n",
      "5/5 [==============================] - 0s 7ms/step - loss: 0.3167 - accuracy: 1.0000\n",
      "Epoch 64/100\n",
      "5/5 [==============================] - 0s 7ms/step - loss: 0.3166 - accuracy: 1.0000\n",
      "Epoch 65/100\n",
      "5/5 [==============================] - 0s 7ms/step - loss: 0.3165 - accuracy: 1.0000\n",
      "Epoch 66/100\n",
      "5/5 [==============================] - 0s 7ms/step - loss: 0.3164 - accuracy: 1.0000\n",
      "Epoch 67/100\n",
      "5/5 [==============================] - 0s 7ms/step - loss: 0.3163 - accuracy: 1.0000\n",
      "Epoch 68/100\n",
      "5/5 [==============================] - 0s 7ms/step - loss: 0.3162 - accuracy: 1.0000\n",
      "Epoch 69/100\n",
      "5/5 [==============================] - 0s 7ms/step - loss: 0.3161 - accuracy: 1.0000\n",
      "Epoch 70/100\n",
      "5/5 [==============================] - 0s 7ms/step - loss: 0.3160 - accuracy: 1.0000\n",
      "Epoch 71/100\n",
      "5/5 [==============================] - 0s 7ms/step - loss: 0.3160 - accuracy: 1.0000\n",
      "Epoch 72/100\n",
      "5/5 [==============================] - 0s 6ms/step - loss: 0.3159 - accuracy: 1.0000\n",
      "Epoch 73/100\n",
      "5/5 [==============================] - 0s 10ms/step - loss: 0.3158 - accuracy: 1.0000\n",
      "Epoch 74/100\n",
      "5/5 [==============================] - 0s 7ms/step - loss: 0.3157 - accuracy: 1.0000\n",
      "Epoch 75/100\n",
      "5/5 [==============================] - 0s 6ms/step - loss: 0.3157 - accuracy: 1.0000\n",
      "Epoch 76/100\n",
      "5/5 [==============================] - 0s 6ms/step - loss: 0.3156 - accuracy: 1.0000\n",
      "Epoch 77/100\n",
      "5/5 [==============================] - 0s 6ms/step - loss: 0.3155 - accuracy: 1.0000\n",
      "Epoch 78/100\n",
      "5/5 [==============================] - 0s 6ms/step - loss: 0.3155 - accuracy: 1.0000\n",
      "Epoch 79/100\n",
      "5/5 [==============================] - 0s 6ms/step - loss: 0.3154 - accuracy: 1.0000\n",
      "Epoch 80/100\n",
      "5/5 [==============================] - 0s 6ms/step - loss: 0.3153 - accuracy: 1.0000\n",
      "Epoch 81/100\n",
      "5/5 [==============================] - 0s 6ms/step - loss: 0.3153 - accuracy: 1.0000\n",
      "Epoch 82/100\n",
      "5/5 [==============================] - 0s 10ms/step - loss: 0.3152 - accuracy: 1.0000\n",
      "Epoch 83/100\n",
      "5/5 [==============================] - 0s 7ms/step - loss: 0.3152 - accuracy: 1.0000\n",
      "Epoch 84/100\n",
      "5/5 [==============================] - 0s 7ms/step - loss: 0.3151 - accuracy: 1.0000\n",
      "Epoch 85/100\n",
      "5/5 [==============================] - 0s 7ms/step - loss: 0.3151 - accuracy: 1.0000\n",
      "Epoch 86/100\n",
      "5/5 [==============================] - 0s 7ms/step - loss: 0.3150 - accuracy: 1.0000\n",
      "Epoch 87/100\n",
      "5/5 [==============================] - 0s 6ms/step - loss: 0.3150 - accuracy: 1.0000\n",
      "Epoch 88/100\n",
      "5/5 [==============================] - 0s 6ms/step - loss: 0.3149 - accuracy: 1.0000\n",
      "Epoch 89/100\n",
      "5/5 [==============================] - 0s 6ms/step - loss: 0.3149 - accuracy: 1.0000\n",
      "Epoch 90/100\n",
      "5/5 [==============================] - 0s 6ms/step - loss: 0.3148 - accuracy: 1.0000\n",
      "Epoch 91/100\n",
      "5/5 [==============================] - 0s 6ms/step - loss: 0.3148 - accuracy: 1.0000\n",
      "Epoch 92/100\n",
      "5/5 [==============================] - 0s 6ms/step - loss: 0.3148 - accuracy: 1.0000\n",
      "Epoch 93/100\n",
      "5/5 [==============================] - 0s 6ms/step - loss: 0.3147 - accuracy: 1.0000\n",
      "Epoch 94/100\n",
      "5/5 [==============================] - 0s 6ms/step - loss: 0.3147 - accuracy: 1.0000\n",
      "Epoch 95/100\n",
      "5/5 [==============================] - 0s 6ms/step - loss: 0.3146 - accuracy: 1.0000\n",
      "Epoch 96/100\n",
      "5/5 [==============================] - 0s 6ms/step - loss: 0.3146 - accuracy: 1.0000\n",
      "Epoch 97/100\n",
      "5/5 [==============================] - 0s 6ms/step - loss: 0.3146 - accuracy: 1.0000\n",
      "Epoch 98/100\n",
      "5/5 [==============================] - 0s 8ms/step - loss: 0.3145 - accuracy: 1.0000\n",
      "Epoch 99/100\n",
      "5/5 [==============================] - 0s 8ms/step - loss: 0.3145 - accuracy: 1.0000\n",
      "Epoch 100/100\n",
      "5/5 [==============================] - 0s 7ms/step - loss: 0.3145 - accuracy: 1.0000\n",
      "Model: \"word2_vec\"\n",
      "_________________________________________________________________\n",
      " Layer (type)                Output Shape              Param #   \n",
      "=================================================================\n",
      " word_embedding (Embedding)  multiple                  25600     \n",
      "                                                                 \n",
      " dot (Dot)                   multiple                  0         \n",
      "                                                                 \n",
      "=================================================================\n",
      "Total params: 25600 (100.00 KB)\n",
      "Trainable params: 25600 (100.00 KB)\n",
      "Non-trainable params: 0 (0.00 Byte)\n",
      "_________________________________________________________________\n"
     ]
    }
   ],
   "source": [
    "window_size = 10\n",
    "embedding_dim = 200\n",
    "\n",
    "epochs = 100\n",
    "# Use Adam optimizer with learning rate decay\n",
    "optimizer = tf.keras.optimizers.legacy.Adam(\n",
    "    learning_rate=tf.keras.optimizers.schedules.ExponentialDecay(\n",
    "        initial_learning_rate=1e-3,\n",
    "        decay_steps=1000,\n",
    "        decay_rate=0.95\n",
    "    )\n",
    ")\n",
    "\n",
    "# better with neg examples\n",
    "loss = tf.keras.losses.BinaryCrossentropy(from_logits=True)\n",
    "\n",
    "word2vec = Word2Vec(dataset, embedding_dim)\n",
    "train_dataset = word2vec.prepare_dataset(window_size=window_size, num_negative_samples=0)\n",
    "word2vec.compile(optimizer, loss, metrics=['accuracy'])\n",
    "word2vec.fit(train_dataset, epochs=epochs, verbose=1)\n",
    "\n",
    "word2vec.summary()"
   ]
  },
  {
   "cell_type": "code",
   "execution_count": null,
   "metadata": {},
   "outputs": [
    {
     "name": "stdout",
     "output_type": "stream",
     "text": [
      "['charmander', 'charmeleon', 'charizard', 'vulpix', 'ninetales', 'growlithe', 'arcanine', 'ponyta', 'rapidash', 'magmar', 'flareon', 'moltres', 'squirtle', 'wartortle', 'blastoise', 'psyduck', 'golduck', 'poliwag', 'poliwhirl', 'poliwrath', 'tentacool', 'tentacruel', 'slowpoke', 'slowbro', 'seel', 'dewgong', 'shellder', 'cloyster', 'krabby', 'kingler', 'horsea', 'seadra', 'goldeen', 'seaking', 'staryu', 'starmie', 'magikarp', 'gyarados', 'lapras', 'bulbasaur', 'ivysaur', 'venusaur', 'oddish', 'vileplume', 'paras', 'parasect', 'bellsprout', 'weepinbell', 'victreebel', 'exeggcute', 'exeggutor', 'tangela', 'pikachu', 'raichu', 'magnemite', 'magneton', 'voltorb', 'electrode', 'electabuzz', 'jolteon', 'zapdos', 'abra', 'kadabra', 'alakazam', 'drowzee', 'hypno', 'mr.mime', 'mewtwo', 'mew', 'pidgey', 'pidgeotto', 'pidgeot', 'rattata', 'raticate', 'jigglypuff', 'wigglytuff', 'meowth', 'persian', 'snorlax']\n"
     ]
    }
   ],
   "source": [
    "# Load and organize evaluation data\n",
    "\n",
    "all_pokemons = []\n",
    "for pokemons in POKEMONS_BY_TYPE.values():\n",
    "    all_pokemons.extend(pokemons)\n",
    "\n",
    "pokemon_to_type = {}\n",
    "for type_name, pokemon_list in POKEMONS_BY_TYPE.items():\n",
    "    for pokemon in pokemon_list:\n",
    "        pokemon_to_type[pokemon] = type_name\n",
    "\n",
    "poke_types = [pokemon_to_type[poke] for poke in all_pokemons]\n",
    "poke_and_types = {poke: poke_type for poke, poke_type in zip(all_pokemons, poke_types)}\n",
    "\n",
    "# Remove those that aren't in the vocabulary\n",
    "pokes_to_remove = []\n",
    "for pokemon in poke_and_types.keys():\n",
    "    if not (pokemon in word2vec.vocabulary):\n",
    "        pokes_to_remove.append(pokemon)         \n",
    "\n",
    "for poke in pokes_to_remove:\n",
    "    poke_and_types.pop(poke)"
   ]
  },
  {
   "cell_type": "code",
   "execution_count": 12,
   "metadata": {},
   "outputs": [
    {
     "data": {
      "application/vnd.plotly.v1+json": {
       "config": {
        "plotlyServerURL": "https://plot.ly"
       },
       "data": [
        {
         "hovertemplate": "<b>%{hovertext}</b><br><br>class=fire<br>x=%{x}<br>y=%{y}<extra></extra>",
         "hovertext": [
          "charmander",
          "charmeleon",
          "charizard",
          "vulpix",
          "ninetales",
          "growlithe",
          "arcanine",
          "ponyta",
          "rapidash"
         ],
         "legendgroup": "fire",
         "marker": {
          "color": "red",
          "opacity": 0.8,
          "size": 8,
          "symbol": "circle"
         },
         "mode": "markers",
         "name": "fire",
         "orientation": "v",
         "showlegend": true,
         "type": "scatter",
         "x": {
          "bdata": "Qi/+Pz2A/D/GyPk/YnwWQJhIF0B4ohRAahISQPgFE0BsdRNA",
          "dtype": "f4"
         },
         "xaxis": "x",
         "y": {
          "bdata": "DRlLQPO4SkBMTEtAPS4zQDLWMUCH+TNAfe1EQBgcP0DMGD1A",
          "dtype": "f4"
         },
         "yaxis": "y"
        },
        {
         "hovertemplate": "<b>%{hovertext}</b><br><br>class=water<br>x=%{x}<br>y=%{y}<extra></extra>",
         "hovertext": [
          "squirtle",
          "wartortle",
          "blastoise",
          "psyduck",
          "golduck",
          "poliwag",
          "poliwhirl",
          "poliwrath",
          "tentacool",
          "tentacruel",
          "slowpoke",
          "slowbro",
          "seel",
          "dewgong",
          "shellder",
          "cloyster",
          "krabby",
          "kingler"
         ],
         "legendgroup": "water",
         "marker": {
          "color": "blue",
          "opacity": 0.8,
          "size": 8,
          "symbol": "circle"
         },
         "mode": "markers",
         "name": "water",
         "orientation": "v",
         "showlegend": true,
         "type": "scatter",
         "x": {
          "bdata": "dZMEwKJqEcB+6gPAiuINwPDGDsCEZCrAvmUqwCOGJ8AKUVq/4+1iv704yr+FleG/ouL/v2k6BMAa6wTA7soEwBqdEcAaBRHA",
          "dtype": "f4"
         },
         "xaxis": "x",
         "y": {
          "bdata": "RGXOQF3AvkBlb9FAsqK8QCCgvEAST8dAv+rKQNnAz0D3ha5ATqOwQKASyEAlh7tAGkXSQDw3zUAcTtJAa7TOQM8vwECahblA",
          "dtype": "f4"
         },
         "yaxis": "y"
        },
        {
         "hovertemplate": "<b>%{hovertext}</b><br><br>class=grass<br>x=%{x}<br>y=%{y}<extra></extra>",
         "hovertext": [
          "bulbasaur",
          "ivysaur",
          "venusaur",
          "oddish",
          "vileplume",
          "paras",
          "parasect",
          "bellsprout",
          "weepinbell",
          "victreebel",
          "exeggcute",
          "exeggutor"
         ],
         "legendgroup": "grass",
         "marker": {
          "color": "green",
          "opacity": 0.8,
          "size": 8,
          "symbol": "circle"
         },
         "mode": "markers",
         "name": "grass",
         "orientation": "v",
         "showlegend": true,
         "type": "scatter",
         "x": {
          "bdata": "zfFqvPzyDbzCDjK9QnppPYKLhLyHlBM+G+U1Pv48+zx4nOO9mNBOPdntN79gPyO/",
          "dtype": "f4"
         },
         "xaxis": "x",
         "y": {
          "bdata": "2USeQAI8nkA0I51AdbWfQG6rnUCRT5hAruWXQLhAn0CriZpAGfSfQJLjrUDVBq5A",
          "dtype": "f4"
         },
         "yaxis": "y"
        },
        {
         "hovertemplate": "<b>%{hovertext}</b><br><br>class=electric<br>x=%{x}<br>y=%{y}<extra></extra>",
         "hovertext": [
          "pikachu",
          "raichu",
          "magnemite",
          "magneton",
          "voltorb",
          "electrode",
          "electabuzz"
         ],
         "legendgroup": "electric",
         "marker": {
          "color": "yellow",
          "opacity": 0.8,
          "size": 8,
          "symbol": "circle"
         },
         "mode": "markers",
         "name": "electric",
         "orientation": "v",
         "showlegend": true,
         "type": "scatter",
         "x": {
          "bdata": "Cd39v6vf/b8N4v2/NMr9v1fc/b9I4v2/Str9vw==",
          "dtype": "f4"
         },
         "xaxis": "x",
         "y": {
          "bdata": "NUQJQG0XCUCcGAlAPS8JQDUYCUCgGglAckcJQA==",
          "dtype": "f4"
         },
         "yaxis": "y"
        },
        {
         "hovertemplate": "<b>%{hovertext}</b><br><br>class=psychic<br>x=%{x}<br>y=%{y}<extra></extra>",
         "hovertext": [
          "abra",
          "kadabra",
          "alakazam",
          "drowzee",
          "hypno"
         ],
         "legendgroup": "psychic",
         "marker": {
          "color": "purple",
          "opacity": 0.8,
          "size": 8,
          "symbol": "circle"
         },
         "mode": "markers",
         "name": "psychic",
         "orientation": "v",
         "showlegend": true,
         "type": "scatter",
         "x": {
          "bdata": "Vzquv8f6qb93m6O/1Vutvwbas78=",
          "dtype": "f4"
         },
         "xaxis": "x",
         "y": {
          "bdata": "w5C6QBnLvECopb9AGZG6QM/xtkA=",
          "dtype": "f4"
         },
         "yaxis": "y"
        },
        {
         "hovertemplate": "<b>%{hovertext}</b><br><br>class=normal<br>x=%{x}<br>y=%{y}<extra></extra>",
         "hovertext": [
          "pidgey",
          "pidgeotto",
          "pidgeot",
          "rattata",
          "raticate",
          "jigglypuff",
          "wigglytuff",
          "meowth",
          "persian"
         ],
         "legendgroup": "normal",
         "marker": {
          "color": "gray",
          "opacity": 0.8,
          "size": 8,
          "symbol": "circle"
         },
         "mode": "markers",
         "name": "normal",
         "orientation": "v",
         "showlegend": true,
         "type": "scatter",
         "x": {
          "bdata": "uabPP5SSzz+ZcM8/wnnXP6Rs2z+jMOo/9oHlPw1z1T8zAOM/",
          "dtype": "f4"
         },
         "xaxis": "x",
         "y": {
          "bdata": "m29DQFvjQ0DHKERAuYgtQL8uK0DK7CFAexMkQBcRL0BDjiZA",
          "dtype": "f4"
         },
         "yaxis": "y"
        }
       ],
       "layout": {
        "legend": {
         "title": {
          "text": "class"
         },
         "tracegroupgap": 0
        },
        "template": {
         "data": {
          "bar": [
           {
            "error_x": {
             "color": "#2a3f5f"
            },
            "error_y": {
             "color": "#2a3f5f"
            },
            "marker": {
             "line": {
              "color": "#E5ECF6",
              "width": 0.5
             },
             "pattern": {
              "fillmode": "overlay",
              "size": 10,
              "solidity": 0.2
             }
            },
            "type": "bar"
           }
          ],
          "barpolar": [
           {
            "marker": {
             "line": {
              "color": "#E5ECF6",
              "width": 0.5
             },
             "pattern": {
              "fillmode": "overlay",
              "size": 10,
              "solidity": 0.2
             }
            },
            "type": "barpolar"
           }
          ],
          "carpet": [
           {
            "aaxis": {
             "endlinecolor": "#2a3f5f",
             "gridcolor": "white",
             "linecolor": "white",
             "minorgridcolor": "white",
             "startlinecolor": "#2a3f5f"
            },
            "baxis": {
             "endlinecolor": "#2a3f5f",
             "gridcolor": "white",
             "linecolor": "white",
             "minorgridcolor": "white",
             "startlinecolor": "#2a3f5f"
            },
            "type": "carpet"
           }
          ],
          "choropleth": [
           {
            "colorbar": {
             "outlinewidth": 0,
             "ticks": ""
            },
            "type": "choropleth"
           }
          ],
          "contour": [
           {
            "colorbar": {
             "outlinewidth": 0,
             "ticks": ""
            },
            "colorscale": [
             [
              0,
              "#0d0887"
             ],
             [
              0.1111111111111111,
              "#46039f"
             ],
             [
              0.2222222222222222,
              "#7201a8"
             ],
             [
              0.3333333333333333,
              "#9c179e"
             ],
             [
              0.4444444444444444,
              "#bd3786"
             ],
             [
              0.5555555555555556,
              "#d8576b"
             ],
             [
              0.6666666666666666,
              "#ed7953"
             ],
             [
              0.7777777777777778,
              "#fb9f3a"
             ],
             [
              0.8888888888888888,
              "#fdca26"
             ],
             [
              1,
              "#f0f921"
             ]
            ],
            "type": "contour"
           }
          ],
          "contourcarpet": [
           {
            "colorbar": {
             "outlinewidth": 0,
             "ticks": ""
            },
            "type": "contourcarpet"
           }
          ],
          "heatmap": [
           {
            "colorbar": {
             "outlinewidth": 0,
             "ticks": ""
            },
            "colorscale": [
             [
              0,
              "#0d0887"
             ],
             [
              0.1111111111111111,
              "#46039f"
             ],
             [
              0.2222222222222222,
              "#7201a8"
             ],
             [
              0.3333333333333333,
              "#9c179e"
             ],
             [
              0.4444444444444444,
              "#bd3786"
             ],
             [
              0.5555555555555556,
              "#d8576b"
             ],
             [
              0.6666666666666666,
              "#ed7953"
             ],
             [
              0.7777777777777778,
              "#fb9f3a"
             ],
             [
              0.8888888888888888,
              "#fdca26"
             ],
             [
              1,
              "#f0f921"
             ]
            ],
            "type": "heatmap"
           }
          ],
          "histogram": [
           {
            "marker": {
             "pattern": {
              "fillmode": "overlay",
              "size": 10,
              "solidity": 0.2
             }
            },
            "type": "histogram"
           }
          ],
          "histogram2d": [
           {
            "colorbar": {
             "outlinewidth": 0,
             "ticks": ""
            },
            "colorscale": [
             [
              0,
              "#0d0887"
             ],
             [
              0.1111111111111111,
              "#46039f"
             ],
             [
              0.2222222222222222,
              "#7201a8"
             ],
             [
              0.3333333333333333,
              "#9c179e"
             ],
             [
              0.4444444444444444,
              "#bd3786"
             ],
             [
              0.5555555555555556,
              "#d8576b"
             ],
             [
              0.6666666666666666,
              "#ed7953"
             ],
             [
              0.7777777777777778,
              "#fb9f3a"
             ],
             [
              0.8888888888888888,
              "#fdca26"
             ],
             [
              1,
              "#f0f921"
             ]
            ],
            "type": "histogram2d"
           }
          ],
          "histogram2dcontour": [
           {
            "colorbar": {
             "outlinewidth": 0,
             "ticks": ""
            },
            "colorscale": [
             [
              0,
              "#0d0887"
             ],
             [
              0.1111111111111111,
              "#46039f"
             ],
             [
              0.2222222222222222,
              "#7201a8"
             ],
             [
              0.3333333333333333,
              "#9c179e"
             ],
             [
              0.4444444444444444,
              "#bd3786"
             ],
             [
              0.5555555555555556,
              "#d8576b"
             ],
             [
              0.6666666666666666,
              "#ed7953"
             ],
             [
              0.7777777777777778,
              "#fb9f3a"
             ],
             [
              0.8888888888888888,
              "#fdca26"
             ],
             [
              1,
              "#f0f921"
             ]
            ],
            "type": "histogram2dcontour"
           }
          ],
          "mesh3d": [
           {
            "colorbar": {
             "outlinewidth": 0,
             "ticks": ""
            },
            "type": "mesh3d"
           }
          ],
          "parcoords": [
           {
            "line": {
             "colorbar": {
              "outlinewidth": 0,
              "ticks": ""
             }
            },
            "type": "parcoords"
           }
          ],
          "pie": [
           {
            "automargin": true,
            "type": "pie"
           }
          ],
          "scatter": [
           {
            "fillpattern": {
             "fillmode": "overlay",
             "size": 10,
             "solidity": 0.2
            },
            "type": "scatter"
           }
          ],
          "scatter3d": [
           {
            "line": {
             "colorbar": {
              "outlinewidth": 0,
              "ticks": ""
             }
            },
            "marker": {
             "colorbar": {
              "outlinewidth": 0,
              "ticks": ""
             }
            },
            "type": "scatter3d"
           }
          ],
          "scattercarpet": [
           {
            "marker": {
             "colorbar": {
              "outlinewidth": 0,
              "ticks": ""
             }
            },
            "type": "scattercarpet"
           }
          ],
          "scattergeo": [
           {
            "marker": {
             "colorbar": {
              "outlinewidth": 0,
              "ticks": ""
             }
            },
            "type": "scattergeo"
           }
          ],
          "scattergl": [
           {
            "marker": {
             "colorbar": {
              "outlinewidth": 0,
              "ticks": ""
             }
            },
            "type": "scattergl"
           }
          ],
          "scattermap": [
           {
            "marker": {
             "colorbar": {
              "outlinewidth": 0,
              "ticks": ""
             }
            },
            "type": "scattermap"
           }
          ],
          "scattermapbox": [
           {
            "marker": {
             "colorbar": {
              "outlinewidth": 0,
              "ticks": ""
             }
            },
            "type": "scattermapbox"
           }
          ],
          "scatterpolar": [
           {
            "marker": {
             "colorbar": {
              "outlinewidth": 0,
              "ticks": ""
             }
            },
            "type": "scatterpolar"
           }
          ],
          "scatterpolargl": [
           {
            "marker": {
             "colorbar": {
              "outlinewidth": 0,
              "ticks": ""
             }
            },
            "type": "scatterpolargl"
           }
          ],
          "scatterternary": [
           {
            "marker": {
             "colorbar": {
              "outlinewidth": 0,
              "ticks": ""
             }
            },
            "type": "scatterternary"
           }
          ],
          "surface": [
           {
            "colorbar": {
             "outlinewidth": 0,
             "ticks": ""
            },
            "colorscale": [
             [
              0,
              "#0d0887"
             ],
             [
              0.1111111111111111,
              "#46039f"
             ],
             [
              0.2222222222222222,
              "#7201a8"
             ],
             [
              0.3333333333333333,
              "#9c179e"
             ],
             [
              0.4444444444444444,
              "#bd3786"
             ],
             [
              0.5555555555555556,
              "#d8576b"
             ],
             [
              0.6666666666666666,
              "#ed7953"
             ],
             [
              0.7777777777777778,
              "#fb9f3a"
             ],
             [
              0.8888888888888888,
              "#fdca26"
             ],
             [
              1,
              "#f0f921"
             ]
            ],
            "type": "surface"
           }
          ],
          "table": [
           {
            "cells": {
             "fill": {
              "color": "#EBF0F8"
             },
             "line": {
              "color": "white"
             }
            },
            "header": {
             "fill": {
              "color": "#C8D4E3"
             },
             "line": {
              "color": "white"
             }
            },
            "type": "table"
           }
          ]
         },
         "layout": {
          "annotationdefaults": {
           "arrowcolor": "#2a3f5f",
           "arrowhead": 0,
           "arrowwidth": 1
          },
          "autotypenumbers": "strict",
          "coloraxis": {
           "colorbar": {
            "outlinewidth": 0,
            "ticks": ""
           }
          },
          "colorscale": {
           "diverging": [
            [
             0,
             "#8e0152"
            ],
            [
             0.1,
             "#c51b7d"
            ],
            [
             0.2,
             "#de77ae"
            ],
            [
             0.3,
             "#f1b6da"
            ],
            [
             0.4,
             "#fde0ef"
            ],
            [
             0.5,
             "#f7f7f7"
            ],
            [
             0.6,
             "#e6f5d0"
            ],
            [
             0.7,
             "#b8e186"
            ],
            [
             0.8,
             "#7fbc41"
            ],
            [
             0.9,
             "#4d9221"
            ],
            [
             1,
             "#276419"
            ]
           ],
           "sequential": [
            [
             0,
             "#0d0887"
            ],
            [
             0.1111111111111111,
             "#46039f"
            ],
            [
             0.2222222222222222,
             "#7201a8"
            ],
            [
             0.3333333333333333,
             "#9c179e"
            ],
            [
             0.4444444444444444,
             "#bd3786"
            ],
            [
             0.5555555555555556,
             "#d8576b"
            ],
            [
             0.6666666666666666,
             "#ed7953"
            ],
            [
             0.7777777777777778,
             "#fb9f3a"
            ],
            [
             0.8888888888888888,
             "#fdca26"
            ],
            [
             1,
             "#f0f921"
            ]
           ],
           "sequentialminus": [
            [
             0,
             "#0d0887"
            ],
            [
             0.1111111111111111,
             "#46039f"
            ],
            [
             0.2222222222222222,
             "#7201a8"
            ],
            [
             0.3333333333333333,
             "#9c179e"
            ],
            [
             0.4444444444444444,
             "#bd3786"
            ],
            [
             0.5555555555555556,
             "#d8576b"
            ],
            [
             0.6666666666666666,
             "#ed7953"
            ],
            [
             0.7777777777777778,
             "#fb9f3a"
            ],
            [
             0.8888888888888888,
             "#fdca26"
            ],
            [
             1,
             "#f0f921"
            ]
           ]
          },
          "colorway": [
           "#636efa",
           "#EF553B",
           "#00cc96",
           "#ab63fa",
           "#FFA15A",
           "#19d3f3",
           "#FF6692",
           "#B6E880",
           "#FF97FF",
           "#FECB52"
          ],
          "font": {
           "color": "#2a3f5f"
          },
          "geo": {
           "bgcolor": "white",
           "lakecolor": "white",
           "landcolor": "#E5ECF6",
           "showlakes": true,
           "showland": true,
           "subunitcolor": "white"
          },
          "hoverlabel": {
           "align": "left"
          },
          "hovermode": "closest",
          "mapbox": {
           "style": "light"
          },
          "paper_bgcolor": "white",
          "plot_bgcolor": "#E5ECF6",
          "polar": {
           "angularaxis": {
            "gridcolor": "white",
            "linecolor": "white",
            "ticks": ""
           },
           "bgcolor": "#E5ECF6",
           "radialaxis": {
            "gridcolor": "white",
            "linecolor": "white",
            "ticks": ""
           }
          },
          "scene": {
           "xaxis": {
            "backgroundcolor": "#E5ECF6",
            "gridcolor": "white",
            "gridwidth": 2,
            "linecolor": "white",
            "showbackground": true,
            "ticks": "",
            "zerolinecolor": "white"
           },
           "yaxis": {
            "backgroundcolor": "#E5ECF6",
            "gridcolor": "white",
            "gridwidth": 2,
            "linecolor": "white",
            "showbackground": true,
            "ticks": "",
            "zerolinecolor": "white"
           },
           "zaxis": {
            "backgroundcolor": "#E5ECF6",
            "gridcolor": "white",
            "gridwidth": 2,
            "linecolor": "white",
            "showbackground": true,
            "ticks": "",
            "zerolinecolor": "white"
           }
          },
          "shapedefaults": {
           "line": {
            "color": "#2a3f5f"
           }
          },
          "ternary": {
           "aaxis": {
            "gridcolor": "white",
            "linecolor": "white",
            "ticks": ""
           },
           "baxis": {
            "gridcolor": "white",
            "linecolor": "white",
            "ticks": ""
           },
           "bgcolor": "#E5ECF6",
           "caxis": {
            "gridcolor": "white",
            "linecolor": "white",
            "ticks": ""
           }
          },
          "title": {
           "x": 0.05
          },
          "xaxis": {
           "automargin": true,
           "gridcolor": "white",
           "linecolor": "white",
           "ticks": "",
           "title": {
            "standoff": 15
           },
           "zerolinecolor": "white",
           "zerolinewidth": 2
          },
          "yaxis": {
           "automargin": true,
           "gridcolor": "white",
           "linecolor": "white",
           "ticks": "",
           "title": {
            "standoff": 15
           },
           "zerolinecolor": "white",
           "zerolinewidth": 2
          }
         }
        },
        "title": {
         "text": "Word2Vec Pokembeddings"
        },
        "xaxis": {
         "anchor": "y",
         "domain": [
          0,
          1
         ],
         "title": {
          "text": "x"
         }
        },
        "yaxis": {
         "anchor": "x",
         "domain": [
          0,
          1
         ],
         "title": {
          "text": "y"
         }
        }
       }
      }
     },
     "metadata": {},
     "output_type": "display_data"
    }
   ],
   "source": [
    "visualize_embeddings(word2vec, dim=2, words=poke_and_types, title='Word2Vec Pokembeddings',) "
   ]
  },
  {
   "cell_type": "code",
   "execution_count": null,
   "metadata": {},
   "outputs": [],
   "source": [
    "from evaluation_tests.test_types import test_script"
   ]
  },
  {
   "cell_type": "code",
   "execution_count": null,
   "metadata": {},
   "outputs": [
    {
     "name": "stdout",
     "output_type": "stream",
     "text": [
      "Pass: 99.3% (596 of 600)\n",
      " Fail: 0.7% (4 of 600)\n"
     ]
    }
   ],
   "source": [
    "results = test_script(word2vec)"
   ]
  },
  {
   "cell_type": "code",
   "execution_count": null,
   "metadata": {},
   "outputs": [
    {
     "data": {
      "text/plain": [
       "2"
      ]
     },
     "execution_count": 8,
     "metadata": {},
     "output_type": "execute_result"
    }
   ],
   "source": [
    "results.fail_counter"
   ]
  },
  {
   "cell_type": "code",
   "execution_count": null,
   "metadata": {},
   "outputs": [
    {
     "name": "stdout",
     "output_type": "stream",
     "text": [
      "INFO:tensorflow:Assets written to: ./saved_model/assets\n"
     ]
    },
    {
     "name": "stderr",
     "output_type": "stream",
     "text": [
      "INFO:tensorflow:Assets written to: ./saved_model/assets\n"
     ]
    }
   ],
   "source": [
    "# Save the model to a directory\n",
    "model_save_path = \"./saved_model\"\n",
    "word2vec.save(model_save_path)"
   ]
  }
 ],
 "metadata": {
  "kernelspec": {
   "display_name": ".venv",
   "language": "python",
   "name": "python3"
  },
  "language_info": {
   "codemirror_mode": {
    "name": "ipython",
    "version": 3
   },
   "file_extension": ".py",
   "mimetype": "text/x-python",
   "name": "python",
   "nbconvert_exporter": "python",
   "pygments_lexer": "ipython3",
   "version": "3.11.10"
  }
 },
 "nbformat": 4,
 "nbformat_minor": 2
}
